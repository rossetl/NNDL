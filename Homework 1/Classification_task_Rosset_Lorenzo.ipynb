{
  "nbformat": 4,
  "nbformat_minor": 0,
  "metadata": {
    "colab": {
      "name": "Classification_task-Rosset_Lorenzo.ipynb",
      "provenance": [],
      "authorship_tag": "ABX9TyP8dnkJHPt481A/EeOmxCE6"
    },
    "kernelspec": {
      "name": "python3",
      "display_name": "Python 3"
    },
    "language_info": {
      "name": "python"
    },
    "accelerator": "GPU",
    "widgets": {
      "application/vnd.jupyter.widget-state+json": {
        "0b8096817ab64b3ca3e09f69b43999f3": {
          "model_module": "@jupyter-widgets/controls",
          "model_name": "HBoxModel",
          "model_module_version": "1.5.0",
          "state": {
            "_dom_classes": [],
            "_model_module": "@jupyter-widgets/controls",
            "_model_module_version": "1.5.0",
            "_model_name": "HBoxModel",
            "_view_count": null,
            "_view_module": "@jupyter-widgets/controls",
            "_view_module_version": "1.5.0",
            "_view_name": "HBoxView",
            "box_style": "",
            "children": [
              "IPY_MODEL_281dc79b7ba24b7c9c54e1b57875356d",
              "IPY_MODEL_96be8086a34a4cadbd145cfef66da152",
              "IPY_MODEL_7751df15e9fb445c8aad30db65560e32"
            ],
            "layout": "IPY_MODEL_2e8238ba360d4824a3f354b8174fe6af"
          }
        },
        "281dc79b7ba24b7c9c54e1b57875356d": {
          "model_module": "@jupyter-widgets/controls",
          "model_name": "HTMLModel",
          "model_module_version": "1.5.0",
          "state": {
            "_dom_classes": [],
            "_model_module": "@jupyter-widgets/controls",
            "_model_module_version": "1.5.0",
            "_model_name": "HTMLModel",
            "_view_count": null,
            "_view_module": "@jupyter-widgets/controls",
            "_view_module_version": "1.5.0",
            "_view_name": "HTMLView",
            "description": "",
            "description_tooltip": null,
            "layout": "IPY_MODEL_c486f04121fa4de99e6743b4497a99ea",
            "placeholder": "​",
            "style": "IPY_MODEL_48fc88c19abc41b6ab7ff1c2a6ace1dc",
            "value": ""
          }
        },
        "96be8086a34a4cadbd145cfef66da152": {
          "model_module": "@jupyter-widgets/controls",
          "model_name": "FloatProgressModel",
          "model_module_version": "1.5.0",
          "state": {
            "_dom_classes": [],
            "_model_module": "@jupyter-widgets/controls",
            "_model_module_version": "1.5.0",
            "_model_name": "FloatProgressModel",
            "_view_count": null,
            "_view_module": "@jupyter-widgets/controls",
            "_view_module_version": "1.5.0",
            "_view_name": "ProgressView",
            "bar_style": "success",
            "description": "",
            "description_tooltip": null,
            "layout": "IPY_MODEL_26a0a14b92d34a32bd7fbc72d1b52a4e",
            "max": 26421880,
            "min": 0,
            "orientation": "horizontal",
            "style": "IPY_MODEL_6c18e01f0d344ead83291964d84bc417",
            "value": 26421880
          }
        },
        "7751df15e9fb445c8aad30db65560e32": {
          "model_module": "@jupyter-widgets/controls",
          "model_name": "HTMLModel",
          "model_module_version": "1.5.0",
          "state": {
            "_dom_classes": [],
            "_model_module": "@jupyter-widgets/controls",
            "_model_module_version": "1.5.0",
            "_model_name": "HTMLModel",
            "_view_count": null,
            "_view_module": "@jupyter-widgets/controls",
            "_view_module_version": "1.5.0",
            "_view_name": "HTMLView",
            "description": "",
            "description_tooltip": null,
            "layout": "IPY_MODEL_b6502ed28c0b4760962a3aa512c2206f",
            "placeholder": "​",
            "style": "IPY_MODEL_4e189a6f447d492dbfd48e41d5b7c489",
            "value": " 26422272/? [00:04&lt;00:00, 9850376.05it/s]"
          }
        },
        "2e8238ba360d4824a3f354b8174fe6af": {
          "model_module": "@jupyter-widgets/base",
          "model_name": "LayoutModel",
          "model_module_version": "1.2.0",
          "state": {
            "_model_module": "@jupyter-widgets/base",
            "_model_module_version": "1.2.0",
            "_model_name": "LayoutModel",
            "_view_count": null,
            "_view_module": "@jupyter-widgets/base",
            "_view_module_version": "1.2.0",
            "_view_name": "LayoutView",
            "align_content": null,
            "align_items": null,
            "align_self": null,
            "border": null,
            "bottom": null,
            "display": null,
            "flex": null,
            "flex_flow": null,
            "grid_area": null,
            "grid_auto_columns": null,
            "grid_auto_flow": null,
            "grid_auto_rows": null,
            "grid_column": null,
            "grid_gap": null,
            "grid_row": null,
            "grid_template_areas": null,
            "grid_template_columns": null,
            "grid_template_rows": null,
            "height": null,
            "justify_content": null,
            "justify_items": null,
            "left": null,
            "margin": null,
            "max_height": null,
            "max_width": null,
            "min_height": null,
            "min_width": null,
            "object_fit": null,
            "object_position": null,
            "order": null,
            "overflow": null,
            "overflow_x": null,
            "overflow_y": null,
            "padding": null,
            "right": null,
            "top": null,
            "visibility": null,
            "width": null
          }
        },
        "c486f04121fa4de99e6743b4497a99ea": {
          "model_module": "@jupyter-widgets/base",
          "model_name": "LayoutModel",
          "model_module_version": "1.2.0",
          "state": {
            "_model_module": "@jupyter-widgets/base",
            "_model_module_version": "1.2.0",
            "_model_name": "LayoutModel",
            "_view_count": null,
            "_view_module": "@jupyter-widgets/base",
            "_view_module_version": "1.2.0",
            "_view_name": "LayoutView",
            "align_content": null,
            "align_items": null,
            "align_self": null,
            "border": null,
            "bottom": null,
            "display": null,
            "flex": null,
            "flex_flow": null,
            "grid_area": null,
            "grid_auto_columns": null,
            "grid_auto_flow": null,
            "grid_auto_rows": null,
            "grid_column": null,
            "grid_gap": null,
            "grid_row": null,
            "grid_template_areas": null,
            "grid_template_columns": null,
            "grid_template_rows": null,
            "height": null,
            "justify_content": null,
            "justify_items": null,
            "left": null,
            "margin": null,
            "max_height": null,
            "max_width": null,
            "min_height": null,
            "min_width": null,
            "object_fit": null,
            "object_position": null,
            "order": null,
            "overflow": null,
            "overflow_x": null,
            "overflow_y": null,
            "padding": null,
            "right": null,
            "top": null,
            "visibility": null,
            "width": null
          }
        },
        "48fc88c19abc41b6ab7ff1c2a6ace1dc": {
          "model_module": "@jupyter-widgets/controls",
          "model_name": "DescriptionStyleModel",
          "model_module_version": "1.5.0",
          "state": {
            "_model_module": "@jupyter-widgets/controls",
            "_model_module_version": "1.5.0",
            "_model_name": "DescriptionStyleModel",
            "_view_count": null,
            "_view_module": "@jupyter-widgets/base",
            "_view_module_version": "1.2.0",
            "_view_name": "StyleView",
            "description_width": ""
          }
        },
        "26a0a14b92d34a32bd7fbc72d1b52a4e": {
          "model_module": "@jupyter-widgets/base",
          "model_name": "LayoutModel",
          "model_module_version": "1.2.0",
          "state": {
            "_model_module": "@jupyter-widgets/base",
            "_model_module_version": "1.2.0",
            "_model_name": "LayoutModel",
            "_view_count": null,
            "_view_module": "@jupyter-widgets/base",
            "_view_module_version": "1.2.0",
            "_view_name": "LayoutView",
            "align_content": null,
            "align_items": null,
            "align_self": null,
            "border": null,
            "bottom": null,
            "display": null,
            "flex": null,
            "flex_flow": null,
            "grid_area": null,
            "grid_auto_columns": null,
            "grid_auto_flow": null,
            "grid_auto_rows": null,
            "grid_column": null,
            "grid_gap": null,
            "grid_row": null,
            "grid_template_areas": null,
            "grid_template_columns": null,
            "grid_template_rows": null,
            "height": null,
            "justify_content": null,
            "justify_items": null,
            "left": null,
            "margin": null,
            "max_height": null,
            "max_width": null,
            "min_height": null,
            "min_width": null,
            "object_fit": null,
            "object_position": null,
            "order": null,
            "overflow": null,
            "overflow_x": null,
            "overflow_y": null,
            "padding": null,
            "right": null,
            "top": null,
            "visibility": null,
            "width": null
          }
        },
        "6c18e01f0d344ead83291964d84bc417": {
          "model_module": "@jupyter-widgets/controls",
          "model_name": "ProgressStyleModel",
          "model_module_version": "1.5.0",
          "state": {
            "_model_module": "@jupyter-widgets/controls",
            "_model_module_version": "1.5.0",
            "_model_name": "ProgressStyleModel",
            "_view_count": null,
            "_view_module": "@jupyter-widgets/base",
            "_view_module_version": "1.2.0",
            "_view_name": "StyleView",
            "bar_color": null,
            "description_width": ""
          }
        },
        "b6502ed28c0b4760962a3aa512c2206f": {
          "model_module": "@jupyter-widgets/base",
          "model_name": "LayoutModel",
          "model_module_version": "1.2.0",
          "state": {
            "_model_module": "@jupyter-widgets/base",
            "_model_module_version": "1.2.0",
            "_model_name": "LayoutModel",
            "_view_count": null,
            "_view_module": "@jupyter-widgets/base",
            "_view_module_version": "1.2.0",
            "_view_name": "LayoutView",
            "align_content": null,
            "align_items": null,
            "align_self": null,
            "border": null,
            "bottom": null,
            "display": null,
            "flex": null,
            "flex_flow": null,
            "grid_area": null,
            "grid_auto_columns": null,
            "grid_auto_flow": null,
            "grid_auto_rows": null,
            "grid_column": null,
            "grid_gap": null,
            "grid_row": null,
            "grid_template_areas": null,
            "grid_template_columns": null,
            "grid_template_rows": null,
            "height": null,
            "justify_content": null,
            "justify_items": null,
            "left": null,
            "margin": null,
            "max_height": null,
            "max_width": null,
            "min_height": null,
            "min_width": null,
            "object_fit": null,
            "object_position": null,
            "order": null,
            "overflow": null,
            "overflow_x": null,
            "overflow_y": null,
            "padding": null,
            "right": null,
            "top": null,
            "visibility": null,
            "width": null
          }
        },
        "4e189a6f447d492dbfd48e41d5b7c489": {
          "model_module": "@jupyter-widgets/controls",
          "model_name": "DescriptionStyleModel",
          "model_module_version": "1.5.0",
          "state": {
            "_model_module": "@jupyter-widgets/controls",
            "_model_module_version": "1.5.0",
            "_model_name": "DescriptionStyleModel",
            "_view_count": null,
            "_view_module": "@jupyter-widgets/base",
            "_view_module_version": "1.2.0",
            "_view_name": "StyleView",
            "description_width": ""
          }
        },
        "12c7fc571d4b4447acf581f0d7150728": {
          "model_module": "@jupyter-widgets/controls",
          "model_name": "HBoxModel",
          "model_module_version": "1.5.0",
          "state": {
            "_dom_classes": [],
            "_model_module": "@jupyter-widgets/controls",
            "_model_module_version": "1.5.0",
            "_model_name": "HBoxModel",
            "_view_count": null,
            "_view_module": "@jupyter-widgets/controls",
            "_view_module_version": "1.5.0",
            "_view_name": "HBoxView",
            "box_style": "",
            "children": [
              "IPY_MODEL_55707ede2c324aae8b8fa2c7ae2d5107",
              "IPY_MODEL_435e30562e174a7db42138767ffc1197",
              "IPY_MODEL_707024c3958941529b82fcb54ea8e3b9"
            ],
            "layout": "IPY_MODEL_4a8ca865b7b240b699f8b9ead2815293"
          }
        },
        "55707ede2c324aae8b8fa2c7ae2d5107": {
          "model_module": "@jupyter-widgets/controls",
          "model_name": "HTMLModel",
          "model_module_version": "1.5.0",
          "state": {
            "_dom_classes": [],
            "_model_module": "@jupyter-widgets/controls",
            "_model_module_version": "1.5.0",
            "_model_name": "HTMLModel",
            "_view_count": null,
            "_view_module": "@jupyter-widgets/controls",
            "_view_module_version": "1.5.0",
            "_view_name": "HTMLView",
            "description": "",
            "description_tooltip": null,
            "layout": "IPY_MODEL_0769b5bf18954f2bac6f621fddf36138",
            "placeholder": "​",
            "style": "IPY_MODEL_9b6fef1f2e5e4c43953c7f11a8f6a306",
            "value": ""
          }
        },
        "435e30562e174a7db42138767ffc1197": {
          "model_module": "@jupyter-widgets/controls",
          "model_name": "FloatProgressModel",
          "model_module_version": "1.5.0",
          "state": {
            "_dom_classes": [],
            "_model_module": "@jupyter-widgets/controls",
            "_model_module_version": "1.5.0",
            "_model_name": "FloatProgressModel",
            "_view_count": null,
            "_view_module": "@jupyter-widgets/controls",
            "_view_module_version": "1.5.0",
            "_view_name": "ProgressView",
            "bar_style": "success",
            "description": "",
            "description_tooltip": null,
            "layout": "IPY_MODEL_3ad5e901f47c4fea8a62e5f200c8b508",
            "max": 29515,
            "min": 0,
            "orientation": "horizontal",
            "style": "IPY_MODEL_a2a36ce3f3fc4ee583c9f61a6acedfa9",
            "value": 29515
          }
        },
        "707024c3958941529b82fcb54ea8e3b9": {
          "model_module": "@jupyter-widgets/controls",
          "model_name": "HTMLModel",
          "model_module_version": "1.5.0",
          "state": {
            "_dom_classes": [],
            "_model_module": "@jupyter-widgets/controls",
            "_model_module_version": "1.5.0",
            "_model_name": "HTMLModel",
            "_view_count": null,
            "_view_module": "@jupyter-widgets/controls",
            "_view_module_version": "1.5.0",
            "_view_name": "HTMLView",
            "description": "",
            "description_tooltip": null,
            "layout": "IPY_MODEL_e428091ee78a4aada28760740ca04d11",
            "placeholder": "​",
            "style": "IPY_MODEL_70b3aabf273746e4baa432be221ff9fc",
            "value": " 29696/? [00:00&lt;00:00, 52116.72it/s]"
          }
        },
        "4a8ca865b7b240b699f8b9ead2815293": {
          "model_module": "@jupyter-widgets/base",
          "model_name": "LayoutModel",
          "model_module_version": "1.2.0",
          "state": {
            "_model_module": "@jupyter-widgets/base",
            "_model_module_version": "1.2.0",
            "_model_name": "LayoutModel",
            "_view_count": null,
            "_view_module": "@jupyter-widgets/base",
            "_view_module_version": "1.2.0",
            "_view_name": "LayoutView",
            "align_content": null,
            "align_items": null,
            "align_self": null,
            "border": null,
            "bottom": null,
            "display": null,
            "flex": null,
            "flex_flow": null,
            "grid_area": null,
            "grid_auto_columns": null,
            "grid_auto_flow": null,
            "grid_auto_rows": null,
            "grid_column": null,
            "grid_gap": null,
            "grid_row": null,
            "grid_template_areas": null,
            "grid_template_columns": null,
            "grid_template_rows": null,
            "height": null,
            "justify_content": null,
            "justify_items": null,
            "left": null,
            "margin": null,
            "max_height": null,
            "max_width": null,
            "min_height": null,
            "min_width": null,
            "object_fit": null,
            "object_position": null,
            "order": null,
            "overflow": null,
            "overflow_x": null,
            "overflow_y": null,
            "padding": null,
            "right": null,
            "top": null,
            "visibility": null,
            "width": null
          }
        },
        "0769b5bf18954f2bac6f621fddf36138": {
          "model_module": "@jupyter-widgets/base",
          "model_name": "LayoutModel",
          "model_module_version": "1.2.0",
          "state": {
            "_model_module": "@jupyter-widgets/base",
            "_model_module_version": "1.2.0",
            "_model_name": "LayoutModel",
            "_view_count": null,
            "_view_module": "@jupyter-widgets/base",
            "_view_module_version": "1.2.0",
            "_view_name": "LayoutView",
            "align_content": null,
            "align_items": null,
            "align_self": null,
            "border": null,
            "bottom": null,
            "display": null,
            "flex": null,
            "flex_flow": null,
            "grid_area": null,
            "grid_auto_columns": null,
            "grid_auto_flow": null,
            "grid_auto_rows": null,
            "grid_column": null,
            "grid_gap": null,
            "grid_row": null,
            "grid_template_areas": null,
            "grid_template_columns": null,
            "grid_template_rows": null,
            "height": null,
            "justify_content": null,
            "justify_items": null,
            "left": null,
            "margin": null,
            "max_height": null,
            "max_width": null,
            "min_height": null,
            "min_width": null,
            "object_fit": null,
            "object_position": null,
            "order": null,
            "overflow": null,
            "overflow_x": null,
            "overflow_y": null,
            "padding": null,
            "right": null,
            "top": null,
            "visibility": null,
            "width": null
          }
        },
        "9b6fef1f2e5e4c43953c7f11a8f6a306": {
          "model_module": "@jupyter-widgets/controls",
          "model_name": "DescriptionStyleModel",
          "model_module_version": "1.5.0",
          "state": {
            "_model_module": "@jupyter-widgets/controls",
            "_model_module_version": "1.5.0",
            "_model_name": "DescriptionStyleModel",
            "_view_count": null,
            "_view_module": "@jupyter-widgets/base",
            "_view_module_version": "1.2.0",
            "_view_name": "StyleView",
            "description_width": ""
          }
        },
        "3ad5e901f47c4fea8a62e5f200c8b508": {
          "model_module": "@jupyter-widgets/base",
          "model_name": "LayoutModel",
          "model_module_version": "1.2.0",
          "state": {
            "_model_module": "@jupyter-widgets/base",
            "_model_module_version": "1.2.0",
            "_model_name": "LayoutModel",
            "_view_count": null,
            "_view_module": "@jupyter-widgets/base",
            "_view_module_version": "1.2.0",
            "_view_name": "LayoutView",
            "align_content": null,
            "align_items": null,
            "align_self": null,
            "border": null,
            "bottom": null,
            "display": null,
            "flex": null,
            "flex_flow": null,
            "grid_area": null,
            "grid_auto_columns": null,
            "grid_auto_flow": null,
            "grid_auto_rows": null,
            "grid_column": null,
            "grid_gap": null,
            "grid_row": null,
            "grid_template_areas": null,
            "grid_template_columns": null,
            "grid_template_rows": null,
            "height": null,
            "justify_content": null,
            "justify_items": null,
            "left": null,
            "margin": null,
            "max_height": null,
            "max_width": null,
            "min_height": null,
            "min_width": null,
            "object_fit": null,
            "object_position": null,
            "order": null,
            "overflow": null,
            "overflow_x": null,
            "overflow_y": null,
            "padding": null,
            "right": null,
            "top": null,
            "visibility": null,
            "width": null
          }
        },
        "a2a36ce3f3fc4ee583c9f61a6acedfa9": {
          "model_module": "@jupyter-widgets/controls",
          "model_name": "ProgressStyleModel",
          "model_module_version": "1.5.0",
          "state": {
            "_model_module": "@jupyter-widgets/controls",
            "_model_module_version": "1.5.0",
            "_model_name": "ProgressStyleModel",
            "_view_count": null,
            "_view_module": "@jupyter-widgets/base",
            "_view_module_version": "1.2.0",
            "_view_name": "StyleView",
            "bar_color": null,
            "description_width": ""
          }
        },
        "e428091ee78a4aada28760740ca04d11": {
          "model_module": "@jupyter-widgets/base",
          "model_name": "LayoutModel",
          "model_module_version": "1.2.0",
          "state": {
            "_model_module": "@jupyter-widgets/base",
            "_model_module_version": "1.2.0",
            "_model_name": "LayoutModel",
            "_view_count": null,
            "_view_module": "@jupyter-widgets/base",
            "_view_module_version": "1.2.0",
            "_view_name": "LayoutView",
            "align_content": null,
            "align_items": null,
            "align_self": null,
            "border": null,
            "bottom": null,
            "display": null,
            "flex": null,
            "flex_flow": null,
            "grid_area": null,
            "grid_auto_columns": null,
            "grid_auto_flow": null,
            "grid_auto_rows": null,
            "grid_column": null,
            "grid_gap": null,
            "grid_row": null,
            "grid_template_areas": null,
            "grid_template_columns": null,
            "grid_template_rows": null,
            "height": null,
            "justify_content": null,
            "justify_items": null,
            "left": null,
            "margin": null,
            "max_height": null,
            "max_width": null,
            "min_height": null,
            "min_width": null,
            "object_fit": null,
            "object_position": null,
            "order": null,
            "overflow": null,
            "overflow_x": null,
            "overflow_y": null,
            "padding": null,
            "right": null,
            "top": null,
            "visibility": null,
            "width": null
          }
        },
        "70b3aabf273746e4baa432be221ff9fc": {
          "model_module": "@jupyter-widgets/controls",
          "model_name": "DescriptionStyleModel",
          "model_module_version": "1.5.0",
          "state": {
            "_model_module": "@jupyter-widgets/controls",
            "_model_module_version": "1.5.0",
            "_model_name": "DescriptionStyleModel",
            "_view_count": null,
            "_view_module": "@jupyter-widgets/base",
            "_view_module_version": "1.2.0",
            "_view_name": "StyleView",
            "description_width": ""
          }
        },
        "b83284275bf540308aea28688d57ccb3": {
          "model_module": "@jupyter-widgets/controls",
          "model_name": "HBoxModel",
          "model_module_version": "1.5.0",
          "state": {
            "_dom_classes": [],
            "_model_module": "@jupyter-widgets/controls",
            "_model_module_version": "1.5.0",
            "_model_name": "HBoxModel",
            "_view_count": null,
            "_view_module": "@jupyter-widgets/controls",
            "_view_module_version": "1.5.0",
            "_view_name": "HBoxView",
            "box_style": "",
            "children": [
              "IPY_MODEL_64005a5c6a424a2ba5f07622217a720e",
              "IPY_MODEL_2ff9d43f3def4d61a16be22ed2c90f47",
              "IPY_MODEL_45ef4ada5f5e4652928742cf236a2eb1"
            ],
            "layout": "IPY_MODEL_256f0d04595047a79a7239415238dbf9"
          }
        },
        "64005a5c6a424a2ba5f07622217a720e": {
          "model_module": "@jupyter-widgets/controls",
          "model_name": "HTMLModel",
          "model_module_version": "1.5.0",
          "state": {
            "_dom_classes": [],
            "_model_module": "@jupyter-widgets/controls",
            "_model_module_version": "1.5.0",
            "_model_name": "HTMLModel",
            "_view_count": null,
            "_view_module": "@jupyter-widgets/controls",
            "_view_module_version": "1.5.0",
            "_view_name": "HTMLView",
            "description": "",
            "description_tooltip": null,
            "layout": "IPY_MODEL_672bb61be12a45a28e11de12bc01a434",
            "placeholder": "​",
            "style": "IPY_MODEL_36040faa11714ee5997f27e5c626e69a",
            "value": ""
          }
        },
        "2ff9d43f3def4d61a16be22ed2c90f47": {
          "model_module": "@jupyter-widgets/controls",
          "model_name": "FloatProgressModel",
          "model_module_version": "1.5.0",
          "state": {
            "_dom_classes": [],
            "_model_module": "@jupyter-widgets/controls",
            "_model_module_version": "1.5.0",
            "_model_name": "FloatProgressModel",
            "_view_count": null,
            "_view_module": "@jupyter-widgets/controls",
            "_view_module_version": "1.5.0",
            "_view_name": "ProgressView",
            "bar_style": "success",
            "description": "",
            "description_tooltip": null,
            "layout": "IPY_MODEL_526ef2fbc1954d02840cfef8b3de0fa6",
            "max": 4422102,
            "min": 0,
            "orientation": "horizontal",
            "style": "IPY_MODEL_dc829189f978473fbf72c218bb2ab051",
            "value": 4422102
          }
        },
        "45ef4ada5f5e4652928742cf236a2eb1": {
          "model_module": "@jupyter-widgets/controls",
          "model_name": "HTMLModel",
          "model_module_version": "1.5.0",
          "state": {
            "_dom_classes": [],
            "_model_module": "@jupyter-widgets/controls",
            "_model_module_version": "1.5.0",
            "_model_name": "HTMLModel",
            "_view_count": null,
            "_view_module": "@jupyter-widgets/controls",
            "_view_module_version": "1.5.0",
            "_view_name": "HTMLView",
            "description": "",
            "description_tooltip": null,
            "layout": "IPY_MODEL_7a5d98cb194d4b1e82e0ead74b928f63",
            "placeholder": "​",
            "style": "IPY_MODEL_591746f2c0a9462f83614eb81cd7453c",
            "value": " 4422656/? [00:02&lt;00:00, 3240330.11it/s]"
          }
        },
        "256f0d04595047a79a7239415238dbf9": {
          "model_module": "@jupyter-widgets/base",
          "model_name": "LayoutModel",
          "model_module_version": "1.2.0",
          "state": {
            "_model_module": "@jupyter-widgets/base",
            "_model_module_version": "1.2.0",
            "_model_name": "LayoutModel",
            "_view_count": null,
            "_view_module": "@jupyter-widgets/base",
            "_view_module_version": "1.2.0",
            "_view_name": "LayoutView",
            "align_content": null,
            "align_items": null,
            "align_self": null,
            "border": null,
            "bottom": null,
            "display": null,
            "flex": null,
            "flex_flow": null,
            "grid_area": null,
            "grid_auto_columns": null,
            "grid_auto_flow": null,
            "grid_auto_rows": null,
            "grid_column": null,
            "grid_gap": null,
            "grid_row": null,
            "grid_template_areas": null,
            "grid_template_columns": null,
            "grid_template_rows": null,
            "height": null,
            "justify_content": null,
            "justify_items": null,
            "left": null,
            "margin": null,
            "max_height": null,
            "max_width": null,
            "min_height": null,
            "min_width": null,
            "object_fit": null,
            "object_position": null,
            "order": null,
            "overflow": null,
            "overflow_x": null,
            "overflow_y": null,
            "padding": null,
            "right": null,
            "top": null,
            "visibility": null,
            "width": null
          }
        },
        "672bb61be12a45a28e11de12bc01a434": {
          "model_module": "@jupyter-widgets/base",
          "model_name": "LayoutModel",
          "model_module_version": "1.2.0",
          "state": {
            "_model_module": "@jupyter-widgets/base",
            "_model_module_version": "1.2.0",
            "_model_name": "LayoutModel",
            "_view_count": null,
            "_view_module": "@jupyter-widgets/base",
            "_view_module_version": "1.2.0",
            "_view_name": "LayoutView",
            "align_content": null,
            "align_items": null,
            "align_self": null,
            "border": null,
            "bottom": null,
            "display": null,
            "flex": null,
            "flex_flow": null,
            "grid_area": null,
            "grid_auto_columns": null,
            "grid_auto_flow": null,
            "grid_auto_rows": null,
            "grid_column": null,
            "grid_gap": null,
            "grid_row": null,
            "grid_template_areas": null,
            "grid_template_columns": null,
            "grid_template_rows": null,
            "height": null,
            "justify_content": null,
            "justify_items": null,
            "left": null,
            "margin": null,
            "max_height": null,
            "max_width": null,
            "min_height": null,
            "min_width": null,
            "object_fit": null,
            "object_position": null,
            "order": null,
            "overflow": null,
            "overflow_x": null,
            "overflow_y": null,
            "padding": null,
            "right": null,
            "top": null,
            "visibility": null,
            "width": null
          }
        },
        "36040faa11714ee5997f27e5c626e69a": {
          "model_module": "@jupyter-widgets/controls",
          "model_name": "DescriptionStyleModel",
          "model_module_version": "1.5.0",
          "state": {
            "_model_module": "@jupyter-widgets/controls",
            "_model_module_version": "1.5.0",
            "_model_name": "DescriptionStyleModel",
            "_view_count": null,
            "_view_module": "@jupyter-widgets/base",
            "_view_module_version": "1.2.0",
            "_view_name": "StyleView",
            "description_width": ""
          }
        },
        "526ef2fbc1954d02840cfef8b3de0fa6": {
          "model_module": "@jupyter-widgets/base",
          "model_name": "LayoutModel",
          "model_module_version": "1.2.0",
          "state": {
            "_model_module": "@jupyter-widgets/base",
            "_model_module_version": "1.2.0",
            "_model_name": "LayoutModel",
            "_view_count": null,
            "_view_module": "@jupyter-widgets/base",
            "_view_module_version": "1.2.0",
            "_view_name": "LayoutView",
            "align_content": null,
            "align_items": null,
            "align_self": null,
            "border": null,
            "bottom": null,
            "display": null,
            "flex": null,
            "flex_flow": null,
            "grid_area": null,
            "grid_auto_columns": null,
            "grid_auto_flow": null,
            "grid_auto_rows": null,
            "grid_column": null,
            "grid_gap": null,
            "grid_row": null,
            "grid_template_areas": null,
            "grid_template_columns": null,
            "grid_template_rows": null,
            "height": null,
            "justify_content": null,
            "justify_items": null,
            "left": null,
            "margin": null,
            "max_height": null,
            "max_width": null,
            "min_height": null,
            "min_width": null,
            "object_fit": null,
            "object_position": null,
            "order": null,
            "overflow": null,
            "overflow_x": null,
            "overflow_y": null,
            "padding": null,
            "right": null,
            "top": null,
            "visibility": null,
            "width": null
          }
        },
        "dc829189f978473fbf72c218bb2ab051": {
          "model_module": "@jupyter-widgets/controls",
          "model_name": "ProgressStyleModel",
          "model_module_version": "1.5.0",
          "state": {
            "_model_module": "@jupyter-widgets/controls",
            "_model_module_version": "1.5.0",
            "_model_name": "ProgressStyleModel",
            "_view_count": null,
            "_view_module": "@jupyter-widgets/base",
            "_view_module_version": "1.2.0",
            "_view_name": "StyleView",
            "bar_color": null,
            "description_width": ""
          }
        },
        "7a5d98cb194d4b1e82e0ead74b928f63": {
          "model_module": "@jupyter-widgets/base",
          "model_name": "LayoutModel",
          "model_module_version": "1.2.0",
          "state": {
            "_model_module": "@jupyter-widgets/base",
            "_model_module_version": "1.2.0",
            "_model_name": "LayoutModel",
            "_view_count": null,
            "_view_module": "@jupyter-widgets/base",
            "_view_module_version": "1.2.0",
            "_view_name": "LayoutView",
            "align_content": null,
            "align_items": null,
            "align_self": null,
            "border": null,
            "bottom": null,
            "display": null,
            "flex": null,
            "flex_flow": null,
            "grid_area": null,
            "grid_auto_columns": null,
            "grid_auto_flow": null,
            "grid_auto_rows": null,
            "grid_column": null,
            "grid_gap": null,
            "grid_row": null,
            "grid_template_areas": null,
            "grid_template_columns": null,
            "grid_template_rows": null,
            "height": null,
            "justify_content": null,
            "justify_items": null,
            "left": null,
            "margin": null,
            "max_height": null,
            "max_width": null,
            "min_height": null,
            "min_width": null,
            "object_fit": null,
            "object_position": null,
            "order": null,
            "overflow": null,
            "overflow_x": null,
            "overflow_y": null,
            "padding": null,
            "right": null,
            "top": null,
            "visibility": null,
            "width": null
          }
        },
        "591746f2c0a9462f83614eb81cd7453c": {
          "model_module": "@jupyter-widgets/controls",
          "model_name": "DescriptionStyleModel",
          "model_module_version": "1.5.0",
          "state": {
            "_model_module": "@jupyter-widgets/controls",
            "_model_module_version": "1.5.0",
            "_model_name": "DescriptionStyleModel",
            "_view_count": null,
            "_view_module": "@jupyter-widgets/base",
            "_view_module_version": "1.2.0",
            "_view_name": "StyleView",
            "description_width": ""
          }
        },
        "d3b6abac56904a68bb367af4bf212c36": {
          "model_module": "@jupyter-widgets/controls",
          "model_name": "HBoxModel",
          "model_module_version": "1.5.0",
          "state": {
            "_dom_classes": [],
            "_model_module": "@jupyter-widgets/controls",
            "_model_module_version": "1.5.0",
            "_model_name": "HBoxModel",
            "_view_count": null,
            "_view_module": "@jupyter-widgets/controls",
            "_view_module_version": "1.5.0",
            "_view_name": "HBoxView",
            "box_style": "",
            "children": [
              "IPY_MODEL_e4a6fd86904544fd84265f555a1ead35",
              "IPY_MODEL_e80beae932a54f8b96b29543b740e8bb",
              "IPY_MODEL_ccbedc31e49a458cb02f5aaf511eb715"
            ],
            "layout": "IPY_MODEL_3d166a84976d4094984a5dbceb8def58"
          }
        },
        "e4a6fd86904544fd84265f555a1ead35": {
          "model_module": "@jupyter-widgets/controls",
          "model_name": "HTMLModel",
          "model_module_version": "1.5.0",
          "state": {
            "_dom_classes": [],
            "_model_module": "@jupyter-widgets/controls",
            "_model_module_version": "1.5.0",
            "_model_name": "HTMLModel",
            "_view_count": null,
            "_view_module": "@jupyter-widgets/controls",
            "_view_module_version": "1.5.0",
            "_view_name": "HTMLView",
            "description": "",
            "description_tooltip": null,
            "layout": "IPY_MODEL_c8783c04edc74953b170c0f98bbe4b4e",
            "placeholder": "​",
            "style": "IPY_MODEL_ebd2670ad34240ba8cd1966c328c29ba",
            "value": ""
          }
        },
        "e80beae932a54f8b96b29543b740e8bb": {
          "model_module": "@jupyter-widgets/controls",
          "model_name": "FloatProgressModel",
          "model_module_version": "1.5.0",
          "state": {
            "_dom_classes": [],
            "_model_module": "@jupyter-widgets/controls",
            "_model_module_version": "1.5.0",
            "_model_name": "FloatProgressModel",
            "_view_count": null,
            "_view_module": "@jupyter-widgets/controls",
            "_view_module_version": "1.5.0",
            "_view_name": "ProgressView",
            "bar_style": "success",
            "description": "",
            "description_tooltip": null,
            "layout": "IPY_MODEL_ef13c5101cee4bfe952f6b0fecbf0c61",
            "max": 5148,
            "min": 0,
            "orientation": "horizontal",
            "style": "IPY_MODEL_6fc7ceb1d04e41c8bc5061fbf135f598",
            "value": 5148
          }
        },
        "ccbedc31e49a458cb02f5aaf511eb715": {
          "model_module": "@jupyter-widgets/controls",
          "model_name": "HTMLModel",
          "model_module_version": "1.5.0",
          "state": {
            "_dom_classes": [],
            "_model_module": "@jupyter-widgets/controls",
            "_model_module_version": "1.5.0",
            "_model_name": "HTMLModel",
            "_view_count": null,
            "_view_module": "@jupyter-widgets/controls",
            "_view_module_version": "1.5.0",
            "_view_name": "HTMLView",
            "description": "",
            "description_tooltip": null,
            "layout": "IPY_MODEL_e77b82d7892244ee9d2097ee91c8fb7e",
            "placeholder": "​",
            "style": "IPY_MODEL_76d128c3f9e44edaa66fc2b381c47e60",
            "value": " 6144/? [00:00&lt;00:00, 237847.30it/s]"
          }
        },
        "3d166a84976d4094984a5dbceb8def58": {
          "model_module": "@jupyter-widgets/base",
          "model_name": "LayoutModel",
          "model_module_version": "1.2.0",
          "state": {
            "_model_module": "@jupyter-widgets/base",
            "_model_module_version": "1.2.0",
            "_model_name": "LayoutModel",
            "_view_count": null,
            "_view_module": "@jupyter-widgets/base",
            "_view_module_version": "1.2.0",
            "_view_name": "LayoutView",
            "align_content": null,
            "align_items": null,
            "align_self": null,
            "border": null,
            "bottom": null,
            "display": null,
            "flex": null,
            "flex_flow": null,
            "grid_area": null,
            "grid_auto_columns": null,
            "grid_auto_flow": null,
            "grid_auto_rows": null,
            "grid_column": null,
            "grid_gap": null,
            "grid_row": null,
            "grid_template_areas": null,
            "grid_template_columns": null,
            "grid_template_rows": null,
            "height": null,
            "justify_content": null,
            "justify_items": null,
            "left": null,
            "margin": null,
            "max_height": null,
            "max_width": null,
            "min_height": null,
            "min_width": null,
            "object_fit": null,
            "object_position": null,
            "order": null,
            "overflow": null,
            "overflow_x": null,
            "overflow_y": null,
            "padding": null,
            "right": null,
            "top": null,
            "visibility": null,
            "width": null
          }
        },
        "c8783c04edc74953b170c0f98bbe4b4e": {
          "model_module": "@jupyter-widgets/base",
          "model_name": "LayoutModel",
          "model_module_version": "1.2.0",
          "state": {
            "_model_module": "@jupyter-widgets/base",
            "_model_module_version": "1.2.0",
            "_model_name": "LayoutModel",
            "_view_count": null,
            "_view_module": "@jupyter-widgets/base",
            "_view_module_version": "1.2.0",
            "_view_name": "LayoutView",
            "align_content": null,
            "align_items": null,
            "align_self": null,
            "border": null,
            "bottom": null,
            "display": null,
            "flex": null,
            "flex_flow": null,
            "grid_area": null,
            "grid_auto_columns": null,
            "grid_auto_flow": null,
            "grid_auto_rows": null,
            "grid_column": null,
            "grid_gap": null,
            "grid_row": null,
            "grid_template_areas": null,
            "grid_template_columns": null,
            "grid_template_rows": null,
            "height": null,
            "justify_content": null,
            "justify_items": null,
            "left": null,
            "margin": null,
            "max_height": null,
            "max_width": null,
            "min_height": null,
            "min_width": null,
            "object_fit": null,
            "object_position": null,
            "order": null,
            "overflow": null,
            "overflow_x": null,
            "overflow_y": null,
            "padding": null,
            "right": null,
            "top": null,
            "visibility": null,
            "width": null
          }
        },
        "ebd2670ad34240ba8cd1966c328c29ba": {
          "model_module": "@jupyter-widgets/controls",
          "model_name": "DescriptionStyleModel",
          "model_module_version": "1.5.0",
          "state": {
            "_model_module": "@jupyter-widgets/controls",
            "_model_module_version": "1.5.0",
            "_model_name": "DescriptionStyleModel",
            "_view_count": null,
            "_view_module": "@jupyter-widgets/base",
            "_view_module_version": "1.2.0",
            "_view_name": "StyleView",
            "description_width": ""
          }
        },
        "ef13c5101cee4bfe952f6b0fecbf0c61": {
          "model_module": "@jupyter-widgets/base",
          "model_name": "LayoutModel",
          "model_module_version": "1.2.0",
          "state": {
            "_model_module": "@jupyter-widgets/base",
            "_model_module_version": "1.2.0",
            "_model_name": "LayoutModel",
            "_view_count": null,
            "_view_module": "@jupyter-widgets/base",
            "_view_module_version": "1.2.0",
            "_view_name": "LayoutView",
            "align_content": null,
            "align_items": null,
            "align_self": null,
            "border": null,
            "bottom": null,
            "display": null,
            "flex": null,
            "flex_flow": null,
            "grid_area": null,
            "grid_auto_columns": null,
            "grid_auto_flow": null,
            "grid_auto_rows": null,
            "grid_column": null,
            "grid_gap": null,
            "grid_row": null,
            "grid_template_areas": null,
            "grid_template_columns": null,
            "grid_template_rows": null,
            "height": null,
            "justify_content": null,
            "justify_items": null,
            "left": null,
            "margin": null,
            "max_height": null,
            "max_width": null,
            "min_height": null,
            "min_width": null,
            "object_fit": null,
            "object_position": null,
            "order": null,
            "overflow": null,
            "overflow_x": null,
            "overflow_y": null,
            "padding": null,
            "right": null,
            "top": null,
            "visibility": null,
            "width": null
          }
        },
        "6fc7ceb1d04e41c8bc5061fbf135f598": {
          "model_module": "@jupyter-widgets/controls",
          "model_name": "ProgressStyleModel",
          "model_module_version": "1.5.0",
          "state": {
            "_model_module": "@jupyter-widgets/controls",
            "_model_module_version": "1.5.0",
            "_model_name": "ProgressStyleModel",
            "_view_count": null,
            "_view_module": "@jupyter-widgets/base",
            "_view_module_version": "1.2.0",
            "_view_name": "StyleView",
            "bar_color": null,
            "description_width": ""
          }
        },
        "e77b82d7892244ee9d2097ee91c8fb7e": {
          "model_module": "@jupyter-widgets/base",
          "model_name": "LayoutModel",
          "model_module_version": "1.2.0",
          "state": {
            "_model_module": "@jupyter-widgets/base",
            "_model_module_version": "1.2.0",
            "_model_name": "LayoutModel",
            "_view_count": null,
            "_view_module": "@jupyter-widgets/base",
            "_view_module_version": "1.2.0",
            "_view_name": "LayoutView",
            "align_content": null,
            "align_items": null,
            "align_self": null,
            "border": null,
            "bottom": null,
            "display": null,
            "flex": null,
            "flex_flow": null,
            "grid_area": null,
            "grid_auto_columns": null,
            "grid_auto_flow": null,
            "grid_auto_rows": null,
            "grid_column": null,
            "grid_gap": null,
            "grid_row": null,
            "grid_template_areas": null,
            "grid_template_columns": null,
            "grid_template_rows": null,
            "height": null,
            "justify_content": null,
            "justify_items": null,
            "left": null,
            "margin": null,
            "max_height": null,
            "max_width": null,
            "min_height": null,
            "min_width": null,
            "object_fit": null,
            "object_position": null,
            "order": null,
            "overflow": null,
            "overflow_x": null,
            "overflow_y": null,
            "padding": null,
            "right": null,
            "top": null,
            "visibility": null,
            "width": null
          }
        },
        "76d128c3f9e44edaa66fc2b381c47e60": {
          "model_module": "@jupyter-widgets/controls",
          "model_name": "DescriptionStyleModel",
          "model_module_version": "1.5.0",
          "state": {
            "_model_module": "@jupyter-widgets/controls",
            "_model_module_version": "1.5.0",
            "_model_name": "DescriptionStyleModel",
            "_view_count": null,
            "_view_module": "@jupyter-widgets/base",
            "_view_module_version": "1.2.0",
            "_view_name": "StyleView",
            "description_width": ""
          }
        }
      }
    }
  },
  "cells": [
    {
      "cell_type": "markdown",
      "source": [
        "# Neural Networks and Deep Learning - Homework 1: Supervised Learning\n",
        "## Classification Task\n",
        "## Rosset Lorenzo, mat. 2021859"
      ],
      "metadata": {
        "id": "oSDD83HDaPh1"
      }
    },
    {
      "cell_type": "code",
      "source": [
        "!git clone https://github.com/rossetl/NNDL.git\n",
        "%cd NNDL/Homework\\ 1"
      ],
      "metadata": {
        "colab": {
          "base_uri": "https://localhost:8080/"
        },
        "id": "Zydee3r-afIo",
        "outputId": "dd05e012-d3ce-4ede-d444-c1afaf4da68c"
      },
      "execution_count": 1,
      "outputs": [
        {
          "output_type": "stream",
          "name": "stdout",
          "text": [
            "Cloning into 'NNDL'...\n",
            "remote: Enumerating objects: 72, done.\u001b[K\n",
            "remote: Counting objects: 100% (72/72), done.\u001b[K\n",
            "remote: Compressing objects: 100% (72/72), done.\u001b[K\n",
            "remote: Total 72 (delta 17), reused 5 (delta 0), pack-reused 0\u001b[K\n",
            "Unpacking objects: 100% (72/72), done.\n",
            "/content/NNDL/Homework 1\n"
          ]
        }
      ]
    },
    {
      "cell_type": "code",
      "source": [
        "from re import I\n",
        "import pandas as pd\n",
        "import matplotlib.pyplot as plt\n",
        "from matplotlib import cm\n",
        "import numpy as np\n",
        "\n",
        "import torch\n",
        "import torch.nn as nn\n",
        "import torch.optim as optim\n",
        "import torchvision\n",
        "from torchvision import transforms\n",
        "from torch.utils.data import Dataset, DataLoader, SubsetRandomSampler, Subset\n",
        "from sklearn.model_selection import KFold"
      ],
      "metadata": {
        "id": "cJaOcEtOahnH"
      },
      "execution_count": 2,
      "outputs": []
    },
    {
      "cell_type": "code",
      "source": [
        "BATCHSIZE = 10\n",
        "DEVICE = torch.device('cuda') if torch.cuda.is_available() else torch.device('cpu')\n",
        "NUM_CLASSES = 10\n",
        "print(f'Training device:', DEVICE)"
      ],
      "metadata": {
        "colab": {
          "base_uri": "https://localhost:8080/"
        },
        "id": "zu7l9W8hGDB4",
        "outputId": "409b0a07-abe1-463d-aebb-69e818c16a8e"
      },
      "execution_count": 3,
      "outputs": [
        {
          "output_type": "stream",
          "name": "stdout",
          "text": [
            "Training device: cuda\n"
          ]
        }
      ]
    },
    {
      "cell_type": "code",
      "source": [
        "transform = transforms.Compose(\n",
        "    [transforms.ToTensor(),\n",
        "     transforms.Normalize((0.), (1.))]) # try to change this\n",
        "\n",
        "train_dataset = torchvision.datasets.FashionMNIST('classifier_data', train=True, download=True, transform=transform)\n",
        "test_dataset  = torchvision.datasets.FashionMNIST('classifier_data', train=False, download=True, transform=transform)"
      ],
      "metadata": {
        "id": "0syPBu3faoOY",
        "colab": {
          "base_uri": "https://localhost:8080/",
          "height": 423,
          "referenced_widgets": [
            "0b8096817ab64b3ca3e09f69b43999f3",
            "281dc79b7ba24b7c9c54e1b57875356d",
            "96be8086a34a4cadbd145cfef66da152",
            "7751df15e9fb445c8aad30db65560e32",
            "2e8238ba360d4824a3f354b8174fe6af",
            "c486f04121fa4de99e6743b4497a99ea",
            "48fc88c19abc41b6ab7ff1c2a6ace1dc",
            "26a0a14b92d34a32bd7fbc72d1b52a4e",
            "6c18e01f0d344ead83291964d84bc417",
            "b6502ed28c0b4760962a3aa512c2206f",
            "4e189a6f447d492dbfd48e41d5b7c489",
            "12c7fc571d4b4447acf581f0d7150728",
            "55707ede2c324aae8b8fa2c7ae2d5107",
            "435e30562e174a7db42138767ffc1197",
            "707024c3958941529b82fcb54ea8e3b9",
            "4a8ca865b7b240b699f8b9ead2815293",
            "0769b5bf18954f2bac6f621fddf36138",
            "9b6fef1f2e5e4c43953c7f11a8f6a306",
            "3ad5e901f47c4fea8a62e5f200c8b508",
            "a2a36ce3f3fc4ee583c9f61a6acedfa9",
            "e428091ee78a4aada28760740ca04d11",
            "70b3aabf273746e4baa432be221ff9fc",
            "b83284275bf540308aea28688d57ccb3",
            "64005a5c6a424a2ba5f07622217a720e",
            "2ff9d43f3def4d61a16be22ed2c90f47",
            "45ef4ada5f5e4652928742cf236a2eb1",
            "256f0d04595047a79a7239415238dbf9",
            "672bb61be12a45a28e11de12bc01a434",
            "36040faa11714ee5997f27e5c626e69a",
            "526ef2fbc1954d02840cfef8b3de0fa6",
            "dc829189f978473fbf72c218bb2ab051",
            "7a5d98cb194d4b1e82e0ead74b928f63",
            "591746f2c0a9462f83614eb81cd7453c",
            "d3b6abac56904a68bb367af4bf212c36",
            "e4a6fd86904544fd84265f555a1ead35",
            "e80beae932a54f8b96b29543b740e8bb",
            "ccbedc31e49a458cb02f5aaf511eb715",
            "3d166a84976d4094984a5dbceb8def58",
            "c8783c04edc74953b170c0f98bbe4b4e",
            "ebd2670ad34240ba8cd1966c328c29ba",
            "ef13c5101cee4bfe952f6b0fecbf0c61",
            "6fc7ceb1d04e41c8bc5061fbf135f598",
            "e77b82d7892244ee9d2097ee91c8fb7e",
            "76d128c3f9e44edaa66fc2b381c47e60"
          ]
        },
        "outputId": "9484aea8-fee6-4622-ed14-8142b82e49df"
      },
      "execution_count": 4,
      "outputs": [
        {
          "output_type": "stream",
          "name": "stdout",
          "text": [
            "Downloading http://fashion-mnist.s3-website.eu-central-1.amazonaws.com/train-images-idx3-ubyte.gz\n",
            "Downloading http://fashion-mnist.s3-website.eu-central-1.amazonaws.com/train-images-idx3-ubyte.gz to classifier_data/FashionMNIST/raw/train-images-idx3-ubyte.gz\n"
          ]
        },
        {
          "output_type": "display_data",
          "data": {
            "text/plain": [
              "  0%|          | 0/26421880 [00:00<?, ?it/s]"
            ],
            "application/vnd.jupyter.widget-view+json": {
              "version_major": 2,
              "version_minor": 0,
              "model_id": "0b8096817ab64b3ca3e09f69b43999f3"
            }
          },
          "metadata": {}
        },
        {
          "output_type": "stream",
          "name": "stdout",
          "text": [
            "Extracting classifier_data/FashionMNIST/raw/train-images-idx3-ubyte.gz to classifier_data/FashionMNIST/raw\n",
            "\n",
            "Downloading http://fashion-mnist.s3-website.eu-central-1.amazonaws.com/train-labels-idx1-ubyte.gz\n",
            "Downloading http://fashion-mnist.s3-website.eu-central-1.amazonaws.com/train-labels-idx1-ubyte.gz to classifier_data/FashionMNIST/raw/train-labels-idx1-ubyte.gz\n"
          ]
        },
        {
          "output_type": "display_data",
          "data": {
            "text/plain": [
              "  0%|          | 0/29515 [00:00<?, ?it/s]"
            ],
            "application/vnd.jupyter.widget-view+json": {
              "version_major": 2,
              "version_minor": 0,
              "model_id": "12c7fc571d4b4447acf581f0d7150728"
            }
          },
          "metadata": {}
        },
        {
          "output_type": "stream",
          "name": "stdout",
          "text": [
            "Extracting classifier_data/FashionMNIST/raw/train-labels-idx1-ubyte.gz to classifier_data/FashionMNIST/raw\n",
            "\n",
            "Downloading http://fashion-mnist.s3-website.eu-central-1.amazonaws.com/t10k-images-idx3-ubyte.gz\n",
            "Downloading http://fashion-mnist.s3-website.eu-central-1.amazonaws.com/t10k-images-idx3-ubyte.gz to classifier_data/FashionMNIST/raw/t10k-images-idx3-ubyte.gz\n"
          ]
        },
        {
          "output_type": "display_data",
          "data": {
            "text/plain": [
              "  0%|          | 0/4422102 [00:00<?, ?it/s]"
            ],
            "application/vnd.jupyter.widget-view+json": {
              "version_major": 2,
              "version_minor": 0,
              "model_id": "b83284275bf540308aea28688d57ccb3"
            }
          },
          "metadata": {}
        },
        {
          "output_type": "stream",
          "name": "stdout",
          "text": [
            "Extracting classifier_data/FashionMNIST/raw/t10k-images-idx3-ubyte.gz to classifier_data/FashionMNIST/raw\n",
            "\n",
            "Downloading http://fashion-mnist.s3-website.eu-central-1.amazonaws.com/t10k-labels-idx1-ubyte.gz\n",
            "Downloading http://fashion-mnist.s3-website.eu-central-1.amazonaws.com/t10k-labels-idx1-ubyte.gz to classifier_data/FashionMNIST/raw/t10k-labels-idx1-ubyte.gz\n"
          ]
        },
        {
          "output_type": "display_data",
          "data": {
            "text/plain": [
              "  0%|          | 0/5148 [00:00<?, ?it/s]"
            ],
            "application/vnd.jupyter.widget-view+json": {
              "version_major": 2,
              "version_minor": 0,
              "model_id": "d3b6abac56904a68bb367af4bf212c36"
            }
          },
          "metadata": {}
        },
        {
          "output_type": "stream",
          "name": "stdout",
          "text": [
            "Extracting classifier_data/FashionMNIST/raw/t10k-labels-idx1-ubyte.gz to classifier_data/FashionMNIST/raw\n",
            "\n"
          ]
        }
      ]
    },
    {
      "cell_type": "code",
      "source": [
        "train_size = 7000\n",
        "val_size = 3000\n",
        "test_size = 3000\n",
        "\n",
        "train_subset = SubsetRandomSampler(np.arange(train_size))\n",
        "val_subset = SubsetRandomSampler(np.arange(train_size, train_size + val_size))\n",
        "test_subset = SubsetRandomSampler(np.arange(test_size))\n",
        "\n",
        "train_dataloader = DataLoader(train_dataset, sampler=train_subset, batch_size=BATCHSIZE, shuffle=False, num_workers=1)\n",
        "val_dataloader = DataLoader(train_dataset, sampler=val_subset, batch_size=BATCHSIZE, shuffle=False, num_workers=1)\n",
        "test_dataloader = DataLoader(test_dataset, sampler=test_subset, batch_size=1, shuffle=False, num_workers=1)"
      ],
      "metadata": {
        "id": "dYOKw8ogEpDG"
      },
      "execution_count": 5,
      "outputs": []
    },
    {
      "cell_type": "code",
      "source": [
        "classes = ['T-shirt', 'Trouser', 'Pullover', 'Dress', 'Coat', 'Sandal', 'Shirt', 'Sneaker', 'Bag', 'Ankle boot']\n",
        "\n",
        "def imshow(img, title):\n",
        "    npimg = img.numpy()[0]\n",
        "    plt.imshow(npimg, cmap='Greys')\n",
        "    plt.title(title, size=15)\n",
        "    plt.show()\n",
        "\n",
        "idx = 3\n",
        "imshow(train_dataset[idx][0], classes[train_dataset[idx][1]])"
      ],
      "metadata": {
        "colab": {
          "base_uri": "https://localhost:8080/",
          "height": 283
        },
        "id": "qXPpvQayi5Ms",
        "outputId": "f682a933-6f5a-4de5-dbdc-544a7e4adf68"
      },
      "execution_count": 6,
      "outputs": [
        {
          "output_type": "display_data",
          "data": {
            "text/plain": [
              "<Figure size 432x288 with 1 Axes>"
            ],
            "image/png": "[encoded data removed]"
          },
          "metadata": {
            "needs_background": "light"
          }
        }
      ]
    },
    {
      "cell_type": "code",
      "source": [
        "# Check that classes are evenly distributed across datasets\n",
        "train_labels = np.array([])\n",
        "val_labels = np.array([])\n",
        "test_labels = np.array([])\n",
        "\n",
        "for batch_sample in train_dataloader:\n",
        "    labels = batch_sample[1].numpy()\n",
        "    train_labels = np.append(train_labels, labels)\n",
        "\n",
        "for batch_sample in val_dataloader:\n",
        "    labels = batch_sample[1].numpy()\n",
        "    val_labels = np.append(val_labels, labels)\n",
        "\n",
        "for batch_sample in test_dataloader:\n",
        "    labels = batch_sample[1].numpy()\n",
        "    test_labels = np.append(test_labels, labels)"
      ],
      "metadata": {
        "id": "L0eowpk2TXPS"
      },
      "execution_count": 21,
      "outputs": []
    },
    {
      "cell_type": "code",
      "source": [
        "fig, axes = plt.subplots(figsize=(16,6), nrows=1, ncols=3)\n",
        "titles = ['Training set', 'Validation set', 'Test set']\n",
        "labels_list = [train_labels, val_labels, test_labels]\n",
        "for title, ax, labels in zip(titles, axes, labels_list):\n",
        "    ax.set_title(title, size=12)\n",
        "    ax.set_xlabel('Class', size=12)\n",
        "    ax.set_ylabel('Number of samples', size=12)\n",
        "    ax.set_xticks(np.arange(10))\n",
        "    ax.bar(*np.unique(labels, return_counts=True), color='navy', alpha=0.8);"
      ],
      "metadata": {
        "id": "qTqd29GuUYZ0",
        "outputId": "ff81594b-00d5-4b11-afc6-92b8842c92ef",
        "colab": {
          "base_uri": "https://localhost:8080/",
          "height": 407
        }
      },
      "execution_count": 30,
      "outputs": [
        {
          "output_type": "display_data",
          "data": {
            "text/plain": [
              "<Figure size 1152x432 with 3 Axes>"
            ],
            "image/png": "[encoded data removed]"
          },
          "metadata": {
            "needs_background": "light"
          }
        }
      ]
    },
    {
      "cell_type": "markdown",
      "source": [
        "## Simple Convolutional Network"
      ],
      "metadata": {
        "id": "fMslE6P6iJjH"
      }
    },
    {
      "cell_type": "code",
      "source": [
        "class Conv_net(nn.Module):\n",
        "\n",
        "    def __init__(self):\n",
        "        super().__init__()\n",
        "        self.conv1 = nn.Conv2d(in_channels=1, out_channels=6, kernel_size=5)\n",
        "        self.pool = nn.MaxPool2d(kernel_size=2, stride=2)\n",
        "        self.conv2 = nn.Conv2d(in_channels=6, out_channels=12, kernel_size=5)\n",
        "        self.fc1 = nn.Linear(12*4*4, 120)\n",
        "        self.fc2 = nn.Linear(120, 60)\n",
        "        self.fc3 = nn.Linear(60, 10)\n",
        "        self.activation = nn.ReLU()\n",
        "    \n",
        "    def forward(self, x):\n",
        "        x = self.pool(self.activation(self.conv1(x)))\n",
        "        x = self.pool(self.activation(self.conv2(x)))\n",
        "        x = torch.flatten(x, 1)\n",
        "        x = self.activation(self.fc1(x))\n",
        "        x = self.activation(self.fc2(x))\n",
        "        x = self.fc3(x)\n",
        "        return x"
      ],
      "metadata": {
        "id": "f3YWF2fbhhEP"
      },
      "execution_count": 7,
      "outputs": []
    },
    {
      "cell_type": "code",
      "source": [
        "conv_net = Conv_net().to(DEVICE)\n",
        "loss_fn = nn.CrossEntropyLoss()\n",
        "optimizer = optim.Adam(conv_net.parameters(), lr=1e-3)"
      ],
      "metadata": {
        "id": "HS6Tb0ths_M7"
      },
      "execution_count": 8,
      "outputs": []
    },
    {
      "cell_type": "code",
      "source": [
        "def train_epoch(model, device, dataloader, loss_fn, optimizer):\n",
        "    train_loss = []\n",
        "    model.train()\n",
        "    for sample_batched in dataloader:\n",
        "        x_batch = sample_batched[0].to(device)\n",
        "        label_batch = sample_batched[1].to(device)\n",
        "        out = model(x_batch)\n",
        "        loss = loss_fn(out, label_batch)\n",
        "        model.zero_grad()\n",
        "        loss.backward()\n",
        "        optimizer.step()\n",
        "        loss_batch = loss.detach().cpu().numpy()\n",
        "        train_loss.append(loss_batch)\n",
        "    return np.mean(train_loss)\n",
        "\n",
        "def val_epoch(model, device, dataloader, loss_fn):\n",
        "    val_loss = []\n",
        "    correct = 0\n",
        "    total = 0\n",
        "    model.eval()\n",
        "    with torch.no_grad():\n",
        "        for sample_batched in dataloader:\n",
        "            x_batch = sample_batched[0].to(device)\n",
        "            label_batch = sample_batched[1].to(device)\n",
        "            out = model(x_batch)\n",
        "            _, predicted = torch.max(out.data, 1)\n",
        "            total += label_batch.size(0)\n",
        "            correct += (predicted == label_batch).sum().item()\n",
        "            loss = loss_fn(out, label_batch)\n",
        "            loss_batch = loss.detach().cpu().numpy()\n",
        "            val_loss.append(loss_batch)\n",
        "    accuracy = 100 * correct / total\n",
        "    return np.mean(val_loss), accuracy\n",
        "\n",
        "# Compute the accuracy over the test set\n",
        "def compute_accuracy(model, device, dataloader):\n",
        "    correct = 0\n",
        "    total = 0\n",
        "    model.eval()\n",
        "    with torch.no_grad():\n",
        "        for sample_batched in dataloader:\n",
        "            x_batch = sample_batched[0].to(device)\n",
        "            label_batch = sample_batched[1].to(device)\n",
        "            out = model(x_batch)\n",
        "            _, predicted = torch.max(out.data, 1)\n",
        "            total += label_batch.size(0)\n",
        "            correct += (predicted == label_batch).sum().item()\n",
        "    accuracy = 100 * correct / total\n",
        "    return accuracy"
      ],
      "metadata": {
        "id": "kJCaDcoMtfIc"
      },
      "execution_count": 9,
      "outputs": []
    },
    {
      "cell_type": "code",
      "source": [
        "num_epochs = 50\n",
        "train_loss_log = []\n",
        "val_loss_log = []\n",
        "for epoch in range(num_epochs):\n",
        "    train_loss = train_epoch(conv_net, DEVICE, train_dataloader, loss_fn, optimizer)\n",
        "    train_loss_log.append(train_loss)\n",
        "\n",
        "    val_loss, accuracy = val_epoch(conv_net, DEVICE, val_dataloader, loss_fn)\n",
        "    val_loss_log.append(val_loss)\n",
        "\n",
        "    print('Epoch {:}/{:}, avg train loss: {:.3f}, avg test loss: {:.3f}, accuracy: {:.3f}%'.format(epoch + 1, num_epochs, train_loss, val_loss, accuracy))\n",
        "\n",
        "test_accuracy = compute_accuracy(conv_net, DEVICE, test_dataloader)"
      ],
      "metadata": {
        "colab": {
          "base_uri": "https://localhost:8080/"
        },
        "id": "iTmlm35ItUJc",
        "outputId": "52906990-24bd-4ea1-996c-910cdc71a4da"
      },
      "execution_count": null,
      "outputs": [
        {
          "output_type": "stream",
          "name": "stdout",
          "text": [
            "Epoch 1/50, avg train loss: 0.932, avg test loss: 0.670, accuracy: 74.000%\n",
            "Epoch 2/50, avg train loss: 0.622, avg test loss: 0.620, accuracy: 76.000%\n",
            "Epoch 3/50, avg train loss: 0.557, avg test loss: 0.545, accuracy: 77.000%\n",
            "Epoch 4/50, avg train loss: 0.494, avg test loss: 0.518, accuracy: 80.000%\n",
            "Epoch 5/50, avg train loss: 0.459, avg test loss: 0.508, accuracy: 81.000%\n",
            "Epoch 6/50, avg train loss: 0.423, avg test loss: 0.500, accuracy: 80.000%\n",
            "Epoch 7/50, avg train loss: 0.393, avg test loss: 0.455, accuracy: 84.000%\n",
            "Epoch 8/50, avg train loss: 0.365, avg test loss: 0.465, accuracy: 83.000%\n",
            "Epoch 9/50, avg train loss: 0.348, avg test loss: 0.424, accuracy: 84.000%\n",
            "Epoch 10/50, avg train loss: 0.325, avg test loss: 0.448, accuracy: 83.000%\n",
            "Epoch 11/50, avg train loss: 0.307, avg test loss: 0.471, accuracy: 83.000%\n",
            "Epoch 12/50, avg train loss: 0.291, avg test loss: 0.476, accuracy: 83.000%\n",
            "Epoch 13/50, avg train loss: 0.275, avg test loss: 0.450, accuracy: 84.000%\n",
            "Epoch 14/50, avg train loss: 0.261, avg test loss: 0.445, accuracy: 84.000%\n",
            "Epoch 15/50, avg train loss: 0.247, avg test loss: 0.442, accuracy: 85.000%\n",
            "Epoch 16/50, avg train loss: 0.229, avg test loss: 0.495, accuracy: 83.000%\n",
            "Epoch 17/50, avg train loss: 0.226, avg test loss: 0.432, accuracy: 85.000%\n",
            "Epoch 18/50, avg train loss: 0.210, avg test loss: 0.503, accuracy: 84.000%\n",
            "Epoch 19/50, avg train loss: 0.192, avg test loss: 0.457, accuracy: 85.000%\n",
            "Epoch 20/50, avg train loss: 0.189, avg test loss: 0.489, accuracy: 85.000%\n",
            "Epoch 21/50, avg train loss: 0.175, avg test loss: 0.526, accuracy: 84.000%\n",
            "Epoch 22/50, avg train loss: 0.161, avg test loss: 0.533, accuracy: 84.000%\n",
            "Epoch 23/50, avg train loss: 0.156, avg test loss: 0.536, accuracy: 85.000%\n",
            "Epoch 24/50, avg train loss: 0.147, avg test loss: 0.518, accuracy: 85.000%\n",
            "Epoch 25/50, avg train loss: 0.130, avg test loss: 0.579, accuracy: 85.000%\n",
            "Epoch 26/50, avg train loss: 0.127, avg test loss: 0.534, accuracy: 85.000%\n",
            "Epoch 27/50, avg train loss: 0.124, avg test loss: 0.758, accuracy: 82.000%\n",
            "Epoch 28/50, avg train loss: 0.114, avg test loss: 0.643, accuracy: 85.000%\n",
            "Epoch 29/50, avg train loss: 0.104, avg test loss: 0.609, accuracy: 86.000%\n",
            "Epoch 30/50, avg train loss: 0.101, avg test loss: 0.648, accuracy: 85.000%\n",
            "Epoch 31/50, avg train loss: 0.100, avg test loss: 0.657, accuracy: 85.000%\n",
            "Epoch 32/50, avg train loss: 0.088, avg test loss: 0.692, accuracy: 85.000%\n",
            "Epoch 33/50, avg train loss: 0.091, avg test loss: 0.716, accuracy: 84.000%\n",
            "Epoch 34/50, avg train loss: 0.076, avg test loss: 0.704, accuracy: 84.000%\n",
            "Epoch 35/50, avg train loss: 0.067, avg test loss: 0.802, accuracy: 85.000%\n",
            "Epoch 36/50, avg train loss: 0.084, avg test loss: 0.759, accuracy: 85.000%\n",
            "Epoch 37/50, avg train loss: 0.068, avg test loss: 0.756, accuracy: 85.000%\n",
            "Epoch 38/50, avg train loss: 0.062, avg test loss: 0.832, accuracy: 84.000%\n",
            "Epoch 39/50, avg train loss: 0.062, avg test loss: 0.883, accuracy: 83.000%\n",
            "Epoch 40/50, avg train loss: 0.056, avg test loss: 0.843, accuracy: 84.000%\n",
            "Epoch 41/50, avg train loss: 0.057, avg test loss: 0.832, accuracy: 85.000%\n",
            "Epoch 42/50, avg train loss: 0.057, avg test loss: 0.927, accuracy: 84.000%\n",
            "Epoch 43/50, avg train loss: 0.057, avg test loss: 0.925, accuracy: 85.000%\n",
            "Epoch 44/50, avg train loss: 0.056, avg test loss: 0.895, accuracy: 85.000%\n",
            "Epoch 45/50, avg train loss: 0.039, avg test loss: 0.951, accuracy: 85.000%\n",
            "Epoch 46/50, avg train loss: 0.059, avg test loss: 0.960, accuracy: 84.000%\n",
            "Epoch 47/50, avg train loss: 0.044, avg test loss: 0.914, accuracy: 85.000%\n",
            "Epoch 48/50, avg train loss: 0.031, avg test loss: 0.980, accuracy: 85.000%\n",
            "Epoch 49/50, avg train loss: 0.060, avg test loss: 0.940, accuracy: 85.000%\n",
            "Epoch 50/50, avg train loss: 0.054, avg test loss: 0.961, accuracy: 85.000%\n"
          ]
        }
      ]
    },
    {
      "cell_type": "code",
      "source": [
        "plt.figure(figsize=(10,6))\n",
        "plt.plot(train_loss_log, c='red', label='Train loss', alpha=0.8)\n",
        "plt.plot(val_loss_log, c='blue', label='Validation loss', alpha=0.8)\n",
        "plt.xlabel('Epoch', size=12)\n",
        "plt.ylabel('Loss', size=12)\n",
        "plt.legend(fontsize='12')\n",
        "plt.title('Loss curves', size=12)\n",
        "plt.grid(alpha=0.5)\n",
        "#plt.yscale('log')\n",
        "\n",
        "print('Accuracy over the test set: {:.3f}'.format(test_accuracy))"
      ],
      "metadata": {
        "id": "dknNJhLTvGHq",
        "colab": {
          "base_uri": "https://localhost:8080/",
          "height": 424
        },
        "outputId": "755fe04d-478c-4866-8bcc-2393f16beb13"
      },
      "execution_count": null,
      "outputs": [
        {
          "output_type": "stream",
          "name": "stdout",
          "text": [
            "Accuracy over the test set: 84.767\n"
          ]
        },
        {
          "output_type": "display_data",
          "data": {
            "text/plain": [
              "<Figure size 720x432 with 1 Axes>"
            ],
            "image/png": "[encoded data removed]"
          },
          "metadata": {
            "needs_background": "light"
          }
        }
      ]
    },
    {
      "cell_type": "markdown",
      "source": [
        "## Different optimizers and sparsity"
      ],
      "metadata": {
        "id": "xj3Fh1bEZGO_"
      }
    },
    {
      "cell_type": "code",
      "source": [
        "optimizer_names = ['SGD', 'Adam', 'Adagrad', 'Adadelta', 'RMSprop']\n",
        "train_curves = []\n",
        "val_curves = []\n",
        "test_losses = []\n",
        "test_accuraces = []\n",
        "for optimizer_name in optimizer_names:\n",
        "    print('\\n---------------------------')\n",
        "    print('Optimizer:', optimizer_name)\n",
        "    print('---------------------------\\n')\n",
        "    conv_net = Conv_net()\n",
        "    conv_net.to(DEVICE)\n",
        "    optimizer = getattr(optim, optimizer_name)(conv_net.parameters(), lr=1e-3)\n",
        "    loss_fn = nn.CrossEntropyLoss()\n",
        "    num_epochs = 50\n",
        "    train_loss_log = []\n",
        "    val_loss_log = []\n",
        "    for epoch in range(num_epochs):\n",
        "        train_loss = train_epoch(conv_net, DEVICE, train_dataloader, loss_fn, optimizer)\n",
        "        train_loss_log.append(train_loss)\n",
        "\n",
        "        val_loss, accuracy = val_epoch(conv_net, DEVICE, val_dataloader, loss_fn)\n",
        "        val_loss_log.append(val_loss)\n",
        "\n",
        "        print('Epoch {:}/{:}, avg train loss: {:.3f}, avg val loss: {:.3f}, accuracy: {:.3f}%'.format(epoch + 1, num_epochs, train_loss, val_loss, accuracy))\n",
        "\n",
        "    test_accuracy = compute_accuracy(conv_net, DEVICE, test_dataloader)\n",
        "    test_accuraces.append(test_accuracy)\n",
        "    train_curves.append(train_loss_log)\n",
        "    val_curves.append(val_loss_log)"
      ],
      "metadata": {
        "id": "Wso1haFBZjCn",
        "outputId": "61704c3a-7a17-4384-bfff-28045efa15db",
        "colab": {
          "base_uri": "https://localhost:8080/"
        }
      },
      "execution_count": 32,
      "outputs": [
        {
          "output_type": "stream",
          "name": "stdout",
          "text": [
            "\n",
            "---------------------------\n",
            "Optimizer: SGD\n",
            "---------------------------\n",
            "\n",
            "Epoch 1/50, avg train loss: 2.307, avg val loss: 2.307, accuracy: 15.100%\n",
            "Epoch 2/50, avg train loss: 2.303, avg val loss: 2.303, accuracy: 14.133%\n",
            "Epoch 3/50, avg train loss: 2.299, avg val loss: 2.299, accuracy: 13.167%\n",
            "Epoch 4/50, avg train loss: 2.294, avg val loss: 2.293, accuracy: 16.000%\n",
            "Epoch 5/50, avg train loss: 2.286, avg val loss: 2.284, accuracy: 18.167%\n",
            "Epoch 6/50, avg train loss: 2.275, avg val loss: 2.269, accuracy: 23.067%\n",
            "Epoch 7/50, avg train loss: 2.254, avg val loss: 2.241, accuracy: 25.600%\n",
            "Epoch 8/50, avg train loss: 2.211, avg val loss: 2.177, accuracy: 28.200%\n",
            "Epoch 9/50, avg train loss: 2.092, avg val loss: 1.972, accuracy: 31.867%\n",
            "Epoch 10/50, avg train loss: 1.721, avg val loss: 1.462, accuracy: 51.200%\n",
            "Epoch 11/50, avg train loss: 1.267, avg val loss: 1.174, accuracy: 54.333%\n",
            "Epoch 12/50, avg train loss: 1.089, avg val loss: 1.041, accuracy: 58.300%\n",
            "Epoch 13/50, avg train loss: 1.027, avg val loss: 1.065, accuracy: 59.300%\n",
            "Epoch 14/50, avg train loss: 0.992, avg val loss: 0.984, accuracy: 60.700%\n",
            "Epoch 15/50, avg train loss: 0.966, avg val loss: 0.947, accuracy: 61.467%\n",
            "Epoch 16/50, avg train loss: 0.942, avg val loss: 0.918, accuracy: 64.433%\n",
            "Epoch 17/50, avg train loss: 0.920, avg val loss: 0.896, accuracy: 65.000%\n",
            "Epoch 18/50, avg train loss: 0.906, avg val loss: 0.892, accuracy: 65.167%\n",
            "Epoch 19/50, avg train loss: 0.889, avg val loss: 0.862, accuracy: 67.000%\n",
            "Epoch 20/50, avg train loss: 0.872, avg val loss: 0.883, accuracy: 63.033%\n",
            "Epoch 21/50, avg train loss: 0.858, avg val loss: 0.837, accuracy: 67.367%\n",
            "Epoch 22/50, avg train loss: 0.843, avg val loss: 0.838, accuracy: 68.233%\n",
            "Epoch 23/50, avg train loss: 0.828, avg val loss: 0.859, accuracy: 65.433%\n",
            "Epoch 24/50, avg train loss: 0.816, avg val loss: 0.848, accuracy: 66.833%\n",
            "Epoch 25/50, avg train loss: 0.802, avg val loss: 0.798, accuracy: 68.633%\n",
            "Epoch 26/50, avg train loss: 0.790, avg val loss: 0.780, accuracy: 70.367%\n",
            "Epoch 27/50, avg train loss: 0.779, avg val loss: 0.782, accuracy: 69.967%\n",
            "Epoch 28/50, avg train loss: 0.769, avg val loss: 0.758, accuracy: 70.733%\n",
            "Epoch 29/50, avg train loss: 0.759, avg val loss: 0.761, accuracy: 71.567%\n",
            "Epoch 30/50, avg train loss: 0.749, avg val loss: 0.776, accuracy: 71.000%\n",
            "Epoch 31/50, avg train loss: 0.734, avg val loss: 0.758, accuracy: 69.700%\n",
            "Epoch 32/50, avg train loss: 0.726, avg val loss: 0.769, accuracy: 69.167%\n",
            "Epoch 33/50, avg train loss: 0.718, avg val loss: 0.740, accuracy: 71.233%\n",
            "Epoch 34/50, avg train loss: 0.711, avg val loss: 0.732, accuracy: 70.433%\n",
            "Epoch 35/50, avg train loss: 0.700, avg val loss: 0.749, accuracy: 69.733%\n",
            "Epoch 36/50, avg train loss: 0.694, avg val loss: 0.712, accuracy: 72.000%\n",
            "Epoch 37/50, avg train loss: 0.687, avg val loss: 0.706, accuracy: 72.200%\n",
            "Epoch 38/50, avg train loss: 0.682, avg val loss: 0.704, accuracy: 71.633%\n",
            "Epoch 39/50, avg train loss: 0.674, avg val loss: 0.687, accuracy: 73.400%\n",
            "Epoch 40/50, avg train loss: 0.664, avg val loss: 0.741, accuracy: 71.167%\n",
            "Epoch 41/50, avg train loss: 0.656, avg val loss: 0.709, accuracy: 71.833%\n",
            "Epoch 42/50, avg train loss: 0.650, avg val loss: 0.674, accuracy: 73.967%\n",
            "Epoch 43/50, avg train loss: 0.646, avg val loss: 0.668, accuracy: 73.667%\n",
            "Epoch 44/50, avg train loss: 0.639, avg val loss: 0.677, accuracy: 73.833%\n",
            "Epoch 45/50, avg train loss: 0.632, avg val loss: 0.660, accuracy: 74.400%\n",
            "Epoch 46/50, avg train loss: 0.628, avg val loss: 0.677, accuracy: 73.567%\n",
            "Epoch 47/50, avg train loss: 0.621, avg val loss: 0.654, accuracy: 75.233%\n",
            "Epoch 48/50, avg train loss: 0.618, avg val loss: 0.642, accuracy: 75.433%\n",
            "Epoch 49/50, avg train loss: 0.614, avg val loss: 0.629, accuracy: 76.400%\n",
            "Epoch 50/50, avg train loss: 0.610, avg val loss: 0.623, accuracy: 76.367%\n",
            "\n",
            "---------------------------\n",
            "Optimizer: Adam\n",
            "---------------------------\n",
            "\n",
            "Epoch 1/50, avg train loss: 1.000, avg val loss: 0.849, accuracy: 67.133%\n",
            "Epoch 2/50, avg train loss: 0.664, avg val loss: 0.644, accuracy: 73.700%\n",
            "Epoch 3/50, avg train loss: 0.591, avg val loss: 0.593, accuracy: 77.600%\n",
            "Epoch 4/50, avg train loss: 0.541, avg val loss: 0.595, accuracy: 76.800%\n",
            "Epoch 5/50, avg train loss: 0.504, avg val loss: 0.524, accuracy: 80.400%\n",
            "Epoch 6/50, avg train loss: 0.465, avg val loss: 0.497, accuracy: 81.500%\n",
            "Epoch 7/50, avg train loss: 0.436, avg val loss: 0.478, accuracy: 82.200%\n",
            "Epoch 8/50, avg train loss: 0.411, avg val loss: 0.461, accuracy: 82.533%\n",
            "Epoch 9/50, avg train loss: 0.395, avg val loss: 0.445, accuracy: 84.200%\n",
            "Epoch 10/50, avg train loss: 0.366, avg val loss: 0.464, accuracy: 82.700%\n",
            "Epoch 11/50, avg train loss: 0.355, avg val loss: 0.452, accuracy: 82.800%\n",
            "Epoch 12/50, avg train loss: 0.330, avg val loss: 0.420, accuracy: 84.533%\n",
            "Epoch 13/50, avg train loss: 0.315, avg val loss: 0.452, accuracy: 83.667%\n",
            "Epoch 14/50, avg train loss: 0.308, avg val loss: 0.447, accuracy: 84.233%\n",
            "Epoch 15/50, avg train loss: 0.293, avg val loss: 0.430, accuracy: 84.800%\n",
            "Epoch 16/50, avg train loss: 0.272, avg val loss: 0.458, accuracy: 83.267%\n",
            "Epoch 17/50, avg train loss: 0.259, avg val loss: 0.533, accuracy: 82.567%\n",
            "Epoch 18/50, avg train loss: 0.255, avg val loss: 0.461, accuracy: 83.867%\n",
            "Epoch 19/50, avg train loss: 0.238, avg val loss: 0.456, accuracy: 84.700%\n",
            "Epoch 20/50, avg train loss: 0.221, avg val loss: 0.511, accuracy: 82.267%\n",
            "Epoch 21/50, avg train loss: 0.221, avg val loss: 0.482, accuracy: 84.067%\n",
            "Epoch 22/50, avg train loss: 0.209, avg val loss: 0.468, accuracy: 84.367%\n",
            "Epoch 23/50, avg train loss: 0.202, avg val loss: 0.456, accuracy: 84.867%\n",
            "Epoch 24/50, avg train loss: 0.186, avg val loss: 0.536, accuracy: 84.000%\n",
            "Epoch 25/50, avg train loss: 0.176, avg val loss: 0.502, accuracy: 84.633%\n",
            "Epoch 26/50, avg train loss: 0.173, avg val loss: 0.495, accuracy: 85.233%\n",
            "Epoch 27/50, avg train loss: 0.157, avg val loss: 0.522, accuracy: 85.033%\n",
            "Epoch 28/50, avg train loss: 0.151, avg val loss: 0.548, accuracy: 84.033%\n",
            "Epoch 29/50, avg train loss: 0.147, avg val loss: 0.556, accuracy: 84.300%\n",
            "Epoch 30/50, avg train loss: 0.132, avg val loss: 0.568, accuracy: 85.033%\n",
            "Epoch 31/50, avg train loss: 0.133, avg val loss: 0.683, accuracy: 81.933%\n",
            "Epoch 32/50, avg train loss: 0.128, avg val loss: 0.590, accuracy: 84.367%\n",
            "Epoch 33/50, avg train loss: 0.122, avg val loss: 0.621, accuracy: 83.967%\n",
            "Epoch 34/50, avg train loss: 0.109, avg val loss: 0.587, accuracy: 85.067%\n",
            "Epoch 35/50, avg train loss: 0.115, avg val loss: 0.635, accuracy: 84.067%\n",
            "Epoch 36/50, avg train loss: 0.110, avg val loss: 0.709, accuracy: 84.833%\n",
            "Epoch 37/50, avg train loss: 0.099, avg val loss: 0.703, accuracy: 84.267%\n",
            "Epoch 38/50, avg train loss: 0.101, avg val loss: 0.773, accuracy: 83.167%\n",
            "Epoch 39/50, avg train loss: 0.077, avg val loss: 0.730, accuracy: 84.933%\n",
            "Epoch 40/50, avg train loss: 0.080, avg val loss: 0.774, accuracy: 83.867%\n",
            "Epoch 41/50, avg train loss: 0.094, avg val loss: 0.720, accuracy: 84.933%\n",
            "Epoch 42/50, avg train loss: 0.083, avg val loss: 0.748, accuracy: 84.667%\n",
            "Epoch 43/50, avg train loss: 0.073, avg val loss: 0.808, accuracy: 84.033%\n",
            "Epoch 44/50, avg train loss: 0.070, avg val loss: 0.794, accuracy: 83.600%\n",
            "Epoch 45/50, avg train loss: 0.077, avg val loss: 0.839, accuracy: 84.033%\n",
            "Epoch 46/50, avg train loss: 0.067, avg val loss: 0.852, accuracy: 84.600%\n",
            "Epoch 47/50, avg train loss: 0.071, avg val loss: 0.842, accuracy: 83.700%\n",
            "Epoch 48/50, avg train loss: 0.054, avg val loss: 0.826, accuracy: 84.167%\n",
            "Epoch 49/50, avg train loss: 0.058, avg val loss: 0.983, accuracy: 83.000%\n",
            "Epoch 50/50, avg train loss: 0.055, avg val loss: 0.909, accuracy: 84.867%\n",
            "\n",
            "---------------------------\n",
            "Optimizer: Adagrad\n",
            "---------------------------\n",
            "\n",
            "Epoch 1/50, avg train loss: 1.669, avg val loss: 1.233, accuracy: 60.467%\n",
            "Epoch 2/50, avg train loss: 1.085, avg val loss: 1.046, accuracy: 63.933%\n",
            "Epoch 3/50, avg train loss: 0.964, avg val loss: 0.963, accuracy: 64.833%\n",
            "Epoch 4/50, avg train loss: 0.901, avg val loss: 0.919, accuracy: 66.633%\n",
            "Epoch 5/50, avg train loss: 0.863, avg val loss: 0.883, accuracy: 67.767%\n",
            "Epoch 6/50, avg train loss: 0.835, avg val loss: 0.862, accuracy: 67.933%\n",
            "Epoch 7/50, avg train loss: 0.814, avg val loss: 0.840, accuracy: 68.533%\n",
            "Epoch 8/50, avg train loss: 0.798, avg val loss: 0.824, accuracy: 69.633%\n",
            "Epoch 9/50, avg train loss: 0.784, avg val loss: 0.814, accuracy: 70.000%\n",
            "Epoch 10/50, avg train loss: 0.772, avg val loss: 0.800, accuracy: 69.433%\n",
            "Epoch 11/50, avg train loss: 0.762, avg val loss: 0.791, accuracy: 70.000%\n",
            "Epoch 12/50, avg train loss: 0.753, avg val loss: 0.781, accuracy: 70.333%\n",
            "Epoch 13/50, avg train loss: 0.745, avg val loss: 0.774, accuracy: 70.800%\n",
            "Epoch 14/50, avg train loss: 0.737, avg val loss: 0.765, accuracy: 70.933%\n",
            "Epoch 15/50, avg train loss: 0.730, avg val loss: 0.761, accuracy: 71.167%\n",
            "Epoch 16/50, avg train loss: 0.724, avg val loss: 0.753, accuracy: 71.433%\n",
            "Epoch 17/50, avg train loss: 0.719, avg val loss: 0.747, accuracy: 71.467%\n",
            "Epoch 18/50, avg train loss: 0.714, avg val loss: 0.742, accuracy: 71.400%\n",
            "Epoch 19/50, avg train loss: 0.709, avg val loss: 0.737, accuracy: 71.800%\n",
            "Epoch 20/50, avg train loss: 0.704, avg val loss: 0.733, accuracy: 71.733%\n",
            "Epoch 21/50, avg train loss: 0.700, avg val loss: 0.728, accuracy: 72.133%\n",
            "Epoch 22/50, avg train loss: 0.696, avg val loss: 0.724, accuracy: 71.867%\n",
            "Epoch 23/50, avg train loss: 0.692, avg val loss: 0.721, accuracy: 72.200%\n",
            "Epoch 24/50, avg train loss: 0.687, avg val loss: 0.717, accuracy: 71.900%\n",
            "Epoch 25/50, avg train loss: 0.685, avg val loss: 0.714, accuracy: 72.633%\n",
            "Epoch 26/50, avg train loss: 0.681, avg val loss: 0.710, accuracy: 72.633%\n",
            "Epoch 27/50, avg train loss: 0.677, avg val loss: 0.708, accuracy: 72.433%\n",
            "Epoch 28/50, avg train loss: 0.675, avg val loss: 0.704, accuracy: 72.467%\n",
            "Epoch 29/50, avg train loss: 0.672, avg val loss: 0.700, accuracy: 72.900%\n",
            "Epoch 30/50, avg train loss: 0.669, avg val loss: 0.698, accuracy: 72.667%\n",
            "Epoch 31/50, avg train loss: 0.666, avg val loss: 0.697, accuracy: 72.833%\n",
            "Epoch 32/50, avg train loss: 0.664, avg val loss: 0.694, accuracy: 72.867%\n",
            "Epoch 33/50, avg train loss: 0.661, avg val loss: 0.691, accuracy: 73.100%\n",
            "Epoch 34/50, avg train loss: 0.659, avg val loss: 0.689, accuracy: 72.733%\n",
            "Epoch 35/50, avg train loss: 0.657, avg val loss: 0.686, accuracy: 73.100%\n",
            "Epoch 36/50, avg train loss: 0.654, avg val loss: 0.683, accuracy: 73.167%\n",
            "Epoch 37/50, avg train loss: 0.652, avg val loss: 0.682, accuracy: 72.967%\n",
            "Epoch 38/50, avg train loss: 0.650, avg val loss: 0.681, accuracy: 73.467%\n",
            "Epoch 39/50, avg train loss: 0.648, avg val loss: 0.677, accuracy: 73.167%\n",
            "Epoch 40/50, avg train loss: 0.646, avg val loss: 0.676, accuracy: 73.300%\n",
            "Epoch 41/50, avg train loss: 0.645, avg val loss: 0.675, accuracy: 73.333%\n",
            "Epoch 42/50, avg train loss: 0.643, avg val loss: 0.674, accuracy: 73.700%\n",
            "Epoch 43/50, avg train loss: 0.641, avg val loss: 0.671, accuracy: 73.633%\n",
            "Epoch 44/50, avg train loss: 0.639, avg val loss: 0.669, accuracy: 73.333%\n",
            "Epoch 45/50, avg train loss: 0.638, avg val loss: 0.669, accuracy: 73.700%\n",
            "Epoch 46/50, avg train loss: 0.636, avg val loss: 0.667, accuracy: 73.633%\n",
            "Epoch 47/50, avg train loss: 0.635, avg val loss: 0.666, accuracy: 73.633%\n",
            "Epoch 48/50, avg train loss: 0.633, avg val loss: 0.664, accuracy: 73.833%\n",
            "Epoch 49/50, avg train loss: 0.632, avg val loss: 0.662, accuracy: 73.900%\n",
            "Epoch 50/50, avg train loss: 0.630, avg val loss: 0.662, accuracy: 73.933%\n",
            "\n",
            "---------------------------\n",
            "Optimizer: Adadelta\n",
            "---------------------------\n",
            "\n",
            "Epoch 1/50, avg train loss: 2.304, avg val loss: 2.303, accuracy: 13.667%\n",
            "Epoch 2/50, avg train loss: 2.302, avg val loss: 2.301, accuracy: 17.300%\n",
            "Epoch 3/50, avg train loss: 2.299, avg val loss: 2.298, accuracy: 18.033%\n",
            "Epoch 4/50, avg train loss: 2.297, avg val loss: 2.295, accuracy: 17.900%\n",
            "Epoch 5/50, avg train loss: 2.294, avg val loss: 2.292, accuracy: 17.433%\n",
            "Epoch 6/50, avg train loss: 2.290, avg val loss: 2.288, accuracy: 16.433%\n",
            "Epoch 7/50, avg train loss: 2.286, avg val loss: 2.283, accuracy: 16.167%\n",
            "Epoch 8/50, avg train loss: 2.280, avg val loss: 2.278, accuracy: 16.000%\n",
            "Epoch 9/50, avg train loss: 2.274, avg val loss: 2.271, accuracy: 16.467%\n",
            "Epoch 10/50, avg train loss: 2.267, avg val loss: 2.263, accuracy: 17.867%\n",
            "Epoch 11/50, avg train loss: 2.258, avg val loss: 2.253, accuracy: 18.533%\n",
            "Epoch 12/50, avg train loss: 2.247, avg val loss: 2.241, accuracy: 18.300%\n",
            "Epoch 13/50, avg train loss: 2.234, avg val loss: 2.227, accuracy: 17.433%\n",
            "Epoch 14/50, avg train loss: 2.219, avg val loss: 2.211, accuracy: 18.700%\n",
            "Epoch 15/50, avg train loss: 2.202, avg val loss: 2.192, accuracy: 21.167%\n",
            "Epoch 16/50, avg train loss: 2.181, avg val loss: 2.170, accuracy: 23.433%\n",
            "Epoch 17/50, avg train loss: 2.158, avg val loss: 2.145, accuracy: 25.400%\n",
            "Epoch 18/50, avg train loss: 2.132, avg val loss: 2.118, accuracy: 27.433%\n",
            "Epoch 19/50, avg train loss: 2.102, avg val loss: 2.086, accuracy: 29.167%\n",
            "Epoch 20/50, avg train loss: 2.068, avg val loss: 2.051, accuracy: 31.200%\n",
            "Epoch 21/50, avg train loss: 2.030, avg val loss: 2.012, accuracy: 34.567%\n",
            "Epoch 22/50, avg train loss: 1.988, avg val loss: 1.968, accuracy: 37.933%\n",
            "Epoch 23/50, avg train loss: 1.941, avg val loss: 1.920, accuracy: 39.700%\n",
            "Epoch 24/50, avg train loss: 1.891, avg val loss: 1.870, accuracy: 41.867%\n",
            "Epoch 25/50, avg train loss: 1.837, avg val loss: 1.814, accuracy: 44.900%\n",
            "Epoch 26/50, avg train loss: 1.780, avg val loss: 1.759, accuracy: 47.100%\n",
            "Epoch 27/50, avg train loss: 1.723, avg val loss: 1.703, accuracy: 47.633%\n",
            "Epoch 28/50, avg train loss: 1.667, avg val loss: 1.647, accuracy: 48.333%\n",
            "Epoch 29/50, avg train loss: 1.611, avg val loss: 1.594, accuracy: 49.333%\n",
            "Epoch 30/50, avg train loss: 1.558, avg val loss: 1.543, accuracy: 49.633%\n",
            "Epoch 31/50, avg train loss: 1.508, avg val loss: 1.495, accuracy: 50.033%\n",
            "Epoch 32/50, avg train loss: 1.461, avg val loss: 1.451, accuracy: 50.767%\n",
            "Epoch 33/50, avg train loss: 1.418, avg val loss: 1.410, accuracy: 51.467%\n",
            "Epoch 34/50, avg train loss: 1.378, avg val loss: 1.373, accuracy: 52.267%\n",
            "Epoch 35/50, avg train loss: 1.342, avg val loss: 1.338, accuracy: 53.000%\n",
            "Epoch 36/50, avg train loss: 1.308, avg val loss: 1.305, accuracy: 53.200%\n",
            "Epoch 37/50, avg train loss: 1.276, avg val loss: 1.276, accuracy: 53.867%\n",
            "Epoch 38/50, avg train loss: 1.248, avg val loss: 1.248, accuracy: 54.667%\n",
            "Epoch 39/50, avg train loss: 1.221, avg val loss: 1.223, accuracy: 55.233%\n",
            "Epoch 40/50, avg train loss: 1.197, avg val loss: 1.201, accuracy: 55.767%\n",
            "Epoch 41/50, avg train loss: 1.176, avg val loss: 1.179, accuracy: 56.467%\n",
            "Epoch 42/50, avg train loss: 1.155, avg val loss: 1.160, accuracy: 57.100%\n",
            "Epoch 43/50, avg train loss: 1.137, avg val loss: 1.143, accuracy: 57.433%\n",
            "Epoch 44/50, avg train loss: 1.120, avg val loss: 1.126, accuracy: 57.933%\n",
            "Epoch 45/50, avg train loss: 1.104, avg val loss: 1.111, accuracy: 58.333%\n",
            "Epoch 46/50, avg train loss: 1.090, avg val loss: 1.097, accuracy: 58.500%\n",
            "Epoch 47/50, avg train loss: 1.077, avg val loss: 1.085, accuracy: 58.767%\n",
            "Epoch 48/50, avg train loss: 1.065, avg val loss: 1.074, accuracy: 59.233%\n",
            "Epoch 49/50, avg train loss: 1.054, avg val loss: 1.063, accuracy: 59.567%\n",
            "Epoch 50/50, avg train loss: 1.044, avg val loss: 1.053, accuracy: 59.367%\n",
            "\n",
            "---------------------------\n",
            "Optimizer: RMSprop\n",
            "---------------------------\n",
            "\n",
            "Epoch 1/50, avg train loss: 0.837, avg val loss: 0.662, accuracy: 72.400%\n",
            "Epoch 2/50, avg train loss: 0.596, avg val loss: 0.603, accuracy: 77.100%\n",
            "Epoch 3/50, avg train loss: 0.529, avg val loss: 0.568, accuracy: 78.067%\n",
            "Epoch 4/50, avg train loss: 0.476, avg val loss: 0.551, accuracy: 78.567%\n",
            "Epoch 5/50, avg train loss: 0.440, avg val loss: 0.455, accuracy: 82.700%\n",
            "Epoch 6/50, avg train loss: 0.410, avg val loss: 0.449, accuracy: 82.967%\n",
            "Epoch 7/50, avg train loss: 0.384, avg val loss: 0.437, accuracy: 84.800%\n",
            "Epoch 8/50, avg train loss: 0.356, avg val loss: 0.518, accuracy: 81.000%\n",
            "Epoch 9/50, avg train loss: 0.344, avg val loss: 0.424, accuracy: 84.800%\n",
            "Epoch 10/50, avg train loss: 0.318, avg val loss: 0.431, accuracy: 84.300%\n",
            "Epoch 11/50, avg train loss: 0.304, avg val loss: 0.421, accuracy: 84.900%\n",
            "Epoch 12/50, avg train loss: 0.286, avg val loss: 0.408, accuracy: 85.833%\n",
            "Epoch 13/50, avg train loss: 0.277, avg val loss: 0.414, accuracy: 85.433%\n",
            "Epoch 14/50, avg train loss: 0.264, avg val loss: 0.420, accuracy: 85.700%\n",
            "Epoch 15/50, avg train loss: 0.250, avg val loss: 0.476, accuracy: 84.533%\n",
            "Epoch 16/50, avg train loss: 0.236, avg val loss: 0.457, accuracy: 84.333%\n",
            "Epoch 17/50, avg train loss: 0.221, avg val loss: 0.457, accuracy: 85.500%\n",
            "Epoch 18/50, avg train loss: 0.215, avg val loss: 0.470, accuracy: 85.233%\n",
            "Epoch 19/50, avg train loss: 0.201, avg val loss: 0.467, accuracy: 85.867%\n",
            "Epoch 20/50, avg train loss: 0.193, avg val loss: 0.472, accuracy: 85.933%\n",
            "Epoch 21/50, avg train loss: 0.181, avg val loss: 0.479, accuracy: 85.600%\n",
            "Epoch 22/50, avg train loss: 0.173, avg val loss: 0.476, accuracy: 86.467%\n",
            "Epoch 23/50, avg train loss: 0.161, avg val loss: 0.547, accuracy: 85.600%\n",
            "Epoch 24/50, avg train loss: 0.153, avg val loss: 0.539, accuracy: 86.033%\n",
            "Epoch 25/50, avg train loss: 0.146, avg val loss: 0.560, accuracy: 85.767%\n",
            "Epoch 26/50, avg train loss: 0.141, avg val loss: 0.578, accuracy: 85.467%\n",
            "Epoch 27/50, avg train loss: 0.134, avg val loss: 0.585, accuracy: 85.567%\n",
            "Epoch 28/50, avg train loss: 0.121, avg val loss: 0.695, accuracy: 84.667%\n",
            "Epoch 29/50, avg train loss: 0.121, avg val loss: 0.625, accuracy: 85.733%\n",
            "Epoch 30/50, avg train loss: 0.109, avg val loss: 0.704, accuracy: 85.300%\n",
            "Epoch 31/50, avg train loss: 0.107, avg val loss: 0.630, accuracy: 86.067%\n",
            "Epoch 32/50, avg train loss: 0.091, avg val loss: 0.685, accuracy: 84.700%\n",
            "Epoch 33/50, avg train loss: 0.093, avg val loss: 0.699, accuracy: 85.467%\n",
            "Epoch 34/50, avg train loss: 0.088, avg val loss: 0.792, accuracy: 84.867%\n",
            "Epoch 35/50, avg train loss: 0.088, avg val loss: 0.732, accuracy: 85.667%\n",
            "Epoch 36/50, avg train loss: 0.074, avg val loss: 0.812, accuracy: 84.933%\n",
            "Epoch 37/50, avg train loss: 0.076, avg val loss: 0.794, accuracy: 85.200%\n",
            "Epoch 38/50, avg train loss: 0.073, avg val loss: 0.833, accuracy: 85.633%\n",
            "Epoch 39/50, avg train loss: 0.073, avg val loss: 0.807, accuracy: 84.900%\n",
            "Epoch 40/50, avg train loss: 0.062, avg val loss: 0.952, accuracy: 84.500%\n",
            "Epoch 41/50, avg train loss: 0.070, avg val loss: 1.079, accuracy: 84.400%\n",
            "Epoch 42/50, avg train loss: 0.053, avg val loss: 1.022, accuracy: 85.100%\n",
            "Epoch 43/50, avg train loss: 0.060, avg val loss: 1.026, accuracy: 85.000%\n",
            "Epoch 44/50, avg train loss: 0.049, avg val loss: 1.101, accuracy: 83.633%\n",
            "Epoch 45/50, avg train loss: 0.059, avg val loss: 1.080, accuracy: 84.433%\n",
            "Epoch 46/50, avg train loss: 0.056, avg val loss: 1.065, accuracy: 84.533%\n",
            "Epoch 47/50, avg train loss: 0.049, avg val loss: 1.241, accuracy: 84.667%\n",
            "Epoch 48/50, avg train loss: 0.051, avg val loss: 1.179, accuracy: 84.800%\n",
            "Epoch 49/50, avg train loss: 0.051, avg val loss: 1.082, accuracy: 85.200%\n",
            "Epoch 50/50, avg train loss: 0.041, avg val loss: 1.203, accuracy: 84.400%\n"
          ]
        }
      ]
    },
    {
      "cell_type": "code",
      "source": [
        "# Visualization of training curves\n",
        "colors = cm.get_cmap('plasma', len(optimizer_names))\n",
        "plt.figure(figsize=(10,6))\n",
        "plt.xlabel('Epoch', size=12)\n",
        "plt.ylabel('Loss', size=12)\n",
        "plt.title('Loss curves', size=12)\n",
        "plt.grid(alpha=0.5)\n",
        "#plt.yscale('log')\n",
        "\n",
        "for i, (train_curve, val_curve, label) in enumerate(zip(train_curves, val_curves, optimizer_names)):\n",
        "    plt.plot(train_curve, c=colors(i), label=label + ' Train')\n",
        "    plt.plot(val_curve, c=colors(i), ls='--', label=label + ' Val')\n",
        "\n",
        "plt.legend(fontsize='12', bbox_to_anchor=(1.27, 0.8));"
      ],
      "metadata": {
        "id": "DSoPvgKMfawW",
        "outputId": "0b31e81f-6d71-43f0-931a-70458b9fec5d",
        "colab": {
          "base_uri": "https://localhost:8080/",
          "height": 407
        }
      },
      "execution_count": 43,
      "outputs": [
        {
          "output_type": "display_data",
          "data": {
            "text/plain": [
              "<Figure size 720x432 with 1 Axes>"
            ],
            "image/png": "[encoded data removed]"
          },
          "metadata": {
            "needs_background": "light"
          }
        }
      ]
    },
    {
      "cell_type": "code",
      "source": [
        "# Visualization of performaces on the test set\n",
        "plt.figure(figsize=(8,6))\n",
        "plt.ylabel('Loss', size=12)\n",
        "plt.title('Test accuraces', size=15)\n",
        "plt.grid(axis='both', alpha=0.5)\n",
        "markers = ['o', 's', '^', 'D', '>']\n",
        "\n",
        "for i in range(len(optimizer_names)):\n",
        "    plt.scatter([i], [test_accuraces[i]], s=200, color=colors(i), marker=markers[i])\n",
        "\n",
        "plt.xticks(ticks=[0,1,2,3,4], labels=optimizer_names, rotation=0, size=12);"
      ],
      "metadata": {
        "id": "5LJUjR3kgp5h",
        "outputId": "bab0b3d5-c870-4078-a2eb-be6355faa0be",
        "colab": {
          "base_uri": "https://localhost:8080/",
          "height": 395
        }
      },
      "execution_count": 45,
      "outputs": [
        {
          "output_type": "display_data",
          "data": {
            "text/plain": [
              "<Figure size 576x432 with 1 Axes>"
            ],
            "image/png": "[encoded data removed]"
          },
          "metadata": {
            "needs_background": "light"
          }
        }
      ]
    },
    {
      "cell_type": "markdown",
      "source": [
        "## Adding regularization and Hyperparameters Optimization"
      ],
      "metadata": {
        "id": "Czhn1M_URaok"
      }
    },
    {
      "cell_type": "code",
      "source": [
        "%pip install optuna\n",
        "import optuna\n",
        "from optuna.trial import TrialState"
      ],
      "metadata": {
        "id": "vQKCyFC2Pnkm"
      },
      "execution_count": null,
      "outputs": []
    },
    {
      "cell_type": "code",
      "source": [
        "class Build_model(nn.Module):\n",
        "\n",
        "    def __init__(self, params):\n",
        "        super().__init__()\n",
        "        \n",
        "        assert np.any(np.array(params['kernel_size']) % 2 == 1), 'Kernel sizes must be odd!'\n",
        "        \n",
        "        # Convolutional layers\n",
        "        conv_layers = []\n",
        "        in_channels = 1\n",
        "        for i in range(2):\n",
        "            # define paddings so as to have always the same output shape\n",
        "            padding = int((params['kernel_size'][i] - 1) / 2)\n",
        "            conv_layers.append(nn.Conv2d(in_channels,\n",
        "                                         params['out_channels'][i],\n",
        "                                         params['kernel_size'][i],\n",
        "                                         padding=padding))\n",
        "            conv_layers.append(nn.Dropout2d(params['p_conv'][i]))\n",
        "            conv_layers.append(nn.MaxPool2d(2, 2))\n",
        "            conv_layers.append(nn.ReLU())\n",
        "            in_channels = params['out_channels'][i]\n",
        "        self.conv_layers = nn.Sequential(*conv_layers)\n",
        "\n",
        "        # Fully connected layers\n",
        "        fc_layers = []\n",
        "        in_features = params['out_channels'][-1] * 7 * 7\n",
        "        for i in range(2):\n",
        "            fc_layers.append(nn.Linear(in_features, params['out_features'][i]))\n",
        "            fc_layers.append(nn.Dropout(params['p_fc'][i]))\n",
        "            fc_layers.append(nn.ReLU())\n",
        "            in_features = params['out_features'][i]\n",
        "        fc_layers.append(nn.Linear(in_features, 10))\n",
        "        self.fc_layers = nn.Sequential(*fc_layers)\n",
        "        \n",
        "    def forward(self, x):\n",
        "        x = self.conv_layers(x)\n",
        "        x = torch.flatten(x, 1)\n",
        "        x = self.fc_layers(x)\n",
        "        return x\n",
        "\n",
        "def train_model(model, num_epochs, loss_fn, optimizer):\n",
        "    train_loss_log = []\n",
        "    val_loss_log = []\n",
        "    for epoch in range(num_epochs):\n",
        "        train_loss = train_epoch(model, DEVICE, train_dataloader, loss_fn, optimizer)\n",
        "        train_loss_log.append(train_loss)\n",
        "\n",
        "        val_loss, accuracy = val_epoch(model, DEVICE, val_dataloader, loss_fn)\n",
        "        val_loss_log.append(val_loss)\n",
        "\n",
        "        print('Epoch {:}/{:}, avg train loss: {:.3f}, avg test loss: {:.3f}, accuracy: {:.3f}%'.format(epoch + 1, num_epochs, train_loss, val_loss, accuracy))\n",
        "    return accuracy\n",
        "\n",
        "def objective(trial):\n",
        "    params = {\n",
        "        'out_channels' : [trial.suggest_int('out_channels_conv0', 4, 6),\n",
        "                          trial.suggest_int('out_channels_conv1', 4, 6)],\n",
        "        'kernel_size' : [trial.suggest_int('kernel_size_conv0', 3, 7, step=2),\n",
        "                         trial.suggest_int('kernel_size_conv1', 3, 7, step=2)],\n",
        "        'p_conv' : [trial.suggest_float('dropout_conv0', 0., 0.5),\n",
        "                    trial.suggest_float('dropout_conv1', 0., 0.5)],\n",
        "        'out_features' : [trial.suggest_int('out_features_fc0', 30, 200),\n",
        "                          trial.suggest_int('out_features_fc1', 30, 200)],\n",
        "        'p_fc' : [trial.suggest_float('dropout_fc0', 0., 0.5),\n",
        "                  trial.suggest_float('dropout_fc1', 0., 0.5)]\n",
        "    }\n",
        "\n",
        "    model = Build_model(params).to(DEVICE)\n",
        "    optimizer = optim.Adam(model.parameters(), lr=1e-3)\n",
        "    loss_fn = nn.CrossEntropyLoss()\n",
        "    accuracy = train_model(model, 5, loss_fn, optimizer)\n",
        "    return accuracy\n"
      ],
      "metadata": {
        "id": "dZK1KI9qV0II"
      },
      "execution_count": 12,
      "outputs": []
    },
    {
      "cell_type": "code",
      "source": [
        "study = optuna.create_study(direction='maximize', sampler=optuna.samplers.TPESampler())\n",
        "study.optimize(objective, n_trials=15)"
      ],
      "metadata": {
        "id": "aSEDqRkUp13U",
        "outputId": "0692375a-cdcc-4d4d-d5fc-6c60fe1a123d",
        "colab": {
          "base_uri": "https://localhost:8080/"
        }
      },
      "execution_count": 13,
      "outputs": [
        {
          "output_type": "stream",
          "name": "stderr",
          "text": [
            "\u001b[32m[I 2022-03-19 17:37:22,725]\u001b[0m A new study created in memory with name: no-name-f8f8d502-231e-4a93-ac48-57eec0ed8b27\u001b[0m\n"
          ]
        },
        {
          "output_type": "stream",
          "name": "stdout",
          "text": [
            "Epoch 1/5, avg train loss: 1.065, avg test loss: 0.728, accuracy: 74.500%\n",
            "Epoch 2/5, avg train loss: 0.732, avg test loss: 0.599, accuracy: 75.667%\n",
            "Epoch 3/5, avg train loss: 0.642, avg test loss: 0.581, accuracy: 78.200%\n",
            "Epoch 4/5, avg train loss: 0.604, avg test loss: 0.513, accuracy: 79.633%\n"
          ]
        },
        {
          "output_type": "stream",
          "name": "stderr",
          "text": [
            "\u001b[32m[I 2022-03-19 17:37:47,224]\u001b[0m Trial 0 finished with value: 81.7 and parameters: {'out_channels_conv0': 4, 'out_channels_conv1': 5, 'kernel_size_conv0': 5, 'kernel_size_conv1': 5, 'dropout_conv0': 0.040929822922470493, 'dropout_conv1': 0.4408509939079865, 'out_features_fc0': 166, 'out_features_fc1': 171, 'dropout_fc0': 0.012840691024973816, 'dropout_fc1': 0.03047345182235528}. Best is trial 0 with value: 81.7.\u001b[0m\n"
          ]
        },
        {
          "output_type": "stream",
          "name": "stdout",
          "text": [
            "Epoch 5/5, avg train loss: 0.554, avg test loss: 0.519, accuracy: 81.700%\n",
            "Epoch 1/5, avg train loss: 1.250, avg test loss: 0.768, accuracy: 68.433%\n",
            "Epoch 2/5, avg train loss: 0.858, avg test loss: 0.649, accuracy: 74.033%\n",
            "Epoch 3/5, avg train loss: 0.760, avg test loss: 0.601, accuracy: 76.667%\n",
            "Epoch 4/5, avg train loss: 0.698, avg test loss: 0.567, accuracy: 79.700%\n"
          ]
        },
        {
          "output_type": "stream",
          "name": "stderr",
          "text": [
            "\u001b[32m[I 2022-03-19 17:38:11,313]\u001b[0m Trial 1 finished with value: 78.6 and parameters: {'out_channels_conv0': 5, 'out_channels_conv1': 6, 'kernel_size_conv0': 5, 'kernel_size_conv1': 5, 'dropout_conv0': 6.519885818145887e-05, 'dropout_conv1': 0.477788856018448, 'out_features_fc0': 179, 'out_features_fc1': 46, 'dropout_fc0': 0.3852954102791969, 'dropout_fc1': 0.17485866539825617}. Best is trial 0 with value: 81.7.\u001b[0m\n"
          ]
        },
        {
          "output_type": "stream",
          "name": "stdout",
          "text": [
            "Epoch 5/5, avg train loss: 0.669, avg test loss: 0.546, accuracy: 78.600%\n",
            "Epoch 1/5, avg train loss: 1.168, avg test loss: 0.733, accuracy: 67.000%\n",
            "Epoch 2/5, avg train loss: 0.766, avg test loss: 0.600, accuracy: 75.233%\n",
            "Epoch 3/5, avg train loss: 0.673, avg test loss: 0.528, accuracy: 80.100%\n",
            "Epoch 4/5, avg train loss: 0.617, avg test loss: 0.501, accuracy: 81.467%\n"
          ]
        },
        {
          "output_type": "stream",
          "name": "stderr",
          "text": [
            "\u001b[32m[I 2022-03-19 17:38:35,584]\u001b[0m Trial 2 finished with value: 82.46666666666667 and parameters: {'out_channels_conv0': 6, 'out_channels_conv1': 6, 'kernel_size_conv0': 5, 'kernel_size_conv1': 3, 'dropout_conv0': 0.4829571450756767, 'dropout_conv1': 0.10067671991265537, 'out_features_fc0': 173, 'out_features_fc1': 181, 'dropout_fc0': 0.26170240085454344, 'dropout_fc1': 0.22293076786937477}. Best is trial 2 with value: 82.46666666666667.\u001b[0m\n"
          ]
        },
        {
          "output_type": "stream",
          "name": "stdout",
          "text": [
            "Epoch 5/5, avg train loss: 0.587, avg test loss: 0.475, accuracy: 82.467%\n",
            "Epoch 1/5, avg train loss: 1.120, avg test loss: 0.821, accuracy: 64.133%\n",
            "Epoch 2/5, avg train loss: 0.722, avg test loss: 0.586, accuracy: 76.767%\n",
            "Epoch 3/5, avg train loss: 0.622, avg test loss: 0.568, accuracy: 76.700%\n",
            "Epoch 4/5, avg train loss: 0.568, avg test loss: 0.540, accuracy: 78.733%\n"
          ]
        },
        {
          "output_type": "stream",
          "name": "stderr",
          "text": [
            "\u001b[32m[I 2022-03-19 17:38:59,496]\u001b[0m Trial 3 finished with value: 79.33333333333333 and parameters: {'out_channels_conv0': 5, 'out_channels_conv1': 6, 'kernel_size_conv0': 3, 'kernel_size_conv1': 7, 'dropout_conv0': 0.18507438186588887, 'dropout_conv1': 0.1971714665696565, 'out_features_fc0': 107, 'out_features_fc1': 88, 'dropout_fc0': 0.1629301466897904, 'dropout_fc1': 0.05479241930979584}. Best is trial 2 with value: 82.46666666666667.\u001b[0m\n"
          ]
        },
        {
          "output_type": "stream",
          "name": "stdout",
          "text": [
            "Epoch 5/5, avg train loss: 0.527, avg test loss: 0.513, accuracy: 79.333%\n",
            "Epoch 1/5, avg train loss: 1.357, avg test loss: 0.786, accuracy: 69.100%\n",
            "Epoch 2/5, avg train loss: 0.976, avg test loss: 0.718, accuracy: 70.667%\n",
            "Epoch 3/5, avg train loss: 0.892, avg test loss: 0.675, accuracy: 71.500%\n",
            "Epoch 4/5, avg train loss: 0.816, avg test loss: 0.611, accuracy: 75.633%\n"
          ]
        },
        {
          "output_type": "stream",
          "name": "stderr",
          "text": [
            "\u001b[32m[I 2022-03-19 17:39:23,496]\u001b[0m Trial 4 finished with value: 76.8 and parameters: {'out_channels_conv0': 4, 'out_channels_conv1': 6, 'kernel_size_conv0': 3, 'kernel_size_conv1': 7, 'dropout_conv0': 0.4658131867915468, 'dropout_conv1': 0.4812640041073557, 'out_features_fc0': 176, 'out_features_fc1': 157, 'dropout_fc0': 0.1393273031160533, 'dropout_fc1': 0.02700057890555263}. Best is trial 2 with value: 82.46666666666667.\u001b[0m\n"
          ]
        },
        {
          "output_type": "stream",
          "name": "stdout",
          "text": [
            "Epoch 5/5, avg train loss: 0.771, avg test loss: 0.566, accuracy: 76.800%\n",
            "Epoch 1/5, avg train loss: 1.132, avg test loss: 0.651, accuracy: 74.033%\n",
            "Epoch 2/5, avg train loss: 0.703, avg test loss: 0.592, accuracy: 76.100%\n",
            "Epoch 3/5, avg train loss: 0.625, avg test loss: 0.526, accuracy: 79.467%\n",
            "Epoch 4/5, avg train loss: 0.572, avg test loss: 0.545, accuracy: 79.500%\n"
          ]
        },
        {
          "output_type": "stream",
          "name": "stderr",
          "text": [
            "\u001b[32m[I 2022-03-19 17:39:47,396]\u001b[0m Trial 5 finished with value: 80.86666666666666 and parameters: {'out_channels_conv0': 5, 'out_channels_conv1': 6, 'kernel_size_conv0': 5, 'kernel_size_conv1': 7, 'dropout_conv0': 0.29088478703049864, 'dropout_conv1': 0.21752005597458157, 'out_features_fc0': 107, 'out_features_fc1': 193, 'dropout_fc0': 0.05215864046862756, 'dropout_fc1': 0.42969098128010996}. Best is trial 2 with value: 82.46666666666667.\u001b[0m\n"
          ]
        },
        {
          "output_type": "stream",
          "name": "stdout",
          "text": [
            "Epoch 5/5, avg train loss: 0.539, avg test loss: 0.509, accuracy: 80.867%\n",
            "Epoch 1/5, avg train loss: 1.230, avg test loss: 0.806, accuracy: 68.233%\n",
            "Epoch 2/5, avg train loss: 0.863, avg test loss: 0.701, accuracy: 72.900%\n",
            "Epoch 3/5, avg train loss: 0.743, avg test loss: 0.606, accuracy: 75.333%\n",
            "Epoch 4/5, avg train loss: 0.682, avg test loss: 0.608, accuracy: 75.233%\n"
          ]
        },
        {
          "output_type": "stream",
          "name": "stderr",
          "text": [
            "\u001b[32m[I 2022-03-19 17:40:11,341]\u001b[0m Trial 6 finished with value: 79.03333333333333 and parameters: {'out_channels_conv0': 6, 'out_channels_conv1': 5, 'kernel_size_conv0': 7, 'kernel_size_conv1': 5, 'dropout_conv0': 0.03115602662891226, 'dropout_conv1': 0.09230099502753264, 'out_features_fc0': 47, 'out_features_fc1': 100, 'dropout_fc0': 0.28407924387825606, 'dropout_fc1': 0.024247967665364856}. Best is trial 2 with value: 82.46666666666667.\u001b[0m\n"
          ]
        },
        {
          "output_type": "stream",
          "name": "stdout",
          "text": [
            "Epoch 5/5, avg train loss: 0.637, avg test loss: 0.567, accuracy: 79.033%\n",
            "Epoch 1/5, avg train loss: 1.217, avg test loss: 0.654, accuracy: 73.933%\n",
            "Epoch 2/5, avg train loss: 0.736, avg test loss: 0.584, accuracy: 76.333%\n",
            "Epoch 3/5, avg train loss: 0.654, avg test loss: 0.535, accuracy: 78.467%\n",
            "Epoch 4/5, avg train loss: 0.606, avg test loss: 0.524, accuracy: 79.867%\n"
          ]
        },
        {
          "output_type": "stream",
          "name": "stderr",
          "text": [
            "\u001b[32m[I 2022-03-19 17:40:35,431]\u001b[0m Trial 7 finished with value: 80.5 and parameters: {'out_channels_conv0': 5, 'out_channels_conv1': 4, 'kernel_size_conv0': 3, 'kernel_size_conv1': 5, 'dropout_conv0': 0.1873590576487848, 'dropout_conv1': 0.20668407449135445, 'out_features_fc0': 189, 'out_features_fc1': 63, 'dropout_fc0': 0.3422667596152117, 'dropout_fc1': 0.317695559246566}. Best is trial 2 with value: 82.46666666666667.\u001b[0m\n"
          ]
        },
        {
          "output_type": "stream",
          "name": "stdout",
          "text": [
            "Epoch 5/5, avg train loss: 0.578, avg test loss: 0.504, accuracy: 80.500%\n",
            "Epoch 1/5, avg train loss: 1.231, avg test loss: 0.691, accuracy: 73.867%\n",
            "Epoch 2/5, avg train loss: 0.788, avg test loss: 0.592, accuracy: 76.300%\n",
            "Epoch 3/5, avg train loss: 0.677, avg test loss: 0.557, accuracy: 78.100%\n",
            "Epoch 4/5, avg train loss: 0.635, avg test loss: 0.511, accuracy: 80.100%\n"
          ]
        },
        {
          "output_type": "stream",
          "name": "stderr",
          "text": [
            "\u001b[32m[I 2022-03-19 17:40:59,241]\u001b[0m Trial 8 finished with value: 81.26666666666667 and parameters: {'out_channels_conv0': 5, 'out_channels_conv1': 6, 'kernel_size_conv0': 5, 'kernel_size_conv1': 7, 'dropout_conv0': 0.1367654341823612, 'dropout_conv1': 0.10326789098483952, 'out_features_fc0': 61, 'out_features_fc1': 167, 'dropout_fc0': 0.37471775773428273, 'dropout_fc1': 0.3584876288715101}. Best is trial 2 with value: 82.46666666666667.\u001b[0m\n"
          ]
        },
        {
          "output_type": "stream",
          "name": "stdout",
          "text": [
            "Epoch 5/5, avg train loss: 0.594, avg test loss: 0.508, accuracy: 81.267%\n",
            "Epoch 1/5, avg train loss: 1.185, avg test loss: 0.739, accuracy: 71.067%\n",
            "Epoch 2/5, avg train loss: 0.768, avg test loss: 0.593, accuracy: 75.367%\n",
            "Epoch 3/5, avg train loss: 0.657, avg test loss: 0.557, accuracy: 77.233%\n",
            "Epoch 4/5, avg train loss: 0.591, avg test loss: 0.491, accuracy: 80.933%\n"
          ]
        },
        {
          "output_type": "stream",
          "name": "stderr",
          "text": [
            "\u001b[32m[I 2022-03-19 17:41:23,056]\u001b[0m Trial 9 finished with value: 79.93333333333334 and parameters: {'out_channels_conv0': 5, 'out_channels_conv1': 6, 'kernel_size_conv0': 7, 'kernel_size_conv1': 7, 'dropout_conv0': 0.321918817354588, 'dropout_conv1': 0.055035803766164015, 'out_features_fc0': 167, 'out_features_fc1': 198, 'dropout_fc0': 0.24953481361186203, 'dropout_fc1': 0.4384161873013136}. Best is trial 2 with value: 82.46666666666667.\u001b[0m\n"
          ]
        },
        {
          "output_type": "stream",
          "name": "stdout",
          "text": [
            "Epoch 5/5, avg train loss: 0.548, avg test loss: 0.501, accuracy: 79.933%\n",
            "Epoch 1/5, avg train loss: 1.420, avg test loss: 0.781, accuracy: 69.467%\n",
            "Epoch 2/5, avg train loss: 0.951, avg test loss: 0.656, accuracy: 73.567%\n",
            "Epoch 3/5, avg train loss: 0.843, avg test loss: 0.600, accuracy: 75.500%\n",
            "Epoch 4/5, avg train loss: 0.788, avg test loss: 0.569, accuracy: 77.733%\n"
          ]
        },
        {
          "output_type": "stream",
          "name": "stderr",
          "text": [
            "\u001b[32m[I 2022-03-19 17:41:47,028]\u001b[0m Trial 10 finished with value: 77.43333333333334 and parameters: {'out_channels_conv0': 6, 'out_channels_conv1': 4, 'kernel_size_conv0': 7, 'kernel_size_conv1': 3, 'dropout_conv0': 0.4967989897319021, 'dropout_conv1': 0.34220455491565327, 'out_features_fc0': 134, 'out_features_fc1': 138, 'dropout_fc0': 0.47649234479739944, 'dropout_fc1': 0.20192221366095503}. Best is trial 2 with value: 82.46666666666667.\u001b[0m\n"
          ]
        },
        {
          "output_type": "stream",
          "name": "stdout",
          "text": [
            "Epoch 5/5, avg train loss: 0.739, avg test loss: 0.557, accuracy: 77.433%\n",
            "Epoch 1/5, avg train loss: 1.224, avg test loss: 0.805, accuracy: 69.200%\n",
            "Epoch 2/5, avg train loss: 0.896, avg test loss: 0.786, accuracy: 69.033%\n",
            "Epoch 3/5, avg train loss: 0.793, avg test loss: 0.610, accuracy: 75.267%\n",
            "Epoch 4/5, avg train loss: 0.725, avg test loss: 0.603, accuracy: 77.867%\n"
          ]
        },
        {
          "output_type": "stream",
          "name": "stderr",
          "text": [
            "\u001b[32m[I 2022-03-19 17:42:10,826]\u001b[0m Trial 11 finished with value: 77.26666666666667 and parameters: {'out_channels_conv0': 4, 'out_channels_conv1': 5, 'kernel_size_conv0': 5, 'kernel_size_conv1': 3, 'dropout_conv0': 0.36654983467410657, 'dropout_conv1': 0.32290636869065403, 'out_features_fc0': 145, 'out_features_fc1': 132, 'dropout_fc0': 0.01125221620696154, 'dropout_fc1': 0.1356453936652639}. Best is trial 2 with value: 82.46666666666667.\u001b[0m\n"
          ]
        },
        {
          "output_type": "stream",
          "name": "stdout",
          "text": [
            "Epoch 5/5, avg train loss: 0.660, avg test loss: 0.556, accuracy: 77.267%\n",
            "Epoch 1/5, avg train loss: 1.311, avg test loss: 0.797, accuracy: 67.933%\n",
            "Epoch 2/5, avg train loss: 0.884, avg test loss: 0.612, accuracy: 75.867%\n",
            "Epoch 3/5, avg train loss: 0.795, avg test loss: 0.581, accuracy: 76.333%\n",
            "Epoch 4/5, avg train loss: 0.733, avg test loss: 0.589, accuracy: 75.900%\n"
          ]
        },
        {
          "output_type": "stream",
          "name": "stderr",
          "text": [
            "\u001b[32m[I 2022-03-19 17:42:34,734]\u001b[0m Trial 12 finished with value: 78.4 and parameters: {'out_channels_conv0': 4, 'out_channels_conv1': 5, 'kernel_size_conv0': 5, 'kernel_size_conv1': 3, 'dropout_conv0': 0.38850110014863526, 'dropout_conv1': 0.38325118081540477, 'out_features_fc0': 200, 'out_features_fc1': 169, 'dropout_fc0': 0.17011792763575817, 'dropout_fc1': 0.28828872590045096}. Best is trial 2 with value: 82.46666666666667.\u001b[0m\n"
          ]
        },
        {
          "output_type": "stream",
          "name": "stdout",
          "text": [
            "Epoch 5/5, avg train loss: 0.694, avg test loss: 0.537, accuracy: 78.400%\n",
            "Epoch 1/5, avg train loss: 1.005, avg test loss: 0.644, accuracy: 76.100%\n",
            "Epoch 2/5, avg train loss: 0.636, avg test loss: 0.570, accuracy: 77.433%\n",
            "Epoch 3/5, avg train loss: 0.551, avg test loss: 0.525, accuracy: 78.667%\n",
            "Epoch 4/5, avg train loss: 0.509, avg test loss: 0.479, accuracy: 81.967%\n"
          ]
        },
        {
          "output_type": "stream",
          "name": "stderr",
          "text": [
            "\u001b[32m[I 2022-03-19 17:42:58,646]\u001b[0m Trial 13 finished with value: 81.06666666666666 and parameters: {'out_channels_conv0': 6, 'out_channels_conv1': 5, 'kernel_size_conv0': 5, 'kernel_size_conv1': 3, 'dropout_conv0': 0.0906871614188062, 'dropout_conv1': 0.014115079370039613, 'out_features_fc0': 149, 'out_features_fc1': 175, 'dropout_fc0': 0.2383000402317627, 'dropout_fc1': 0.1084459467557582}. Best is trial 2 with value: 82.46666666666667.\u001b[0m\n"
          ]
        },
        {
          "output_type": "stream",
          "name": "stdout",
          "text": [
            "Epoch 5/5, avg train loss: 0.478, avg test loss: 0.503, accuracy: 81.067%\n",
            "Epoch 1/5, avg train loss: 1.221, avg test loss: 0.805, accuracy: 68.700%\n",
            "Epoch 2/5, avg train loss: 0.826, avg test loss: 0.674, accuracy: 71.867%\n",
            "Epoch 3/5, avg train loss: 0.685, avg test loss: 0.555, accuracy: 77.767%\n",
            "Epoch 4/5, avg train loss: 0.606, avg test loss: 0.527, accuracy: 79.767%\n"
          ]
        },
        {
          "output_type": "stream",
          "name": "stderr",
          "text": [
            "\u001b[32m[I 2022-03-19 17:43:22,561]\u001b[0m Trial 14 finished with value: 80.76666666666667 and parameters: {'out_channels_conv0': 4, 'out_channels_conv1': 4, 'kernel_size_conv0': 3, 'kernel_size_conv1': 5, 'dropout_conv0': 0.2394937937183983, 'dropout_conv1': 0.15410128328797648, 'out_features_fc0': 124, 'out_features_fc1': 139, 'dropout_fc0': 0.09139732496588258, 'dropout_fc1': 0.22854767521435443}. Best is trial 2 with value: 82.46666666666667.\u001b[0m\n"
          ]
        },
        {
          "output_type": "stream",
          "name": "stdout",
          "text": [
            "Epoch 5/5, avg train loss: 0.552, avg test loss: 0.498, accuracy: 80.767%\n"
          ]
        }
      ]
    },
    {
      "cell_type": "code",
      "source": [
        "study.best_params"
      ],
      "metadata": {
        "id": "ZSElIT4d4V3J",
        "outputId": "f6150d1b-41bc-46ec-c157-cb36de5b6fbe",
        "colab": {
          "base_uri": "https://localhost:8080/"
        }
      },
      "execution_count": 14,
      "outputs": [
        {
          "output_type": "execute_result",
          "data": {
            "text/plain": [
              "{'dropout_conv0': 0.4829571450756767,\n",
              " 'dropout_conv1': 0.10067671991265537,\n",
              " 'dropout_fc0': 0.26170240085454344,\n",
              " 'dropout_fc1': 0.22293076786937477,\n",
              " 'kernel_size_conv0': 5,\n",
              " 'kernel_size_conv1': 3,\n",
              " 'out_channels_conv0': 6,\n",
              " 'out_channels_conv1': 6,\n",
              " 'out_features_fc0': 173,\n",
              " 'out_features_fc1': 181}"
            ]
          },
          "metadata": {},
          "execution_count": 14
        }
      ]
    },
    {
      "cell_type": "code",
      "source": [
        "from torch.nn.modules import padding\n",
        "class Best_conv_net(nn.Module):\n",
        "\n",
        "    def __init__(self, params):\n",
        "        super().__init__()\n",
        "        padding0 = int((params['kernel_size_conv0'] - 1) / 2)\n",
        "        padding1 = int((params['kernel_size_conv1'] - 1) / 2)\n",
        "        conv_layers = []\n",
        "        conv_layers.append(nn.Conv2d(in_channels=1,\n",
        "                               out_channels=params['out_channels_conv0'],\n",
        "                               kernel_size=params['kernel_size_conv0'],\n",
        "                               padding=padding0))\n",
        "        conv_layers.append(nn.Dropout2d(params['dropout_conv0']))\n",
        "        conv_layers.append(nn.MaxPool2d(kernel_size=2, stride=2))\n",
        "        conv_layers.append(nn.ReLU())\n",
        "        conv_layers.append(nn.Conv2d(in_channels=params['out_channels_conv1'],\n",
        "                               out_channels=params['out_channels_conv1'],\n",
        "                               kernel_size=params['kernel_size_conv1'],\n",
        "                               padding=padding1))\n",
        "        conv_layers.append(nn.Dropout2d(params['dropout_conv1']))\n",
        "        conv_layers.append(nn.MaxPool2d(kernel_size=2, stride=2))\n",
        "        conv_layers.append(nn.ReLU())\n",
        "        self.conv_layers = nn.Sequential(*conv_layers)\n",
        "\n",
        "        fc_layers = []\n",
        "        fc_layers.append(nn.Linear(params['out_channels_conv1']*7*7,\n",
        "                             params['out_features_fc0']))\n",
        "        fc_layers.append(nn.Dropout(params['dropout_fc0']))\n",
        "        fc_layers.append(nn.ReLU())\n",
        "        fc_layers.append(nn.Linear(params['out_features_fc0'],\n",
        "                             params['out_features_fc1']))\n",
        "        fc_layers.append(nn.Dropout(params['dropout_fc1']))\n",
        "        fc_layers.append(nn.ReLU())\n",
        "        self.fc_layers = nn.Sequential(*fc_layers)\n",
        "\n",
        "    def forward(self, x):\n",
        "        x = self.conv_layers(x)\n",
        "        x = torch.flatten(x, 1)\n",
        "        x = self.fc_layers(x)\n",
        "        return x"
      ],
      "metadata": {
        "id": "n3zRFuqG9o_i"
      },
      "execution_count": 15,
      "outputs": []
    },
    {
      "cell_type": "code",
      "source": [
        "conv_net = Best_conv_net(study.best_params).to(DEVICE)\n",
        "loss_fn = nn.CrossEntropyLoss()\n",
        "optimizer = optim.Adam(conv_net.parameters(), lr=1e-3)"
      ],
      "metadata": {
        "id": "s0Xdv2xvBrn1"
      },
      "execution_count": 16,
      "outputs": []
    },
    {
      "cell_type": "code",
      "source": [
        "num_epochs = 50\n",
        "train_loss_log = []\n",
        "val_loss_log = []\n",
        "for epoch in range(num_epochs):\n",
        "    train_loss = train_epoch(conv_net, DEVICE, train_dataloader, loss_fn, optimizer)\n",
        "    train_loss_log.append(train_loss)\n",
        "\n",
        "    val_loss, accuracy = val_epoch(conv_net, DEVICE, val_dataloader, loss_fn)\n",
        "    val_loss_log.append(val_loss)\n",
        "\n",
        "    print('Epoch {:}/{:}, avg train loss: {:.3f}, avg test loss: {:.3f}, accuracy: {:.3f}%'.format(epoch + 1, num_epochs, train_loss, val_loss, accuracy))\n",
        "\n",
        "test_accuracy = compute_accuracy(conv_net, DEVICE, test_dataloader)"
      ],
      "metadata": {
        "id": "EAQwvXFaBjWh",
        "outputId": "becb7949-47f8-40fa-c6df-355d52f525ef",
        "colab": {
          "base_uri": "https://localhost:8080/"
        }
      },
      "execution_count": 17,
      "outputs": [
        {
          "output_type": "stream",
          "name": "stdout",
          "text": [
            "Epoch 1/50, avg train loss: 3.111, avg test loss: 1.976, accuracy: 61.433%\n",
            "Epoch 2/50, avg train loss: 2.506, avg test loss: 1.532, accuracy: 68.733%\n",
            "Epoch 3/50, avg train loss: 2.384, avg test loss: 1.657, accuracy: 69.333%\n",
            "Epoch 4/50, avg train loss: 2.345, avg test loss: 1.562, accuracy: 70.033%\n",
            "Epoch 5/50, avg train loss: 2.253, avg test loss: 1.555, accuracy: 72.733%\n",
            "Epoch 6/50, avg train loss: 2.261, avg test loss: 1.425, accuracy: 73.233%\n",
            "Epoch 7/50, avg train loss: 2.188, avg test loss: 1.333, accuracy: 73.533%\n",
            "Epoch 8/50, avg train loss: 2.229, avg test loss: 1.388, accuracy: 73.567%\n",
            "Epoch 9/50, avg train loss: 2.154, avg test loss: 1.451, accuracy: 74.700%\n",
            "Epoch 10/50, avg train loss: 2.133, avg test loss: 1.366, accuracy: 75.500%\n",
            "Epoch 11/50, avg train loss: 2.091, avg test loss: 1.309, accuracy: 75.700%\n",
            "Epoch 12/50, avg train loss: 2.123, avg test loss: 1.314, accuracy: 75.033%\n",
            "Epoch 13/50, avg train loss: 2.055, avg test loss: 1.216, accuracy: 75.867%\n",
            "Epoch 14/50, avg train loss: 2.112, avg test loss: 1.220, accuracy: 76.367%\n",
            "Epoch 15/50, avg train loss: 2.073, avg test loss: 1.275, accuracy: 75.533%\n",
            "Epoch 16/50, avg train loss: 2.063, avg test loss: 1.299, accuracy: 75.733%\n",
            "Epoch 17/50, avg train loss: 2.044, avg test loss: 1.291, accuracy: 76.400%\n",
            "Epoch 18/50, avg train loss: 2.039, avg test loss: 1.328, accuracy: 76.600%\n",
            "Epoch 19/50, avg train loss: 2.075, avg test loss: 1.200, accuracy: 77.167%\n",
            "Epoch 20/50, avg train loss: 2.054, avg test loss: 1.137, accuracy: 76.833%\n",
            "Epoch 21/50, avg train loss: 2.030, avg test loss: 1.148, accuracy: 76.467%\n",
            "Epoch 22/50, avg train loss: 2.064, avg test loss: 1.285, accuracy: 76.633%\n",
            "Epoch 23/50, avg train loss: 1.997, avg test loss: 1.170, accuracy: 77.200%\n",
            "Epoch 24/50, avg train loss: 2.000, avg test loss: 1.226, accuracy: 77.167%\n",
            "Epoch 25/50, avg train loss: 2.052, avg test loss: 1.201, accuracy: 77.267%\n",
            "Epoch 26/50, avg train loss: 2.001, avg test loss: 1.147, accuracy: 77.233%\n",
            "Epoch 27/50, avg train loss: 2.017, avg test loss: 1.183, accuracy: 77.367%\n",
            "Epoch 28/50, avg train loss: 2.007, avg test loss: 1.171, accuracy: 77.333%\n",
            "Epoch 29/50, avg train loss: 2.011, avg test loss: 1.237, accuracy: 77.367%\n",
            "Epoch 30/50, avg train loss: 1.976, avg test loss: 1.225, accuracy: 76.933%\n",
            "Epoch 31/50, avg train loss: 1.956, avg test loss: 1.151, accuracy: 76.400%\n",
            "Epoch 32/50, avg train loss: 1.973, avg test loss: 1.237, accuracy: 77.900%\n",
            "Epoch 33/50, avg train loss: 1.982, avg test loss: 1.115, accuracy: 77.967%\n",
            "Epoch 34/50, avg train loss: 1.970, avg test loss: 1.121, accuracy: 77.767%\n",
            "Epoch 35/50, avg train loss: 1.980, avg test loss: 1.120, accuracy: 77.533%\n",
            "Epoch 36/50, avg train loss: 1.963, avg test loss: 1.181, accuracy: 76.533%\n",
            "Epoch 37/50, avg train loss: 1.992, avg test loss: 1.112, accuracy: 77.733%\n",
            "Epoch 38/50, avg train loss: 1.930, avg test loss: 1.146, accuracy: 77.100%\n",
            "Epoch 39/50, avg train loss: 1.936, avg test loss: 1.158, accuracy: 77.800%\n",
            "Epoch 40/50, avg train loss: 1.986, avg test loss: 1.144, accuracy: 77.300%\n",
            "Epoch 41/50, avg train loss: 1.906, avg test loss: 1.240, accuracy: 77.400%\n",
            "Epoch 42/50, avg train loss: 1.936, avg test loss: 1.128, accuracy: 77.067%\n",
            "Epoch 43/50, avg train loss: 1.950, avg test loss: 1.137, accuracy: 77.767%\n",
            "Epoch 44/50, avg train loss: 1.951, avg test loss: 1.121, accuracy: 77.200%\n",
            "Epoch 45/50, avg train loss: 1.908, avg test loss: 1.088, accuracy: 78.000%\n",
            "Epoch 46/50, avg train loss: 1.962, avg test loss: 1.098, accuracy: 77.800%\n",
            "Epoch 47/50, avg train loss: 1.956, avg test loss: 1.122, accuracy: 78.233%\n",
            "Epoch 48/50, avg train loss: 1.971, avg test loss: 1.154, accuracy: 78.067%\n",
            "Epoch 49/50, avg train loss: 1.922, avg test loss: 1.129, accuracy: 77.833%\n",
            "Epoch 50/50, avg train loss: 1.897, avg test loss: 1.136, accuracy: 78.167%\n"
          ]
        }
      ]
    },
    {
      "cell_type": "code",
      "source": [
        "plt.figure(figsize=(10,6))\n",
        "plt.plot(train_loss_log, c='red', label='Train loss', alpha=0.8)\n",
        "plt.plot(val_loss_log, c='blue', label='Validation loss', alpha=0.8)\n",
        "plt.xlabel('Epoch', size=12)\n",
        "plt.ylabel('Loss', size=12)\n",
        "plt.legend(fontsize='12')\n",
        "plt.title('Loss curves', size=12)\n",
        "plt.grid(alpha=0.5)\n",
        "#plt.yscale('log')\n",
        "\n",
        "print('Accuracy over the test set: {:.3f}'.format(test_accuracy))"
      ],
      "metadata": {
        "id": "yXPdw66yCCn3",
        "outputId": "e3690e20-8cd5-45a4-ba6f-9c229416b527",
        "colab": {
          "base_uri": "https://localhost:8080/",
          "height": 424
        }
      },
      "execution_count": 18,
      "outputs": [
        {
          "output_type": "stream",
          "name": "stdout",
          "text": [
            "Accuracy over the test set: 77.800\n"
          ]
        },
        {
          "output_type": "display_data",
          "data": {
            "text/plain": [
              "<Figure size 720x432 with 1 Axes>"
            ],
            "image/png": "[encoded data removed]"
          },
          "metadata": {
            "needs_background": "light"
          }
        }
      ]
    },
    {
      "cell_type": "code",
      "source": [
        ""
      ],
      "metadata": {
        "id": "86R-HYp6C_NT"
      },
      "execution_count": null,
      "outputs": []
    }
  ]
}