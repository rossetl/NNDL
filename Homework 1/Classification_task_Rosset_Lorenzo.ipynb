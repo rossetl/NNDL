{
  "nbformat": 4,
  "nbformat_minor": 0,
  "metadata": {
    "colab": {
      "name": "Classification_task-Rosset_Lorenzo.ipynb",
      "provenance": [],
      "authorship_tag": "ABX9TyN5tkYNASGhd/u0vMCPSAu7"
    },
    "kernelspec": {
      "name": "python3",
      "display_name": "Python 3"
    },
    "language_info": {
      "name": "python"
    },
    "accelerator": "GPU"
  },
  "cells": [
    {
      "cell_type": "markdown",
      "source": [
        "# Neural Networks and Deep Learning - Homework 1: Supervised Learning\n",
        "## Classification Task\n",
        "## Rosset Lorenzo, mat. 2021859"
      ],
      "metadata": {
        "id": "oSDD83HDaPh1"
      }
    },
    {
      "cell_type": "code",
      "source": [
        "!git clone https://github.com/rossetl/NNDL.git\n",
        "%cd NNDL/Homework\\ 1"
      ],
      "metadata": {
        "colab": {
          "base_uri": "https://localhost:8080/"
        },
        "id": "Zydee3r-afIo",
        "outputId": "53589458-14bf-44d5-b449-55a95503ad9c"
      },
      "execution_count": 1,
      "outputs": [
        {
          "output_type": "stream",
          "name": "stdout",
          "text": [
            "Cloning into 'NNDL'...\n",
            "remote: Enumerating objects: 89, done.\u001b[K\n",
            "remote: Counting objects: 100% (89/89), done.\u001b[K\n",
            "remote: Compressing objects: 100% (89/89), done.\u001b[K\n",
            "remote: Total 89 (delta 24), reused 5 (delta 0), pack-reused 0\u001b[K\n",
            "Unpacking objects: 100% (89/89), done.\n",
            "/content/NNDL/Homework 1\n"
          ]
        }
      ]
    },
    {
      "cell_type": "code",
      "source": [
        "from re import I\n",
        "import pandas as pd\n",
        "import matplotlib.pyplot as plt\n",
        "from matplotlib import cm\n",
        "import numpy as np\n",
        "\n",
        "import torch\n",
        "import torch.nn as nn\n",
        "import torch.optim as optim\n",
        "import torchvision\n",
        "from torchvision import transforms\n",
        "from torch.utils.data import Dataset, DataLoader, SubsetRandomSampler, Subset\n",
        "from sklearn.model_selection import KFold"
      ],
      "metadata": {
        "id": "cJaOcEtOahnH"
      },
      "execution_count": 2,
      "outputs": []
    },
    {
      "cell_type": "code",
      "source": [
        "BATCHSIZE = 10\n",
        "DEVICE = torch.device('cuda') if torch.cuda.is_available() else torch.device('cpu')\n",
        "NUM_CLASSES = 10\n",
        "print(f'Training device:', DEVICE)"
      ],
      "metadata": {
        "colab": {
          "base_uri": "https://localhost:8080/"
        },
        "id": "zu7l9W8hGDB4",
        "outputId": "44585791-7daa-420a-9a26-99e8afc194b7"
      },
      "execution_count": 3,
      "outputs": [
        {
          "output_type": "stream",
          "name": "stdout",
          "text": [
            "Training device: cuda\n"
          ]
        }
      ]
    },
    {
      "cell_type": "code",
      "source": [
        "transform = transforms.Compose(\n",
        "    [transforms.ToTensor(),\n",
        "     transforms.Normalize((0.), (1.))]) # try to change this\n",
        "\n",
        "train_dataset = torchvision.datasets.FashionMNIST('classifier_data', train=True, download=True, transform=transform)\n",
        "test_dataset  = torchvision.datasets.FashionMNIST('classifier_data', train=False, download=True, transform=transform)"
      ],
      "metadata": {
        "id": "0syPBu3faoOY"
      },
      "execution_count": null,
      "outputs": []
    },
    {
      "cell_type": "code",
      "source": [
        "train_size = 7000\n",
        "val_size = 3000\n",
        "test_size = 3000\n",
        "\n",
        "train_subset = SubsetRandomSampler(np.arange(train_size))\n",
        "val_subset = SubsetRandomSampler(np.arange(train_size, train_size + val_size))\n",
        "test_subset = SubsetRandomSampler(np.arange(test_size))\n",
        "\n",
        "train_dataloader = DataLoader(train_dataset, sampler=train_subset, batch_size=BATCHSIZE, shuffle=False, num_workers=1)\n",
        "val_dataloader = DataLoader(train_dataset, sampler=val_subset, batch_size=BATCHSIZE, shuffle=False, num_workers=1)\n",
        "test_dataloader = DataLoader(test_dataset, sampler=test_subset, batch_size=1, shuffle=False, num_workers=1)"
      ],
      "metadata": {
        "id": "dYOKw8ogEpDG"
      },
      "execution_count": 5,
      "outputs": []
    },
    {
      "cell_type": "code",
      "source": [
        "classes = ['T-shirt', 'Trouser', 'Pullover', 'Dress', 'Coat', 'Sandal', 'Shirt', 'Sneaker', 'Bag', 'Ankle boot']\n",
        "\n",
        "def imshow(img, title):\n",
        "    npimg = img.numpy()[0]\n",
        "    plt.imshow(npimg, cmap='Greys')\n",
        "    plt.title(title, size=15)\n",
        "    plt.show()\n",
        "\n",
        "idx = 3\n",
        "imshow(train_dataset[idx][0], classes[train_dataset[idx][1]])"
      ],
      "metadata": {
        "colab": {
          "base_uri": "https://localhost:8080/",
          "height": 283
        },
        "id": "qXPpvQayi5Ms",
        "outputId": "834beac4-adcf-4460-ee40-d6d269637ecb"
      },
      "execution_count": 6,
      "outputs": [
        {
          "output_type": "display_data",
          "data": {
            "text/plain": [
              "<Figure size 432x288 with 1 Axes>"
            ],
            "image/png": "[encoded data removed]"
          },
          "metadata": {
            "needs_background": "light"
          }
        }
      ]
    },
    {
      "cell_type": "code",
      "source": [
        "# Check that classes are evenly distributed across datasets\n",
        "train_labels = np.array([])\n",
        "val_labels = np.array([])\n",
        "test_labels = np.array([])\n",
        "\n",
        "for batch_sample in train_dataloader:\n",
        "    labels = batch_sample[1].numpy()\n",
        "    train_labels = np.append(train_labels, labels)\n",
        "\n",
        "for batch_sample in val_dataloader:\n",
        "    labels = batch_sample[1].numpy()\n",
        "    val_labels = np.append(val_labels, labels)\n",
        "\n",
        "for batch_sample in test_dataloader:\n",
        "    labels = batch_sample[1].numpy()\n",
        "    test_labels = np.append(test_labels, labels)"
      ],
      "metadata": {
        "id": "L0eowpk2TXPS"
      },
      "execution_count": 7,
      "outputs": []
    },
    {
      "cell_type": "code",
      "source": [
        "fig, axes = plt.subplots(figsize=(16,6), nrows=1, ncols=3)\n",
        "titles = ['Training set', 'Validation set', 'Test set']\n",
        "labels_list = [train_labels, val_labels, test_labels]\n",
        "for title, ax, labels in zip(titles, axes, labels_list):\n",
        "    ax.set_title(title, size=12)\n",
        "    ax.set_xlabel('Class', size=12)\n",
        "    ax.set_ylabel('Number of samples', size=12)\n",
        "    ax.set_xticks(np.arange(10))\n",
        "    ax.bar(*np.unique(labels, return_counts=True), color='navy', alpha=0.8);"
      ],
      "metadata": {
        "id": "qTqd29GuUYZ0",
        "outputId": "24fa2549-2f3d-4589-fcb0-0993927e234c",
        "colab": {
          "base_uri": "https://localhost:8080/",
          "height": 407
        }
      },
      "execution_count": null,
      "outputs": [
        {
          "output_type": "display_data",
          "data": {
            "text/plain": [
              "<Figure size 1152x432 with 3 Axes>"
            ],
            "image/png": "[encoded data removed]"
          },
          "metadata": {
            "needs_background": "light"
          }
        }
      ]
    },
    {
      "cell_type": "markdown",
      "source": [
        "## Simple Convolutional Network"
      ],
      "metadata": {
        "id": "fMslE6P6iJjH"
      }
    },
    {
      "cell_type": "code",
      "source": [
        "class Conv_net(nn.Module):\n",
        "\n",
        "    def __init__(self):\n",
        "        super().__init__()\n",
        "        self.conv1 = nn.Conv2d(in_channels=1, out_channels=6, kernel_size=5)\n",
        "        self.pool = nn.MaxPool2d(kernel_size=2, stride=2)\n",
        "        self.conv2 = nn.Conv2d(in_channels=6, out_channels=12, kernel_size=5)\n",
        "        self.fc1 = nn.Linear(12*4*4, 120)\n",
        "        self.fc2 = nn.Linear(120, 60)\n",
        "        self.fc3 = nn.Linear(60, 10)\n",
        "        self.activation = nn.ReLU()\n",
        "    \n",
        "    def forward(self, x):\n",
        "        x = self.pool(self.activation(self.conv1(x)))\n",
        "        x = self.pool(self.activation(self.conv2(x)))\n",
        "        x = torch.flatten(x, 1)\n",
        "        x = self.activation(self.fc1(x))\n",
        "        x = self.activation(self.fc2(x))\n",
        "        x = self.fc3(x)\n",
        "        return x"
      ],
      "metadata": {
        "id": "f3YWF2fbhhEP"
      },
      "execution_count": null,
      "outputs": []
    },
    {
      "cell_type": "code",
      "source": [
        "conv_net = Conv_net().to(DEVICE)\n",
        "loss_fn = nn.CrossEntropyLoss()\n",
        "optimizer = optim.Adam(conv_net.parameters(), lr=1e-3)"
      ],
      "metadata": {
        "id": "HS6Tb0ths_M7"
      },
      "execution_count": null,
      "outputs": []
    },
    {
      "cell_type": "code",
      "source": [
        "def train_epoch(model, device, dataloader, loss_fn, optimizer):\n",
        "    train_loss = []\n",
        "    model.train()\n",
        "    for sample_batched in dataloader:\n",
        "        x_batch = sample_batched[0].to(device)\n",
        "        label_batch = sample_batched[1].to(device)\n",
        "        out = model(x_batch)\n",
        "        loss = loss_fn(out, label_batch)\n",
        "        model.zero_grad()\n",
        "        loss.backward()\n",
        "        optimizer.step()\n",
        "        loss_batch = loss.detach().cpu().numpy()\n",
        "        train_loss.append(loss_batch)\n",
        "    return np.mean(train_loss)\n",
        "\n",
        "def val_epoch(model, device, dataloader, loss_fn):\n",
        "    val_loss = []\n",
        "    correct = 0\n",
        "    total = 0\n",
        "    model.eval()\n",
        "    with torch.no_grad():\n",
        "        for sample_batched in dataloader:\n",
        "            x_batch = sample_batched[0].to(device)\n",
        "            label_batch = sample_batched[1].to(device)\n",
        "            out = model(x_batch)\n",
        "            _, predicted = torch.max(out.data, 1)\n",
        "            total += label_batch.size(0)\n",
        "            correct += (predicted == label_batch).sum().item()\n",
        "            loss = loss_fn(out, label_batch)\n",
        "            loss_batch = loss.detach().cpu().numpy()\n",
        "            val_loss.append(loss_batch)\n",
        "    accuracy = 100 * correct / total\n",
        "    return np.mean(val_loss), accuracy\n",
        "\n",
        "# Compute the accuracy over the test set\n",
        "def compute_accuracy(model, device, dataloader):\n",
        "    correct = 0\n",
        "    total = 0\n",
        "    model.eval()\n",
        "    with torch.no_grad():\n",
        "        for sample_batched in dataloader:\n",
        "            x_batch = sample_batched[0].to(device)\n",
        "            label_batch = sample_batched[1].to(device)\n",
        "            out = model(x_batch)\n",
        "            _, predicted = torch.max(out.data, 1)\n",
        "            total += label_batch.size(0)\n",
        "            correct += (predicted == label_batch).sum().item()\n",
        "    accuracy = 100 * correct / total\n",
        "    return accuracy"
      ],
      "metadata": {
        "id": "kJCaDcoMtfIc"
      },
      "execution_count": 49,
      "outputs": []
    },
    {
      "cell_type": "code",
      "source": [
        "num_epochs = 50\n",
        "train_loss_log = []\n",
        "val_loss_log = []\n",
        "for epoch in range(num_epochs):\n",
        "    train_loss = train_epoch(conv_net, DEVICE, train_dataloader, loss_fn, optimizer)\n",
        "    train_loss_log.append(train_loss)\n",
        "\n",
        "    val_loss, accuracy = val_epoch(conv_net, DEVICE, val_dataloader, loss_fn)\n",
        "    val_loss_log.append(val_loss)\n",
        "\n",
        "    print('Epoch {:}/{:}, avg train loss: {:.3f}, avg test loss: {:.3f}, accuracy: {:.3f}%'.format(epoch + 1, num_epochs, train_loss, val_loss, accuracy))\n",
        "\n",
        "test_accuracy = compute_accuracy(conv_net, DEVICE, test_dataloader)"
      ],
      "metadata": {
        "colab": {
          "base_uri": "https://localhost:8080/"
        },
        "id": "iTmlm35ItUJc",
        "outputId": "52906990-24bd-4ea1-996c-910cdc71a4da"
      },
      "execution_count": null,
      "outputs": [
        {
          "output_type": "stream",
          "name": "stdout",
          "text": [
            "Epoch 1/50, avg train loss: 0.932, avg test loss: 0.670, accuracy: 74.000%\n",
            "Epoch 2/50, avg train loss: 0.622, avg test loss: 0.620, accuracy: 76.000%\n",
            "Epoch 3/50, avg train loss: 0.557, avg test loss: 0.545, accuracy: 77.000%\n",
            "Epoch 4/50, avg train loss: 0.494, avg test loss: 0.518, accuracy: 80.000%\n",
            "Epoch 5/50, avg train loss: 0.459, avg test loss: 0.508, accuracy: 81.000%\n",
            "Epoch 6/50, avg train loss: 0.423, avg test loss: 0.500, accuracy: 80.000%\n",
            "Epoch 7/50, avg train loss: 0.393, avg test loss: 0.455, accuracy: 84.000%\n",
            "Epoch 8/50, avg train loss: 0.365, avg test loss: 0.465, accuracy: 83.000%\n",
            "Epoch 9/50, avg train loss: 0.348, avg test loss: 0.424, accuracy: 84.000%\n",
            "Epoch 10/50, avg train loss: 0.325, avg test loss: 0.448, accuracy: 83.000%\n",
            "Epoch 11/50, avg train loss: 0.307, avg test loss: 0.471, accuracy: 83.000%\n",
            "Epoch 12/50, avg train loss: 0.291, avg test loss: 0.476, accuracy: 83.000%\n",
            "Epoch 13/50, avg train loss: 0.275, avg test loss: 0.450, accuracy: 84.000%\n",
            "Epoch 14/50, avg train loss: 0.261, avg test loss: 0.445, accuracy: 84.000%\n",
            "Epoch 15/50, avg train loss: 0.247, avg test loss: 0.442, accuracy: 85.000%\n",
            "Epoch 16/50, avg train loss: 0.229, avg test loss: 0.495, accuracy: 83.000%\n",
            "Epoch 17/50, avg train loss: 0.226, avg test loss: 0.432, accuracy: 85.000%\n",
            "Epoch 18/50, avg train loss: 0.210, avg test loss: 0.503, accuracy: 84.000%\n",
            "Epoch 19/50, avg train loss: 0.192, avg test loss: 0.457, accuracy: 85.000%\n",
            "Epoch 20/50, avg train loss: 0.189, avg test loss: 0.489, accuracy: 85.000%\n",
            "Epoch 21/50, avg train loss: 0.175, avg test loss: 0.526, accuracy: 84.000%\n",
            "Epoch 22/50, avg train loss: 0.161, avg test loss: 0.533, accuracy: 84.000%\n",
            "Epoch 23/50, avg train loss: 0.156, avg test loss: 0.536, accuracy: 85.000%\n",
            "Epoch 24/50, avg train loss: 0.147, avg test loss: 0.518, accuracy: 85.000%\n",
            "Epoch 25/50, avg train loss: 0.130, avg test loss: 0.579, accuracy: 85.000%\n",
            "Epoch 26/50, avg train loss: 0.127, avg test loss: 0.534, accuracy: 85.000%\n",
            "Epoch 27/50, avg train loss: 0.124, avg test loss: 0.758, accuracy: 82.000%\n",
            "Epoch 28/50, avg train loss: 0.114, avg test loss: 0.643, accuracy: 85.000%\n",
            "Epoch 29/50, avg train loss: 0.104, avg test loss: 0.609, accuracy: 86.000%\n",
            "Epoch 30/50, avg train loss: 0.101, avg test loss: 0.648, accuracy: 85.000%\n",
            "Epoch 31/50, avg train loss: 0.100, avg test loss: 0.657, accuracy: 85.000%\n",
            "Epoch 32/50, avg train loss: 0.088, avg test loss: 0.692, accuracy: 85.000%\n",
            "Epoch 33/50, avg train loss: 0.091, avg test loss: 0.716, accuracy: 84.000%\n",
            "Epoch 34/50, avg train loss: 0.076, avg test loss: 0.704, accuracy: 84.000%\n",
            "Epoch 35/50, avg train loss: 0.067, avg test loss: 0.802, accuracy: 85.000%\n",
            "Epoch 36/50, avg train loss: 0.084, avg test loss: 0.759, accuracy: 85.000%\n",
            "Epoch 37/50, avg train loss: 0.068, avg test loss: 0.756, accuracy: 85.000%\n",
            "Epoch 38/50, avg train loss: 0.062, avg test loss: 0.832, accuracy: 84.000%\n",
            "Epoch 39/50, avg train loss: 0.062, avg test loss: 0.883, accuracy: 83.000%\n",
            "Epoch 40/50, avg train loss: 0.056, avg test loss: 0.843, accuracy: 84.000%\n",
            "Epoch 41/50, avg train loss: 0.057, avg test loss: 0.832, accuracy: 85.000%\n",
            "Epoch 42/50, avg train loss: 0.057, avg test loss: 0.927, accuracy: 84.000%\n",
            "Epoch 43/50, avg train loss: 0.057, avg test loss: 0.925, accuracy: 85.000%\n",
            "Epoch 44/50, avg train loss: 0.056, avg test loss: 0.895, accuracy: 85.000%\n",
            "Epoch 45/50, avg train loss: 0.039, avg test loss: 0.951, accuracy: 85.000%\n",
            "Epoch 46/50, avg train loss: 0.059, avg test loss: 0.960, accuracy: 84.000%\n",
            "Epoch 47/50, avg train loss: 0.044, avg test loss: 0.914, accuracy: 85.000%\n",
            "Epoch 48/50, avg train loss: 0.031, avg test loss: 0.980, accuracy: 85.000%\n",
            "Epoch 49/50, avg train loss: 0.060, avg test loss: 0.940, accuracy: 85.000%\n",
            "Epoch 50/50, avg train loss: 0.054, avg test loss: 0.961, accuracy: 85.000%\n"
          ]
        }
      ]
    },
    {
      "cell_type": "code",
      "source": [
        "plt.figure(figsize=(10,6))\n",
        "plt.plot(train_loss_log, c='red', label='Train loss', alpha=0.8)\n",
        "plt.plot(val_loss_log, c='blue', label='Validation loss', alpha=0.8)\n",
        "plt.xlabel('Epoch', size=12)\n",
        "plt.ylabel('Loss', size=12)\n",
        "plt.legend(fontsize='12')\n",
        "plt.title('Loss curves', size=12)\n",
        "plt.grid(alpha=0.5)\n",
        "#plt.yscale('log')\n",
        "\n",
        "print('Accuracy over the test set: {:.3f}'.format(test_accuracy))"
      ],
      "metadata": {
        "id": "dknNJhLTvGHq",
        "colab": {
          "base_uri": "https://localhost:8080/",
          "height": 424
        },
        "outputId": "755fe04d-478c-4866-8bcc-2393f16beb13"
      },
      "execution_count": null,
      "outputs": [
        {
          "output_type": "stream",
          "name": "stdout",
          "text": [
            "Accuracy over the test set: 84.767\n"
          ]
        },
        {
          "output_type": "display_data",
          "data": {
            "text/plain": [
              "<Figure size 720x432 with 1 Axes>"
            ],
            "image/png": "[encoded data removed]"
          },
          "metadata": {
            "needs_background": "light"
          }
        }
      ]
    },
    {
      "cell_type": "markdown",
      "source": [
        "## Different optimizers and sparsity"
      ],
      "metadata": {
        "id": "xj3Fh1bEZGO_"
      }
    },
    {
      "cell_type": "code",
      "source": [
        "optimizer_names = ['SGD', 'Adam', 'Adagrad', 'Adadelta', 'RMSprop']\n",
        "train_curves = []\n",
        "val_curves = []\n",
        "test_losses = []\n",
        "test_accuraces = []\n",
        "for optimizer_name in optimizer_names:\n",
        "    print('\\n---------------------------')\n",
        "    print('Optimizer:', optimizer_name)\n",
        "    print('---------------------------\\n')\n",
        "    conv_net = Conv_net()\n",
        "    conv_net.to(DEVICE)\n",
        "    optimizer = getattr(optim, optimizer_name)(conv_net.parameters(), lr=1e-3)\n",
        "    loss_fn = nn.CrossEntropyLoss()\n",
        "    num_epochs = 50\n",
        "    train_loss_log = []\n",
        "    val_loss_log = []\n",
        "    for epoch in range(num_epochs):\n",
        "        train_loss = train_epoch(conv_net, DEVICE, train_dataloader, loss_fn, optimizer)\n",
        "        train_loss_log.append(train_loss)\n",
        "\n",
        "        val_loss, accuracy = val_epoch(conv_net, DEVICE, val_dataloader, loss_fn)\n",
        "        val_loss_log.append(val_loss)\n",
        "\n",
        "        print('Epoch {:}/{:}, avg train loss: {:.3f}, avg val loss: {:.3f}, accuracy: {:.3f}%'.format(epoch + 1, num_epochs, train_loss, val_loss, accuracy))\n",
        "\n",
        "    test_accuracy = compute_accuracy(conv_net, DEVICE, test_dataloader)\n",
        "    test_accuraces.append(test_accuracy)\n",
        "    train_curves.append(train_loss_log)\n",
        "    val_curves.append(val_loss_log)"
      ],
      "metadata": {
        "id": "Wso1haFBZjCn",
        "outputId": "61704c3a-7a17-4384-bfff-28045efa15db",
        "colab": {
          "base_uri": "https://localhost:8080/"
        }
      },
      "execution_count": null,
      "outputs": [
        {
          "output_type": "stream",
          "name": "stdout",
          "text": [
            "\n",
            "---------------------------\n",
            "Optimizer: SGD\n",
            "---------------------------\n",
            "\n",
            "Epoch 1/50, avg train loss: 2.307, avg val loss: 2.307, accuracy: 15.100%\n",
            "Epoch 2/50, avg train loss: 2.303, avg val loss: 2.303, accuracy: 14.133%\n",
            "Epoch 3/50, avg train loss: 2.299, avg val loss: 2.299, accuracy: 13.167%\n",
            "Epoch 4/50, avg train loss: 2.294, avg val loss: 2.293, accuracy: 16.000%\n",
            "Epoch 5/50, avg train loss: 2.286, avg val loss: 2.284, accuracy: 18.167%\n",
            "Epoch 6/50, avg train loss: 2.275, avg val loss: 2.269, accuracy: 23.067%\n",
            "Epoch 7/50, avg train loss: 2.254, avg val loss: 2.241, accuracy: 25.600%\n",
            "Epoch 8/50, avg train loss: 2.211, avg val loss: 2.177, accuracy: 28.200%\n",
            "Epoch 9/50, avg train loss: 2.092, avg val loss: 1.972, accuracy: 31.867%\n",
            "Epoch 10/50, avg train loss: 1.721, avg val loss: 1.462, accuracy: 51.200%\n",
            "Epoch 11/50, avg train loss: 1.267, avg val loss: 1.174, accuracy: 54.333%\n",
            "Epoch 12/50, avg train loss: 1.089, avg val loss: 1.041, accuracy: 58.300%\n",
            "Epoch 13/50, avg train loss: 1.027, avg val loss: 1.065, accuracy: 59.300%\n",
            "Epoch 14/50, avg train loss: 0.992, avg val loss: 0.984, accuracy: 60.700%\n",
            "Epoch 15/50, avg train loss: 0.966, avg val loss: 0.947, accuracy: 61.467%\n",
            "Epoch 16/50, avg train loss: 0.942, avg val loss: 0.918, accuracy: 64.433%\n",
            "Epoch 17/50, avg train loss: 0.920, avg val loss: 0.896, accuracy: 65.000%\n",
            "Epoch 18/50, avg train loss: 0.906, avg val loss: 0.892, accuracy: 65.167%\n",
            "Epoch 19/50, avg train loss: 0.889, avg val loss: 0.862, accuracy: 67.000%\n",
            "Epoch 20/50, avg train loss: 0.872, avg val loss: 0.883, accuracy: 63.033%\n",
            "Epoch 21/50, avg train loss: 0.858, avg val loss: 0.837, accuracy: 67.367%\n",
            "Epoch 22/50, avg train loss: 0.843, avg val loss: 0.838, accuracy: 68.233%\n",
            "Epoch 23/50, avg train loss: 0.828, avg val loss: 0.859, accuracy: 65.433%\n",
            "Epoch 24/50, avg train loss: 0.816, avg val loss: 0.848, accuracy: 66.833%\n",
            "Epoch 25/50, avg train loss: 0.802, avg val loss: 0.798, accuracy: 68.633%\n",
            "Epoch 26/50, avg train loss: 0.790, avg val loss: 0.780, accuracy: 70.367%\n",
            "Epoch 27/50, avg train loss: 0.779, avg val loss: 0.782, accuracy: 69.967%\n",
            "Epoch 28/50, avg train loss: 0.769, avg val loss: 0.758, accuracy: 70.733%\n",
            "Epoch 29/50, avg train loss: 0.759, avg val loss: 0.761, accuracy: 71.567%\n",
            "Epoch 30/50, avg train loss: 0.749, avg val loss: 0.776, accuracy: 71.000%\n",
            "Epoch 31/50, avg train loss: 0.734, avg val loss: 0.758, accuracy: 69.700%\n",
            "Epoch 32/50, avg train loss: 0.726, avg val loss: 0.769, accuracy: 69.167%\n",
            "Epoch 33/50, avg train loss: 0.718, avg val loss: 0.740, accuracy: 71.233%\n",
            "Epoch 34/50, avg train loss: 0.711, avg val loss: 0.732, accuracy: 70.433%\n",
            "Epoch 35/50, avg train loss: 0.700, avg val loss: 0.749, accuracy: 69.733%\n",
            "Epoch 36/50, avg train loss: 0.694, avg val loss: 0.712, accuracy: 72.000%\n",
            "Epoch 37/50, avg train loss: 0.687, avg val loss: 0.706, accuracy: 72.200%\n",
            "Epoch 38/50, avg train loss: 0.682, avg val loss: 0.704, accuracy: 71.633%\n",
            "Epoch 39/50, avg train loss: 0.674, avg val loss: 0.687, accuracy: 73.400%\n",
            "Epoch 40/50, avg train loss: 0.664, avg val loss: 0.741, accuracy: 71.167%\n",
            "Epoch 41/50, avg train loss: 0.656, avg val loss: 0.709, accuracy: 71.833%\n",
            "Epoch 42/50, avg train loss: 0.650, avg val loss: 0.674, accuracy: 73.967%\n",
            "Epoch 43/50, avg train loss: 0.646, avg val loss: 0.668, accuracy: 73.667%\n",
            "Epoch 44/50, avg train loss: 0.639, avg val loss: 0.677, accuracy: 73.833%\n",
            "Epoch 45/50, avg train loss: 0.632, avg val loss: 0.660, accuracy: 74.400%\n",
            "Epoch 46/50, avg train loss: 0.628, avg val loss: 0.677, accuracy: 73.567%\n",
            "Epoch 47/50, avg train loss: 0.621, avg val loss: 0.654, accuracy: 75.233%\n",
            "Epoch 48/50, avg train loss: 0.618, avg val loss: 0.642, accuracy: 75.433%\n",
            "Epoch 49/50, avg train loss: 0.614, avg val loss: 0.629, accuracy: 76.400%\n",
            "Epoch 50/50, avg train loss: 0.610, avg val loss: 0.623, accuracy: 76.367%\n",
            "\n",
            "---------------------------\n",
            "Optimizer: Adam\n",
            "---------------------------\n",
            "\n",
            "Epoch 1/50, avg train loss: 1.000, avg val loss: 0.849, accuracy: 67.133%\n",
            "Epoch 2/50, avg train loss: 0.664, avg val loss: 0.644, accuracy: 73.700%\n",
            "Epoch 3/50, avg train loss: 0.591, avg val loss: 0.593, accuracy: 77.600%\n",
            "Epoch 4/50, avg train loss: 0.541, avg val loss: 0.595, accuracy: 76.800%\n",
            "Epoch 5/50, avg train loss: 0.504, avg val loss: 0.524, accuracy: 80.400%\n",
            "Epoch 6/50, avg train loss: 0.465, avg val loss: 0.497, accuracy: 81.500%\n",
            "Epoch 7/50, avg train loss: 0.436, avg val loss: 0.478, accuracy: 82.200%\n",
            "Epoch 8/50, avg train loss: 0.411, avg val loss: 0.461, accuracy: 82.533%\n",
            "Epoch 9/50, avg train loss: 0.395, avg val loss: 0.445, accuracy: 84.200%\n",
            "Epoch 10/50, avg train loss: 0.366, avg val loss: 0.464, accuracy: 82.700%\n",
            "Epoch 11/50, avg train loss: 0.355, avg val loss: 0.452, accuracy: 82.800%\n",
            "Epoch 12/50, avg train loss: 0.330, avg val loss: 0.420, accuracy: 84.533%\n",
            "Epoch 13/50, avg train loss: 0.315, avg val loss: 0.452, accuracy: 83.667%\n",
            "Epoch 14/50, avg train loss: 0.308, avg val loss: 0.447, accuracy: 84.233%\n",
            "Epoch 15/50, avg train loss: 0.293, avg val loss: 0.430, accuracy: 84.800%\n",
            "Epoch 16/50, avg train loss: 0.272, avg val loss: 0.458, accuracy: 83.267%\n",
            "Epoch 17/50, avg train loss: 0.259, avg val loss: 0.533, accuracy: 82.567%\n",
            "Epoch 18/50, avg train loss: 0.255, avg val loss: 0.461, accuracy: 83.867%\n",
            "Epoch 19/50, avg train loss: 0.238, avg val loss: 0.456, accuracy: 84.700%\n",
            "Epoch 20/50, avg train loss: 0.221, avg val loss: 0.511, accuracy: 82.267%\n",
            "Epoch 21/50, avg train loss: 0.221, avg val loss: 0.482, accuracy: 84.067%\n",
            "Epoch 22/50, avg train loss: 0.209, avg val loss: 0.468, accuracy: 84.367%\n",
            "Epoch 23/50, avg train loss: 0.202, avg val loss: 0.456, accuracy: 84.867%\n",
            "Epoch 24/50, avg train loss: 0.186, avg val loss: 0.536, accuracy: 84.000%\n",
            "Epoch 25/50, avg train loss: 0.176, avg val loss: 0.502, accuracy: 84.633%\n",
            "Epoch 26/50, avg train loss: 0.173, avg val loss: 0.495, accuracy: 85.233%\n",
            "Epoch 27/50, avg train loss: 0.157, avg val loss: 0.522, accuracy: 85.033%\n",
            "Epoch 28/50, avg train loss: 0.151, avg val loss: 0.548, accuracy: 84.033%\n",
            "Epoch 29/50, avg train loss: 0.147, avg val loss: 0.556, accuracy: 84.300%\n",
            "Epoch 30/50, avg train loss: 0.132, avg val loss: 0.568, accuracy: 85.033%\n",
            "Epoch 31/50, avg train loss: 0.133, avg val loss: 0.683, accuracy: 81.933%\n",
            "Epoch 32/50, avg train loss: 0.128, avg val loss: 0.590, accuracy: 84.367%\n",
            "Epoch 33/50, avg train loss: 0.122, avg val loss: 0.621, accuracy: 83.967%\n",
            "Epoch 34/50, avg train loss: 0.109, avg val loss: 0.587, accuracy: 85.067%\n",
            "Epoch 35/50, avg train loss: 0.115, avg val loss: 0.635, accuracy: 84.067%\n",
            "Epoch 36/50, avg train loss: 0.110, avg val loss: 0.709, accuracy: 84.833%\n",
            "Epoch 37/50, avg train loss: 0.099, avg val loss: 0.703, accuracy: 84.267%\n",
            "Epoch 38/50, avg train loss: 0.101, avg val loss: 0.773, accuracy: 83.167%\n",
            "Epoch 39/50, avg train loss: 0.077, avg val loss: 0.730, accuracy: 84.933%\n",
            "Epoch 40/50, avg train loss: 0.080, avg val loss: 0.774, accuracy: 83.867%\n",
            "Epoch 41/50, avg train loss: 0.094, avg val loss: 0.720, accuracy: 84.933%\n",
            "Epoch 42/50, avg train loss: 0.083, avg val loss: 0.748, accuracy: 84.667%\n",
            "Epoch 43/50, avg train loss: 0.073, avg val loss: 0.808, accuracy: 84.033%\n",
            "Epoch 44/50, avg train loss: 0.070, avg val loss: 0.794, accuracy: 83.600%\n",
            "Epoch 45/50, avg train loss: 0.077, avg val loss: 0.839, accuracy: 84.033%\n",
            "Epoch 46/50, avg train loss: 0.067, avg val loss: 0.852, accuracy: 84.600%\n",
            "Epoch 47/50, avg train loss: 0.071, avg val loss: 0.842, accuracy: 83.700%\n",
            "Epoch 48/50, avg train loss: 0.054, avg val loss: 0.826, accuracy: 84.167%\n",
            "Epoch 49/50, avg train loss: 0.058, avg val loss: 0.983, accuracy: 83.000%\n",
            "Epoch 50/50, avg train loss: 0.055, avg val loss: 0.909, accuracy: 84.867%\n",
            "\n",
            "---------------------------\n",
            "Optimizer: Adagrad\n",
            "---------------------------\n",
            "\n",
            "Epoch 1/50, avg train loss: 1.669, avg val loss: 1.233, accuracy: 60.467%\n",
            "Epoch 2/50, avg train loss: 1.085, avg val loss: 1.046, accuracy: 63.933%\n",
            "Epoch 3/50, avg train loss: 0.964, avg val loss: 0.963, accuracy: 64.833%\n",
            "Epoch 4/50, avg train loss: 0.901, avg val loss: 0.919, accuracy: 66.633%\n",
            "Epoch 5/50, avg train loss: 0.863, avg val loss: 0.883, accuracy: 67.767%\n",
            "Epoch 6/50, avg train loss: 0.835, avg val loss: 0.862, accuracy: 67.933%\n",
            "Epoch 7/50, avg train loss: 0.814, avg val loss: 0.840, accuracy: 68.533%\n",
            "Epoch 8/50, avg train loss: 0.798, avg val loss: 0.824, accuracy: 69.633%\n",
            "Epoch 9/50, avg train loss: 0.784, avg val loss: 0.814, accuracy: 70.000%\n",
            "Epoch 10/50, avg train loss: 0.772, avg val loss: 0.800, accuracy: 69.433%\n",
            "Epoch 11/50, avg train loss: 0.762, avg val loss: 0.791, accuracy: 70.000%\n",
            "Epoch 12/50, avg train loss: 0.753, avg val loss: 0.781, accuracy: 70.333%\n",
            "Epoch 13/50, avg train loss: 0.745, avg val loss: 0.774, accuracy: 70.800%\n",
            "Epoch 14/50, avg train loss: 0.737, avg val loss: 0.765, accuracy: 70.933%\n",
            "Epoch 15/50, avg train loss: 0.730, avg val loss: 0.761, accuracy: 71.167%\n",
            "Epoch 16/50, avg train loss: 0.724, avg val loss: 0.753, accuracy: 71.433%\n",
            "Epoch 17/50, avg train loss: 0.719, avg val loss: 0.747, accuracy: 71.467%\n",
            "Epoch 18/50, avg train loss: 0.714, avg val loss: 0.742, accuracy: 71.400%\n",
            "Epoch 19/50, avg train loss: 0.709, avg val loss: 0.737, accuracy: 71.800%\n",
            "Epoch 20/50, avg train loss: 0.704, avg val loss: 0.733, accuracy: 71.733%\n",
            "Epoch 21/50, avg train loss: 0.700, avg val loss: 0.728, accuracy: 72.133%\n",
            "Epoch 22/50, avg train loss: 0.696, avg val loss: 0.724, accuracy: 71.867%\n",
            "Epoch 23/50, avg train loss: 0.692, avg val loss: 0.721, accuracy: 72.200%\n",
            "Epoch 24/50, avg train loss: 0.687, avg val loss: 0.717, accuracy: 71.900%\n",
            "Epoch 25/50, avg train loss: 0.685, avg val loss: 0.714, accuracy: 72.633%\n",
            "Epoch 26/50, avg train loss: 0.681, avg val loss: 0.710, accuracy: 72.633%\n",
            "Epoch 27/50, avg train loss: 0.677, avg val loss: 0.708, accuracy: 72.433%\n",
            "Epoch 28/50, avg train loss: 0.675, avg val loss: 0.704, accuracy: 72.467%\n",
            "Epoch 29/50, avg train loss: 0.672, avg val loss: 0.700, accuracy: 72.900%\n",
            "Epoch 30/50, avg train loss: 0.669, avg val loss: 0.698, accuracy: 72.667%\n",
            "Epoch 31/50, avg train loss: 0.666, avg val loss: 0.697, accuracy: 72.833%\n",
            "Epoch 32/50, avg train loss: 0.664, avg val loss: 0.694, accuracy: 72.867%\n",
            "Epoch 33/50, avg train loss: 0.661, avg val loss: 0.691, accuracy: 73.100%\n",
            "Epoch 34/50, avg train loss: 0.659, avg val loss: 0.689, accuracy: 72.733%\n",
            "Epoch 35/50, avg train loss: 0.657, avg val loss: 0.686, accuracy: 73.100%\n",
            "Epoch 36/50, avg train loss: 0.654, avg val loss: 0.683, accuracy: 73.167%\n",
            "Epoch 37/50, avg train loss: 0.652, avg val loss: 0.682, accuracy: 72.967%\n",
            "Epoch 38/50, avg train loss: 0.650, avg val loss: 0.681, accuracy: 73.467%\n",
            "Epoch 39/50, avg train loss: 0.648, avg val loss: 0.677, accuracy: 73.167%\n",
            "Epoch 40/50, avg train loss: 0.646, avg val loss: 0.676, accuracy: 73.300%\n",
            "Epoch 41/50, avg train loss: 0.645, avg val loss: 0.675, accuracy: 73.333%\n",
            "Epoch 42/50, avg train loss: 0.643, avg val loss: 0.674, accuracy: 73.700%\n",
            "Epoch 43/50, avg train loss: 0.641, avg val loss: 0.671, accuracy: 73.633%\n",
            "Epoch 44/50, avg train loss: 0.639, avg val loss: 0.669, accuracy: 73.333%\n",
            "Epoch 45/50, avg train loss: 0.638, avg val loss: 0.669, accuracy: 73.700%\n",
            "Epoch 46/50, avg train loss: 0.636, avg val loss: 0.667, accuracy: 73.633%\n",
            "Epoch 47/50, avg train loss: 0.635, avg val loss: 0.666, accuracy: 73.633%\n",
            "Epoch 48/50, avg train loss: 0.633, avg val loss: 0.664, accuracy: 73.833%\n",
            "Epoch 49/50, avg train loss: 0.632, avg val loss: 0.662, accuracy: 73.900%\n",
            "Epoch 50/50, avg train loss: 0.630, avg val loss: 0.662, accuracy: 73.933%\n",
            "\n",
            "---------------------------\n",
            "Optimizer: Adadelta\n",
            "---------------------------\n",
            "\n",
            "Epoch 1/50, avg train loss: 2.304, avg val loss: 2.303, accuracy: 13.667%\n",
            "Epoch 2/50, avg train loss: 2.302, avg val loss: 2.301, accuracy: 17.300%\n",
            "Epoch 3/50, avg train loss: 2.299, avg val loss: 2.298, accuracy: 18.033%\n",
            "Epoch 4/50, avg train loss: 2.297, avg val loss: 2.295, accuracy: 17.900%\n",
            "Epoch 5/50, avg train loss: 2.294, avg val loss: 2.292, accuracy: 17.433%\n",
            "Epoch 6/50, avg train loss: 2.290, avg val loss: 2.288, accuracy: 16.433%\n",
            "Epoch 7/50, avg train loss: 2.286, avg val loss: 2.283, accuracy: 16.167%\n",
            "Epoch 8/50, avg train loss: 2.280, avg val loss: 2.278, accuracy: 16.000%\n",
            "Epoch 9/50, avg train loss: 2.274, avg val loss: 2.271, accuracy: 16.467%\n",
            "Epoch 10/50, avg train loss: 2.267, avg val loss: 2.263, accuracy: 17.867%\n",
            "Epoch 11/50, avg train loss: 2.258, avg val loss: 2.253, accuracy: 18.533%\n",
            "Epoch 12/50, avg train loss: 2.247, avg val loss: 2.241, accuracy: 18.300%\n",
            "Epoch 13/50, avg train loss: 2.234, avg val loss: 2.227, accuracy: 17.433%\n",
            "Epoch 14/50, avg train loss: 2.219, avg val loss: 2.211, accuracy: 18.700%\n",
            "Epoch 15/50, avg train loss: 2.202, avg val loss: 2.192, accuracy: 21.167%\n",
            "Epoch 16/50, avg train loss: 2.181, avg val loss: 2.170, accuracy: 23.433%\n",
            "Epoch 17/50, avg train loss: 2.158, avg val loss: 2.145, accuracy: 25.400%\n",
            "Epoch 18/50, avg train loss: 2.132, avg val loss: 2.118, accuracy: 27.433%\n",
            "Epoch 19/50, avg train loss: 2.102, avg val loss: 2.086, accuracy: 29.167%\n",
            "Epoch 20/50, avg train loss: 2.068, avg val loss: 2.051, accuracy: 31.200%\n",
            "Epoch 21/50, avg train loss: 2.030, avg val loss: 2.012, accuracy: 34.567%\n",
            "Epoch 22/50, avg train loss: 1.988, avg val loss: 1.968, accuracy: 37.933%\n",
            "Epoch 23/50, avg train loss: 1.941, avg val loss: 1.920, accuracy: 39.700%\n",
            "Epoch 24/50, avg train loss: 1.891, avg val loss: 1.870, accuracy: 41.867%\n",
            "Epoch 25/50, avg train loss: 1.837, avg val loss: 1.814, accuracy: 44.900%\n",
            "Epoch 26/50, avg train loss: 1.780, avg val loss: 1.759, accuracy: 47.100%\n",
            "Epoch 27/50, avg train loss: 1.723, avg val loss: 1.703, accuracy: 47.633%\n",
            "Epoch 28/50, avg train loss: 1.667, avg val loss: 1.647, accuracy: 48.333%\n",
            "Epoch 29/50, avg train loss: 1.611, avg val loss: 1.594, accuracy: 49.333%\n",
            "Epoch 30/50, avg train loss: 1.558, avg val loss: 1.543, accuracy: 49.633%\n",
            "Epoch 31/50, avg train loss: 1.508, avg val loss: 1.495, accuracy: 50.033%\n",
            "Epoch 32/50, avg train loss: 1.461, avg val loss: 1.451, accuracy: 50.767%\n",
            "Epoch 33/50, avg train loss: 1.418, avg val loss: 1.410, accuracy: 51.467%\n",
            "Epoch 34/50, avg train loss: 1.378, avg val loss: 1.373, accuracy: 52.267%\n",
            "Epoch 35/50, avg train loss: 1.342, avg val loss: 1.338, accuracy: 53.000%\n",
            "Epoch 36/50, avg train loss: 1.308, avg val loss: 1.305, accuracy: 53.200%\n",
            "Epoch 37/50, avg train loss: 1.276, avg val loss: 1.276, accuracy: 53.867%\n",
            "Epoch 38/50, avg train loss: 1.248, avg val loss: 1.248, accuracy: 54.667%\n",
            "Epoch 39/50, avg train loss: 1.221, avg val loss: 1.223, accuracy: 55.233%\n",
            "Epoch 40/50, avg train loss: 1.197, avg val loss: 1.201, accuracy: 55.767%\n",
            "Epoch 41/50, avg train loss: 1.176, avg val loss: 1.179, accuracy: 56.467%\n",
            "Epoch 42/50, avg train loss: 1.155, avg val loss: 1.160, accuracy: 57.100%\n",
            "Epoch 43/50, avg train loss: 1.137, avg val loss: 1.143, accuracy: 57.433%\n",
            "Epoch 44/50, avg train loss: 1.120, avg val loss: 1.126, accuracy: 57.933%\n",
            "Epoch 45/50, avg train loss: 1.104, avg val loss: 1.111, accuracy: 58.333%\n",
            "Epoch 46/50, avg train loss: 1.090, avg val loss: 1.097, accuracy: 58.500%\n",
            "Epoch 47/50, avg train loss: 1.077, avg val loss: 1.085, accuracy: 58.767%\n",
            "Epoch 48/50, avg train loss: 1.065, avg val loss: 1.074, accuracy: 59.233%\n",
            "Epoch 49/50, avg train loss: 1.054, avg val loss: 1.063, accuracy: 59.567%\n",
            "Epoch 50/50, avg train loss: 1.044, avg val loss: 1.053, accuracy: 59.367%\n",
            "\n",
            "---------------------------\n",
            "Optimizer: RMSprop\n",
            "---------------------------\n",
            "\n",
            "Epoch 1/50, avg train loss: 0.837, avg val loss: 0.662, accuracy: 72.400%\n",
            "Epoch 2/50, avg train loss: 0.596, avg val loss: 0.603, accuracy: 77.100%\n",
            "Epoch 3/50, avg train loss: 0.529, avg val loss: 0.568, accuracy: 78.067%\n",
            "Epoch 4/50, avg train loss: 0.476, avg val loss: 0.551, accuracy: 78.567%\n",
            "Epoch 5/50, avg train loss: 0.440, avg val loss: 0.455, accuracy: 82.700%\n",
            "Epoch 6/50, avg train loss: 0.410, avg val loss: 0.449, accuracy: 82.967%\n",
            "Epoch 7/50, avg train loss: 0.384, avg val loss: 0.437, accuracy: 84.800%\n",
            "Epoch 8/50, avg train loss: 0.356, avg val loss: 0.518, accuracy: 81.000%\n",
            "Epoch 9/50, avg train loss: 0.344, avg val loss: 0.424, accuracy: 84.800%\n",
            "Epoch 10/50, avg train loss: 0.318, avg val loss: 0.431, accuracy: 84.300%\n",
            "Epoch 11/50, avg train loss: 0.304, avg val loss: 0.421, accuracy: 84.900%\n",
            "Epoch 12/50, avg train loss: 0.286, avg val loss: 0.408, accuracy: 85.833%\n",
            "Epoch 13/50, avg train loss: 0.277, avg val loss: 0.414, accuracy: 85.433%\n",
            "Epoch 14/50, avg train loss: 0.264, avg val loss: 0.420, accuracy: 85.700%\n",
            "Epoch 15/50, avg train loss: 0.250, avg val loss: 0.476, accuracy: 84.533%\n",
            "Epoch 16/50, avg train loss: 0.236, avg val loss: 0.457, accuracy: 84.333%\n",
            "Epoch 17/50, avg train loss: 0.221, avg val loss: 0.457, accuracy: 85.500%\n",
            "Epoch 18/50, avg train loss: 0.215, avg val loss: 0.470, accuracy: 85.233%\n",
            "Epoch 19/50, avg train loss: 0.201, avg val loss: 0.467, accuracy: 85.867%\n",
            "Epoch 20/50, avg train loss: 0.193, avg val loss: 0.472, accuracy: 85.933%\n",
            "Epoch 21/50, avg train loss: 0.181, avg val loss: 0.479, accuracy: 85.600%\n",
            "Epoch 22/50, avg train loss: 0.173, avg val loss: 0.476, accuracy: 86.467%\n",
            "Epoch 23/50, avg train loss: 0.161, avg val loss: 0.547, accuracy: 85.600%\n",
            "Epoch 24/50, avg train loss: 0.153, avg val loss: 0.539, accuracy: 86.033%\n",
            "Epoch 25/50, avg train loss: 0.146, avg val loss: 0.560, accuracy: 85.767%\n",
            "Epoch 26/50, avg train loss: 0.141, avg val loss: 0.578, accuracy: 85.467%\n",
            "Epoch 27/50, avg train loss: 0.134, avg val loss: 0.585, accuracy: 85.567%\n",
            "Epoch 28/50, avg train loss: 0.121, avg val loss: 0.695, accuracy: 84.667%\n",
            "Epoch 29/50, avg train loss: 0.121, avg val loss: 0.625, accuracy: 85.733%\n",
            "Epoch 30/50, avg train loss: 0.109, avg val loss: 0.704, accuracy: 85.300%\n",
            "Epoch 31/50, avg train loss: 0.107, avg val loss: 0.630, accuracy: 86.067%\n",
            "Epoch 32/50, avg train loss: 0.091, avg val loss: 0.685, accuracy: 84.700%\n",
            "Epoch 33/50, avg train loss: 0.093, avg val loss: 0.699, accuracy: 85.467%\n",
            "Epoch 34/50, avg train loss: 0.088, avg val loss: 0.792, accuracy: 84.867%\n",
            "Epoch 35/50, avg train loss: 0.088, avg val loss: 0.732, accuracy: 85.667%\n",
            "Epoch 36/50, avg train loss: 0.074, avg val loss: 0.812, accuracy: 84.933%\n",
            "Epoch 37/50, avg train loss: 0.076, avg val loss: 0.794, accuracy: 85.200%\n",
            "Epoch 38/50, avg train loss: 0.073, avg val loss: 0.833, accuracy: 85.633%\n",
            "Epoch 39/50, avg train loss: 0.073, avg val loss: 0.807, accuracy: 84.900%\n",
            "Epoch 40/50, avg train loss: 0.062, avg val loss: 0.952, accuracy: 84.500%\n",
            "Epoch 41/50, avg train loss: 0.070, avg val loss: 1.079, accuracy: 84.400%\n",
            "Epoch 42/50, avg train loss: 0.053, avg val loss: 1.022, accuracy: 85.100%\n",
            "Epoch 43/50, avg train loss: 0.060, avg val loss: 1.026, accuracy: 85.000%\n",
            "Epoch 44/50, avg train loss: 0.049, avg val loss: 1.101, accuracy: 83.633%\n",
            "Epoch 45/50, avg train loss: 0.059, avg val loss: 1.080, accuracy: 84.433%\n",
            "Epoch 46/50, avg train loss: 0.056, avg val loss: 1.065, accuracy: 84.533%\n",
            "Epoch 47/50, avg train loss: 0.049, avg val loss: 1.241, accuracy: 84.667%\n",
            "Epoch 48/50, avg train loss: 0.051, avg val loss: 1.179, accuracy: 84.800%\n",
            "Epoch 49/50, avg train loss: 0.051, avg val loss: 1.082, accuracy: 85.200%\n",
            "Epoch 50/50, avg train loss: 0.041, avg val loss: 1.203, accuracy: 84.400%\n"
          ]
        }
      ]
    },
    {
      "cell_type": "code",
      "source": [
        "# Visualization of training curves\n",
        "colors = cm.get_cmap('plasma', len(optimizer_names))\n",
        "plt.figure(figsize=(10,6))\n",
        "plt.xlabel('Epoch', size=12)\n",
        "plt.ylabel('Loss', size=12)\n",
        "plt.title('Loss curves', size=12)\n",
        "plt.grid(alpha=0.5)\n",
        "#plt.yscale('log')\n",
        "\n",
        "for i, (train_curve, val_curve, label) in enumerate(zip(train_curves, val_curves, optimizer_names)):\n",
        "    plt.plot(train_curve, c=colors(i), label=label + ' Train')\n",
        "    plt.plot(val_curve, c=colors(i), ls='--', label=label + ' Val')\n",
        "\n",
        "plt.legend(fontsize='12', bbox_to_anchor=(1.27, 0.8));"
      ],
      "metadata": {
        "id": "DSoPvgKMfawW",
        "outputId": "0b31e81f-6d71-43f0-931a-70458b9fec5d",
        "colab": {
          "base_uri": "https://localhost:8080/",
          "height": 407
        }
      },
      "execution_count": null,
      "outputs": [
        {
          "output_type": "display_data",
          "data": {
            "text/plain": [
              "<Figure size 720x432 with 1 Axes>"
            ],
            "image/png": "[encoded data removed]"
          },
          "metadata": {
            "needs_background": "light"
          }
        }
      ]
    },
    {
      "cell_type": "code",
      "source": [
        "# Visualization of performaces on the test set\n",
        "plt.figure(figsize=(8,6))\n",
        "plt.ylabel('Loss', size=12)\n",
        "plt.title('Test accuraces', size=15)\n",
        "plt.grid(axis='both', alpha=0.5)\n",
        "markers = ['o', 's', '^', 'D', '>']\n",
        "\n",
        "for i in range(len(optimizer_names)):\n",
        "    plt.scatter([i], [test_accuraces[i]], s=200, color=colors(i), marker=markers[i])\n",
        "\n",
        "plt.xticks(ticks=[0,1,2,3,4], labels=optimizer_names, rotation=0, size=12);"
      ],
      "metadata": {
        "id": "5LJUjR3kgp5h",
        "outputId": "bab0b3d5-c870-4078-a2eb-be6355faa0be",
        "colab": {
          "base_uri": "https://localhost:8080/",
          "height": 395
        }
      },
      "execution_count": null,
      "outputs": [
        {
          "output_type": "display_data",
          "data": {
            "text/plain": [
              "<Figure size 576x432 with 1 Axes>"
            ],
            "image/png": "[encoded data removed]"
          },
          "metadata": {
            "needs_background": "light"
          }
        }
      ]
    },
    {
      "cell_type": "markdown",
      "source": [
        "## Adding regularization and Hyperparameters Optimization"
      ],
      "metadata": {
        "id": "Czhn1M_URaok"
      }
    },
    {
      "cell_type": "code",
      "source": [
        "%pip install optuna\n",
        "import optuna"
      ],
      "metadata": {
        "id": "vQKCyFC2Pnkm"
      },
      "execution_count": null,
      "outputs": []
    },
    {
      "cell_type": "code",
      "source": [
        "class Build_model(nn.Module):\n",
        "\n",
        "    def __init__(self, params):\n",
        "        super().__init__()\n",
        "        \n",
        "        assert np.any(np.array(params['kernel_size']) % 2 == 1), 'Kernel sizes must be odd!'\n",
        "        \n",
        "        # Convolutional layers\n",
        "        conv_layers = []\n",
        "        in_channels = 1\n",
        "        for i in range(2):\n",
        "            # define paddings so as to have always the same output shape\n",
        "            padding = int((params['kernel_size'][i] - 1) / 2)\n",
        "            conv_layers.append(nn.Conv2d(in_channels,\n",
        "                                         params['out_channels'][i],\n",
        "                                         params['kernel_size'][i],\n",
        "                                         padding=padding))\n",
        "            conv_layers.append(nn.Dropout2d(params['p_conv'][i]))\n",
        "            conv_layers.append(nn.MaxPool2d(2, 2))\n",
        "            conv_layers.append(nn.ReLU())\n",
        "            in_channels = params['out_channels'][i]\n",
        "        self.conv_layers = nn.Sequential(*conv_layers)\n",
        "\n",
        "        # Fully connected layers\n",
        "        fc_layers = []\n",
        "        in_features = params['out_channels'][-1] * 7 * 7\n",
        "        for i in range(2):\n",
        "            fc_layers.append(nn.Linear(in_features, params['out_features'][i]))\n",
        "            fc_layers.append(nn.Dropout(params['p_fc'][i]))\n",
        "            fc_layers.append(nn.ReLU())\n",
        "            in_features = params['out_features'][i]\n",
        "        fc_layers.append(nn.Linear(in_features, 10))\n",
        "        self.fc_layers = nn.Sequential(*fc_layers)\n",
        "        \n",
        "    def forward(self, x):\n",
        "        x = self.conv_layers(x)\n",
        "        x = torch.flatten(x, 1)\n",
        "        x = self.fc_layers(x)\n",
        "        return x\n",
        "\n",
        "def train_model(model, num_epochs, loss_fn, optimizer):\n",
        "    train_loss_log = []\n",
        "    val_loss_log = []\n",
        "    for epoch in range(num_epochs):\n",
        "        train_loss = train_epoch(model, DEVICE, train_dataloader, loss_fn, optimizer)\n",
        "        train_loss_log.append(train_loss)\n",
        "\n",
        "        val_loss, accuracy = val_epoch(model, DEVICE, val_dataloader, loss_fn)\n",
        "        val_loss_log.append(val_loss)\n",
        "\n",
        "        print('Epoch {:}/{:}, avg train loss: {:.3f}, avg test loss: {:.3f}, accuracy: {:.3f}%'.format(epoch + 1, num_epochs, train_loss, val_loss, accuracy))\n",
        "    return accuracy\n",
        "\n",
        "def objective(trial):\n",
        "    params = {\n",
        "        'out_channels' : [trial.suggest_int('out_channels_conv0', 4, 6),\n",
        "                          trial.suggest_int('out_channels_conv1', 4, 6)],\n",
        "        'kernel_size' : [trial.suggest_int('kernel_size_conv0', 3, 7, step=2),\n",
        "                         trial.suggest_int('kernel_size_conv1', 3, 7, step=2)],\n",
        "        'p_conv' : [trial.suggest_float('dropout_conv0', 0., 0.5),\n",
        "                    trial.suggest_float('dropout_conv1', 0., 0.5)],\n",
        "        'out_features' : [trial.suggest_int('out_features_fc0', 100, 200),\n",
        "                          trial.suggest_int('out_features_fc1', 30, 100)],\n",
        "        'p_fc' : [trial.suggest_float('dropout_fc0', 0., 0.5),\n",
        "                  trial.suggest_float('dropout_fc1', 0., 0.5)]\n",
        "    }\n",
        "\n",
        "    model = Build_model(params).to(DEVICE)\n",
        "    optimizer = optim.Adam(model.parameters(), lr=1e-3)\n",
        "    loss_fn = nn.CrossEntropyLoss()\n",
        "    accuracy = train_model(model, 10, loss_fn, optimizer)\n",
        "    return accuracy\n"
      ],
      "metadata": {
        "id": "dZK1KI9qV0II"
      },
      "execution_count": 51,
      "outputs": []
    },
    {
      "cell_type": "code",
      "source": [
        "study = optuna.create_study(direction='maximize', sampler=optuna.samplers.TPESampler())\n",
        "study.optimize(objective, n_trials=10)"
      ],
      "metadata": {
        "id": "aSEDqRkUp13U",
        "outputId": "bd7bbe20-46a1-4a57-c8d2-60d8b99477d1",
        "colab": {
          "base_uri": "https://localhost:8080/"
        }
      },
      "execution_count": 52,
      "outputs": [
        {
          "output_type": "stream",
          "name": "stderr",
          "text": [
            "\u001b[32m[I 2022-03-21 16:44:13,572]\u001b[0m A new study created in memory with name: no-name-4d549f7e-a39c-4d03-88b6-2a459ed29c75\u001b[0m\n"
          ]
        },
        {
          "output_type": "stream",
          "name": "stdout",
          "text": [
            "Epoch 1/10, avg train loss: 1.290, avg test loss: 0.779, accuracy: 68.833%\n",
            "Epoch 2/10, avg train loss: 0.835, avg test loss: 0.654, accuracy: 75.033%\n",
            "Epoch 3/10, avg train loss: 0.735, avg test loss: 0.616, accuracy: 75.867%\n",
            "Epoch 4/10, avg train loss: 0.660, avg test loss: 0.547, accuracy: 80.633%\n",
            "Epoch 5/10, avg train loss: 0.621, avg test loss: 0.527, accuracy: 80.200%\n",
            "Epoch 6/10, avg train loss: 0.586, avg test loss: 0.523, accuracy: 79.700%\n",
            "Epoch 7/10, avg train loss: 0.558, avg test loss: 0.472, accuracy: 82.300%\n",
            "Epoch 8/10, avg train loss: 0.530, avg test loss: 0.452, accuracy: 83.467%\n",
            "Epoch 9/10, avg train loss: 0.518, avg test loss: 0.486, accuracy: 82.333%\n"
          ]
        },
        {
          "output_type": "stream",
          "name": "stderr",
          "text": [
            "\u001b[32m[I 2022-03-21 16:45:04,758]\u001b[0m Trial 0 finished with value: 83.06666666666666 and parameters: {'out_channels_conv0': 6, 'out_channels_conv1': 5, 'kernel_size_conv0': 7, 'kernel_size_conv1': 7, 'dropout_conv0': 0.21681765340752385, 'dropout_conv1': 0.17502065991661303, 'out_features_fc0': 196, 'out_features_fc1': 59, 'dropout_fc0': 0.35677657349418723, 'dropout_fc1': 0.3977891581965502}. Best is trial 0 with value: 83.06666666666666.\u001b[0m\n"
          ]
        },
        {
          "output_type": "stream",
          "name": "stdout",
          "text": [
            "Epoch 10/10, avg train loss: 0.484, avg test loss: 0.474, accuracy: 83.067%\n",
            "Epoch 1/10, avg train loss: 1.346, avg test loss: 0.751, accuracy: 71.400%\n",
            "Epoch 2/10, avg train loss: 0.887, avg test loss: 0.650, accuracy: 74.967%\n",
            "Epoch 3/10, avg train loss: 0.767, avg test loss: 0.635, accuracy: 75.867%\n",
            "Epoch 4/10, avg train loss: 0.729, avg test loss: 0.584, accuracy: 77.267%\n",
            "Epoch 5/10, avg train loss: 0.701, avg test loss: 0.547, accuracy: 79.433%\n",
            "Epoch 6/10, avg train loss: 0.668, avg test loss: 0.529, accuracy: 79.367%\n",
            "Epoch 7/10, avg train loss: 0.644, avg test loss: 0.511, accuracy: 80.467%\n",
            "Epoch 8/10, avg train loss: 0.607, avg test loss: 0.493, accuracy: 81.333%\n",
            "Epoch 9/10, avg train loss: 0.605, avg test loss: 0.490, accuracy: 81.667%\n"
          ]
        },
        {
          "output_type": "stream",
          "name": "stderr",
          "text": [
            "\u001b[32m[I 2022-03-21 16:45:55,808]\u001b[0m Trial 1 finished with value: 82.46666666666667 and parameters: {'out_channels_conv0': 4, 'out_channels_conv1': 6, 'kernel_size_conv0': 5, 'kernel_size_conv1': 5, 'dropout_conv0': 0.2442733981241617, 'dropout_conv1': 0.49383074890340334, 'out_features_fc0': 177, 'out_features_fc1': 81, 'dropout_fc0': 0.2972717385567162, 'dropout_fc1': 0.30331077754474045}. Best is trial 0 with value: 83.06666666666666.\u001b[0m\n"
          ]
        },
        {
          "output_type": "stream",
          "name": "stdout",
          "text": [
            "Epoch 10/10, avg train loss: 0.597, avg test loss: 0.471, accuracy: 82.467%\n",
            "Epoch 1/10, avg train loss: 1.473, avg test loss: 0.916, accuracy: 62.167%\n",
            "Epoch 2/10, avg train loss: 1.063, avg test loss: 0.778, accuracy: 67.167%\n",
            "Epoch 3/10, avg train loss: 0.934, avg test loss: 0.686, accuracy: 73.367%\n",
            "Epoch 4/10, avg train loss: 0.873, avg test loss: 0.640, accuracy: 74.867%\n",
            "Epoch 5/10, avg train loss: 0.831, avg test loss: 0.603, accuracy: 76.233%\n",
            "Epoch 6/10, avg train loss: 0.795, avg test loss: 0.575, accuracy: 78.700%\n",
            "Epoch 7/10, avg train loss: 0.754, avg test loss: 0.570, accuracy: 76.300%\n",
            "Epoch 8/10, avg train loss: 0.731, avg test loss: 0.553, accuracy: 78.367%\n",
            "Epoch 9/10, avg train loss: 0.699, avg test loss: 0.523, accuracy: 78.767%\n"
          ]
        },
        {
          "output_type": "stream",
          "name": "stderr",
          "text": [
            "\u001b[32m[I 2022-03-21 16:46:46,842]\u001b[0m Trial 2 finished with value: 80.73333333333333 and parameters: {'out_channels_conv0': 5, 'out_channels_conv1': 4, 'kernel_size_conv0': 5, 'kernel_size_conv1': 7, 'dropout_conv0': 0.23543220640365758, 'dropout_conv1': 0.4938049185363511, 'out_features_fc0': 110, 'out_features_fc1': 49, 'dropout_fc0': 0.31782588486212077, 'dropout_fc1': 0.10811672218559132}. Best is trial 0 with value: 83.06666666666666.\u001b[0m\n"
          ]
        },
        {
          "output_type": "stream",
          "name": "stdout",
          "text": [
            "Epoch 10/10, avg train loss: 0.694, avg test loss: 0.522, accuracy: 80.733%\n",
            "Epoch 1/10, avg train loss: 1.461, avg test loss: 0.853, accuracy: 68.933%\n",
            "Epoch 2/10, avg train loss: 1.018, avg test loss: 0.688, accuracy: 70.633%\n",
            "Epoch 3/10, avg train loss: 0.895, avg test loss: 0.636, accuracy: 75.367%\n",
            "Epoch 4/10, avg train loss: 0.814, avg test loss: 0.578, accuracy: 77.200%\n",
            "Epoch 5/10, avg train loss: 0.798, avg test loss: 0.565, accuracy: 78.433%\n",
            "Epoch 6/10, avg train loss: 0.750, avg test loss: 0.536, accuracy: 77.800%\n",
            "Epoch 7/10, avg train loss: 0.730, avg test loss: 0.539, accuracy: 77.933%\n",
            "Epoch 8/10, avg train loss: 0.716, avg test loss: 0.525, accuracy: 79.267%\n",
            "Epoch 9/10, avg train loss: 0.696, avg test loss: 0.537, accuracy: 76.833%\n"
          ]
        },
        {
          "output_type": "stream",
          "name": "stderr",
          "text": [
            "\u001b[32m[I 2022-03-21 16:47:38,029]\u001b[0m Trial 3 finished with value: 80.5 and parameters: {'out_channels_conv0': 5, 'out_channels_conv1': 5, 'kernel_size_conv0': 7, 'kernel_size_conv1': 7, 'dropout_conv0': 0.39471578851215045, 'dropout_conv1': 0.4475986149152238, 'out_features_fc0': 101, 'out_features_fc1': 58, 'dropout_fc0': 0.4590346108048504, 'dropout_fc1': 0.015624715303734327}. Best is trial 0 with value: 83.06666666666666.\u001b[0m\n"
          ]
        },
        {
          "output_type": "stream",
          "name": "stdout",
          "text": [
            "Epoch 10/10, avg train loss: 0.693, avg test loss: 0.506, accuracy: 80.500%\n",
            "Epoch 1/10, avg train loss: 1.307, avg test loss: 0.842, accuracy: 68.233%\n",
            "Epoch 2/10, avg train loss: 0.929, avg test loss: 0.724, accuracy: 70.000%\n",
            "Epoch 3/10, avg train loss: 0.808, avg test loss: 0.655, accuracy: 75.533%\n",
            "Epoch 4/10, avg train loss: 0.735, avg test loss: 0.611, accuracy: 77.067%\n",
            "Epoch 5/10, avg train loss: 0.676, avg test loss: 0.589, accuracy: 78.567%\n",
            "Epoch 6/10, avg train loss: 0.643, avg test loss: 0.539, accuracy: 80.100%\n",
            "Epoch 7/10, avg train loss: 0.616, avg test loss: 0.546, accuracy: 79.333%\n",
            "Epoch 8/10, avg train loss: 0.579, avg test loss: 0.507, accuracy: 80.133%\n",
            "Epoch 9/10, avg train loss: 0.583, avg test loss: 0.520, accuracy: 80.367%\n"
          ]
        },
        {
          "output_type": "stream",
          "name": "stderr",
          "text": [
            "\u001b[32m[I 2022-03-21 16:48:28,996]\u001b[0m Trial 4 finished with value: 80.76666666666667 and parameters: {'out_channels_conv0': 4, 'out_channels_conv1': 5, 'kernel_size_conv0': 5, 'kernel_size_conv1': 3, 'dropout_conv0': 0.289152675732039, 'dropout_conv1': 0.32470921287714216, 'out_features_fc0': 149, 'out_features_fc1': 34, 'dropout_fc0': 0.0005985275201625395, 'dropout_fc1': 0.20768441528453158}. Best is trial 0 with value: 83.06666666666666.\u001b[0m\n"
          ]
        },
        {
          "output_type": "stream",
          "name": "stdout",
          "text": [
            "Epoch 10/10, avg train loss: 0.549, avg test loss: 0.505, accuracy: 80.767%\n",
            "Epoch 1/10, avg train loss: 1.426, avg test loss: 0.921, accuracy: 65.567%\n",
            "Epoch 2/10, avg train loss: 1.041, avg test loss: 0.776, accuracy: 67.333%\n",
            "Epoch 3/10, avg train loss: 0.944, avg test loss: 0.694, accuracy: 71.400%\n",
            "Epoch 4/10, avg train loss: 0.850, avg test loss: 0.641, accuracy: 74.033%\n",
            "Epoch 5/10, avg train loss: 0.803, avg test loss: 0.594, accuracy: 76.667%\n",
            "Epoch 6/10, avg train loss: 0.770, avg test loss: 0.564, accuracy: 77.400%\n",
            "Epoch 7/10, avg train loss: 0.720, avg test loss: 0.579, accuracy: 76.733%\n",
            "Epoch 8/10, avg train loss: 0.706, avg test loss: 0.527, accuracy: 78.633%\n",
            "Epoch 9/10, avg train loss: 0.695, avg test loss: 0.518, accuracy: 78.467%\n"
          ]
        },
        {
          "output_type": "stream",
          "name": "stderr",
          "text": [
            "\u001b[32m[I 2022-03-21 16:49:20,190]\u001b[0m Trial 5 finished with value: 81.0 and parameters: {'out_channels_conv0': 6, 'out_channels_conv1': 4, 'kernel_size_conv0': 7, 'kernel_size_conv1': 5, 'dropout_conv0': 0.2637778410877946, 'dropout_conv1': 0.47257175367780035, 'out_features_fc0': 109, 'out_features_fc1': 77, 'dropout_fc0': 0.07018663974430611, 'dropout_fc1': 0.4732590531278845}. Best is trial 0 with value: 83.06666666666666.\u001b[0m\n"
          ]
        },
        {
          "output_type": "stream",
          "name": "stdout",
          "text": [
            "Epoch 10/10, avg train loss: 0.686, avg test loss: 0.514, accuracy: 81.000%\n",
            "Epoch 1/10, avg train loss: 1.087, avg test loss: 0.650, accuracy: 73.533%\n",
            "Epoch 2/10, avg train loss: 0.707, avg test loss: 0.589, accuracy: 76.033%\n",
            "Epoch 3/10, avg train loss: 0.623, avg test loss: 0.540, accuracy: 78.767%\n",
            "Epoch 4/10, avg train loss: 0.577, avg test loss: 0.485, accuracy: 81.600%\n",
            "Epoch 5/10, avg train loss: 0.532, avg test loss: 0.461, accuracy: 83.700%\n",
            "Epoch 6/10, avg train loss: 0.509, avg test loss: 0.455, accuracy: 84.100%\n",
            "Epoch 7/10, avg train loss: 0.475, avg test loss: 0.433, accuracy: 83.467%\n",
            "Epoch 8/10, avg train loss: 0.465, avg test loss: 0.430, accuracy: 84.300%\n",
            "Epoch 9/10, avg train loss: 0.441, avg test loss: 0.414, accuracy: 84.767%\n"
          ]
        },
        {
          "output_type": "stream",
          "name": "stderr",
          "text": [
            "\u001b[32m[I 2022-03-21 16:50:11,005]\u001b[0m Trial 6 finished with value: 84.33333333333333 and parameters: {'out_channels_conv0': 4, 'out_channels_conv1': 6, 'kernel_size_conv0': 7, 'kernel_size_conv1': 3, 'dropout_conv0': 0.011441783196009081, 'dropout_conv1': 0.34631129444080816, 'out_features_fc0': 171, 'out_features_fc1': 91, 'dropout_fc0': 0.24272589369003672, 'dropout_fc1': 0.18366696578710479}. Best is trial 6 with value: 84.33333333333333.\u001b[0m\n"
          ]
        },
        {
          "output_type": "stream",
          "name": "stdout",
          "text": [
            "Epoch 10/10, avg train loss: 0.433, avg test loss: 0.405, accuracy: 84.333%\n",
            "Epoch 1/10, avg train loss: 1.036, avg test loss: 0.700, accuracy: 73.267%\n",
            "Epoch 2/10, avg train loss: 0.689, avg test loss: 0.593, accuracy: 77.067%\n",
            "Epoch 3/10, avg train loss: 0.600, avg test loss: 0.566, accuracy: 78.233%\n",
            "Epoch 4/10, avg train loss: 0.543, avg test loss: 0.558, accuracy: 80.033%\n",
            "Epoch 5/10, avg train loss: 0.509, avg test loss: 0.473, accuracy: 82.867%\n",
            "Epoch 6/10, avg train loss: 0.478, avg test loss: 0.460, accuracy: 83.367%\n",
            "Epoch 7/10, avg train loss: 0.450, avg test loss: 0.434, accuracy: 83.500%\n",
            "Epoch 8/10, avg train loss: 0.421, avg test loss: 0.421, accuracy: 83.500%\n",
            "Epoch 9/10, avg train loss: 0.409, avg test loss: 0.412, accuracy: 84.133%\n"
          ]
        },
        {
          "output_type": "stream",
          "name": "stderr",
          "text": [
            "\u001b[32m[I 2022-03-21 16:51:01,867]\u001b[0m Trial 7 finished with value: 84.03333333333333 and parameters: {'out_channels_conv0': 6, 'out_channels_conv1': 4, 'kernel_size_conv0': 7, 'kernel_size_conv1': 7, 'dropout_conv0': 0.039309312131127094, 'dropout_conv1': 0.19072603075305583, 'out_features_fc0': 181, 'out_features_fc1': 62, 'dropout_fc0': 0.049544396874326546, 'dropout_fc1': 0.15792451949862013}. Best is trial 6 with value: 84.33333333333333.\u001b[0m\n"
          ]
        },
        {
          "output_type": "stream",
          "name": "stdout",
          "text": [
            "Epoch 10/10, avg train loss: 0.384, avg test loss: 0.413, accuracy: 84.033%\n",
            "Epoch 1/10, avg train loss: 1.337, avg test loss: 0.763, accuracy: 70.500%\n",
            "Epoch 2/10, avg train loss: 0.882, avg test loss: 0.660, accuracy: 74.200%\n",
            "Epoch 3/10, avg train loss: 0.754, avg test loss: 0.588, accuracy: 76.967%\n",
            "Epoch 4/10, avg train loss: 0.696, avg test loss: 0.561, accuracy: 76.533%\n",
            "Epoch 5/10, avg train loss: 0.652, avg test loss: 0.556, accuracy: 77.000%\n",
            "Epoch 6/10, avg train loss: 0.609, avg test loss: 0.532, accuracy: 78.800%\n",
            "Epoch 7/10, avg train loss: 0.599, avg test loss: 0.513, accuracy: 78.600%\n",
            "Epoch 8/10, avg train loss: 0.573, avg test loss: 0.510, accuracy: 79.400%\n",
            "Epoch 9/10, avg train loss: 0.550, avg test loss: 0.488, accuracy: 81.367%\n"
          ]
        },
        {
          "output_type": "stream",
          "name": "stderr",
          "text": [
            "\u001b[32m[I 2022-03-21 16:51:52,618]\u001b[0m Trial 8 finished with value: 82.56666666666666 and parameters: {'out_channels_conv0': 4, 'out_channels_conv1': 6, 'kernel_size_conv0': 5, 'kernel_size_conv1': 3, 'dropout_conv0': 0.1402990041516438, 'dropout_conv1': 0.2731203051969701, 'out_features_fc0': 165, 'out_features_fc1': 39, 'dropout_fc0': 0.19132353217275805, 'dropout_fc1': 0.45327372296951907}. Best is trial 6 with value: 84.33333333333333.\u001b[0m\n"
          ]
        },
        {
          "output_type": "stream",
          "name": "stdout",
          "text": [
            "Epoch 10/10, avg train loss: 0.530, avg test loss: 0.480, accuracy: 82.567%\n",
            "Epoch 1/10, avg train loss: 1.277, avg test loss: 0.745, accuracy: 73.500%\n",
            "Epoch 2/10, avg train loss: 0.806, avg test loss: 0.611, accuracy: 75.300%\n",
            "Epoch 3/10, avg train loss: 0.704, avg test loss: 0.546, accuracy: 79.367%\n",
            "Epoch 4/10, avg train loss: 0.650, avg test loss: 0.534, accuracy: 78.300%\n",
            "Epoch 5/10, avg train loss: 0.611, avg test loss: 0.511, accuracy: 80.533%\n",
            "Epoch 6/10, avg train loss: 0.587, avg test loss: 0.487, accuracy: 80.600%\n",
            "Epoch 7/10, avg train loss: 0.576, avg test loss: 0.476, accuracy: 81.133%\n",
            "Epoch 8/10, avg train loss: 0.531, avg test loss: 0.463, accuracy: 82.233%\n",
            "Epoch 9/10, avg train loss: 0.530, avg test loss: 0.453, accuracy: 83.233%\n"
          ]
        },
        {
          "output_type": "stream",
          "name": "stderr",
          "text": [
            "\u001b[32m[I 2022-03-21 16:52:43,178]\u001b[0m Trial 9 finished with value: 83.03333333333333 and parameters: {'out_channels_conv0': 5, 'out_channels_conv1': 4, 'kernel_size_conv0': 3, 'kernel_size_conv1': 3, 'dropout_conv0': 0.23488103762998658, 'dropout_conv1': 0.12350146820577901, 'out_features_fc0': 124, 'out_features_fc1': 39, 'dropout_fc0': 0.10249156385602515, 'dropout_fc1': 0.39307281030098756}. Best is trial 6 with value: 84.33333333333333.\u001b[0m\n"
          ]
        },
        {
          "output_type": "stream",
          "name": "stdout",
          "text": [
            "Epoch 10/10, avg train loss: 0.506, avg test loss: 0.434, accuracy: 83.033%\n"
          ]
        }
      ]
    },
    {
      "cell_type": "code",
      "source": [
        "study.best_params"
      ],
      "metadata": {
        "id": "ZSElIT4d4V3J",
        "outputId": "db4ada46-caa0-4314-e20f-9533debf5cf8",
        "colab": {
          "base_uri": "https://localhost:8080/"
        }
      },
      "execution_count": 57,
      "outputs": [
        {
          "output_type": "execute_result",
          "data": {
            "text/plain": [
              "{'dropout_conv0': 0.011441783196009081,\n",
              " 'dropout_conv1': 0.34631129444080816,\n",
              " 'dropout_fc0': 0.24272589369003672,\n",
              " 'dropout_fc1': 0.18366696578710479,\n",
              " 'kernel_size_conv0': 7,\n",
              " 'kernel_size_conv1': 3,\n",
              " 'out_channels_conv0': 4,\n",
              " 'out_channels_conv1': 6,\n",
              " 'out_features_fc0': 171,\n",
              " 'out_features_fc1': 91}"
            ]
          },
          "metadata": {},
          "execution_count": 57
        }
      ]
    },
    {
      "cell_type": "code",
      "source": [
        "from torch.nn.modules import padding\n",
        "class Best_conv_net(nn.Module):\n",
        "\n",
        "    def __init__(self, params):\n",
        "        super().__init__()\n",
        "        padding0 = int((params['kernel_size_conv0'] - 1) / 2)\n",
        "        padding1 = int((params['kernel_size_conv1'] - 1) / 2)\n",
        "        conv_layers = []\n",
        "        conv_layers.append(nn.Conv2d(in_channels=1,\n",
        "                               out_channels=params['out_channels_conv0'],\n",
        "                               kernel_size=params['kernel_size_conv0'],\n",
        "                               padding=padding0))\n",
        "        conv_layers.append(nn.Dropout2d(params['dropout_conv0']))\n",
        "        conv_layers.append(nn.MaxPool2d(kernel_size=2, stride=2))\n",
        "        conv_layers.append(nn.ReLU())\n",
        "        conv_layers.append(nn.Conv2d(in_channels=params['out_channels_conv1'],\n",
        "                               out_channels=params['out_channels_conv1'],\n",
        "                               kernel_size=params['kernel_size_conv1'],\n",
        "                               padding=padding1))\n",
        "        conv_layers.append(nn.Dropout2d(params['dropout_conv1']))\n",
        "        conv_layers.append(nn.MaxPool2d(kernel_size=2, stride=2))\n",
        "        conv_layers.append(nn.ReLU())\n",
        "        self.conv_layers = nn.Sequential(*conv_layers)\n",
        "\n",
        "        fc_layers = []\n",
        "        fc_layers.append(nn.Linear(params['out_channels_conv1']*7*7,\n",
        "                             params['out_features_fc0']))\n",
        "        fc_layers.append(nn.Dropout(params['dropout_fc0']))\n",
        "        fc_layers.append(nn.ReLU())\n",
        "        fc_layers.append(nn.Linear(params['out_features_fc0'],\n",
        "                             params['out_features_fc1']))\n",
        "        fc_layers.append(nn.Dropout(params['dropout_fc1']))\n",
        "        fc_layers.append(nn.ReLU())\n",
        "        self.fc_layers = nn.Sequential(*fc_layers)\n",
        "\n",
        "    def forward(self, x):\n",
        "        x = self.conv_layers(x)\n",
        "        x = torch.flatten(x, 1)\n",
        "        x = self.fc_layers(x)\n",
        "        return x"
      ],
      "metadata": {
        "id": "n3zRFuqG9o_i"
      },
      "execution_count": 54,
      "outputs": []
    },
    {
      "cell_type": "markdown",
      "source": [
        "### Learning rate and sparsity"
      ],
      "metadata": {
        "id": "GuL6pdVoglFp"
      }
    },
    {
      "cell_type": "code",
      "source": [
        "def optim_objective(trial):\n",
        "    lr = trial.suggest_float('lr', 1e-5, 1e-1, log=True)\n",
        "    sparsity = trial.suggest_float('sparsity', 1e-5, 2e-1, log=True)\n",
        "    \n",
        "    best_conv_net = Best_conv_net(study.best_params).to(DEVICE)\n",
        "    optimizer = optim.Adam(best_conv_net.parameters(), lr=lr, weight_decay=sparsity)\n",
        "    loss_fn = nn.CrossEntropyLoss()\n",
        "    accuracy = train_model(best_conv_net, 10, loss_fn, optimizer)\n",
        "    return accuracy"
      ],
      "metadata": {
        "id": "fVol9Uergp9z"
      },
      "execution_count": 58,
      "outputs": []
    },
    {
      "cell_type": "code",
      "source": [
        "optim_study = optuna.create_study(direction='maximize', sampler=optuna.samplers.TPESampler())\n",
        "optim_study.optimize(optim_objective, n_trials=10)"
      ],
      "metadata": {
        "colab": {
          "base_uri": "https://localhost:8080/",
          "height": 799
        },
        "id": "3BOmzewJi7R0",
        "outputId": "d14c669e-f009-496c-bb00-33f95de26332"
      },
      "execution_count": 59,
      "outputs": [
        {
          "output_type": "stream",
          "name": "stderr",
          "text": [
            "\u001b[32m[I 2022-03-21 16:55:28,345]\u001b[0m A new study created in memory with name: no-name-affcc445-627f-4304-8692-a2c19533531a\u001b[0m\n",
            "\u001b[33m[W 2022-03-21 16:55:28,463]\u001b[0m Trial 0 failed because of the following error: RuntimeError('Given groups=1, weight of size [6, 6, 3, 3], expected input[10, 4, 14, 14] to have 6 channels, but got 4 channels instead')\u001b[0m\n",
            "Traceback (most recent call last):\n",
            "  File \"/usr/local/lib/python3.7/dist-packages/optuna/study/_optimize.py\", line 213, in _run_trial\n",
            "    value_or_values = func(trial)\n",
            "  File \"<ipython-input-58-3b5aae50b4ad>\", line 8, in optim_objective\n",
            "    accuracy = train_model(best_conv_net, 10, loss_fn, optimizer)\n",
            "  File \"<ipython-input-51-fe7d297d4f28>\", line 45, in train_model\n",
            "    train_loss = train_epoch(model, DEVICE, train_dataloader, loss_fn, optimizer)\n",
            "  File \"<ipython-input-49-18e960ceddf9>\", line 7, in train_epoch\n",
            "    out = model(x_batch)\n",
            "  File \"/usr/local/lib/python3.7/dist-packages/torch/nn/modules/module.py\", line 1102, in _call_impl\n",
            "    return forward_call(*input, **kwargs)\n",
            "  File \"<ipython-input-54-6d20c54ebc68>\", line 37, in forward\n",
            "    x = self.conv_layers(x)\n",
            "  File \"/usr/local/lib/python3.7/dist-packages/torch/nn/modules/module.py\", line 1102, in _call_impl\n",
            "    return forward_call(*input, **kwargs)\n",
            "  File \"/usr/local/lib/python3.7/dist-packages/torch/nn/modules/container.py\", line 141, in forward\n",
            "    input = module(input)\n",
            "  File \"/usr/local/lib/python3.7/dist-packages/torch/nn/modules/module.py\", line 1102, in _call_impl\n",
            "    return forward_call(*input, **kwargs)\n",
            "  File \"/usr/local/lib/python3.7/dist-packages/torch/nn/modules/conv.py\", line 446, in forward\n",
            "    return self._conv_forward(input, self.weight, self.bias)\n",
            "  File \"/usr/local/lib/python3.7/dist-packages/torch/nn/modules/conv.py\", line 443, in _conv_forward\n",
            "    self.padding, self.dilation, self.groups)\n",
            "RuntimeError: Given groups=1, weight of size [6, 6, 3, 3], expected input[10, 4, 14, 14] to have 6 channels, but got 4 channels instead\n"
          ]
        },
        {
          "output_type": "error",
          "ename": "RuntimeError",
          "evalue": "ignored",
          "traceback": [
            "\u001b[0;31m---------------------------------------------------------------------------\u001b[0m",
            "\u001b[0;31mRuntimeError\u001b[0m                              Traceback (most recent call last)",
            "\u001b[0;32m<ipython-input-59-f5cf18da2ad2>\u001b[0m in \u001b[0;36m<module>\u001b[0;34m()\u001b[0m\n\u001b[1;32m      1\u001b[0m \u001b[0moptim_study\u001b[0m \u001b[0;34m=\u001b[0m \u001b[0moptuna\u001b[0m\u001b[0;34m.\u001b[0m\u001b[0mcreate_study\u001b[0m\u001b[0;34m(\u001b[0m\u001b[0mdirection\u001b[0m\u001b[0;34m=\u001b[0m\u001b[0;34m'maximize'\u001b[0m\u001b[0;34m,\u001b[0m \u001b[0msampler\u001b[0m\u001b[0;34m=\u001b[0m\u001b[0moptuna\u001b[0m\u001b[0;34m.\u001b[0m\u001b[0msamplers\u001b[0m\u001b[0;34m.\u001b[0m\u001b[0mTPESampler\u001b[0m\u001b[0;34m(\u001b[0m\u001b[0;34m)\u001b[0m\u001b[0;34m)\u001b[0m\u001b[0;34m\u001b[0m\u001b[0;34m\u001b[0m\u001b[0m\n\u001b[0;32m----> 2\u001b[0;31m \u001b[0moptim_study\u001b[0m\u001b[0;34m.\u001b[0m\u001b[0moptimize\u001b[0m\u001b[0;34m(\u001b[0m\u001b[0moptim_objective\u001b[0m\u001b[0;34m,\u001b[0m \u001b[0mn_trials\u001b[0m\u001b[0;34m=\u001b[0m\u001b[0;36m10\u001b[0m\u001b[0;34m)\u001b[0m\u001b[0;34m\u001b[0m\u001b[0;34m\u001b[0m\u001b[0m\n\u001b[0m",
            "\u001b[0;32m/usr/local/lib/python3.7/dist-packages/optuna/study/study.py\u001b[0m in \u001b[0;36moptimize\u001b[0;34m(self, func, n_trials, timeout, n_jobs, catch, callbacks, gc_after_trial, show_progress_bar)\u001b[0m\n\u001b[1;32m    407\u001b[0m             \u001b[0mcallbacks\u001b[0m\u001b[0;34m=\u001b[0m\u001b[0mcallbacks\u001b[0m\u001b[0;34m,\u001b[0m\u001b[0;34m\u001b[0m\u001b[0;34m\u001b[0m\u001b[0m\n\u001b[1;32m    408\u001b[0m             \u001b[0mgc_after_trial\u001b[0m\u001b[0;34m=\u001b[0m\u001b[0mgc_after_trial\u001b[0m\u001b[0;34m,\u001b[0m\u001b[0;34m\u001b[0m\u001b[0;34m\u001b[0m\u001b[0m\n\u001b[0;32m--> 409\u001b[0;31m             \u001b[0mshow_progress_bar\u001b[0m\u001b[0;34m=\u001b[0m\u001b[0mshow_progress_bar\u001b[0m\u001b[0;34m,\u001b[0m\u001b[0;34m\u001b[0m\u001b[0;34m\u001b[0m\u001b[0m\n\u001b[0m\u001b[1;32m    410\u001b[0m         )\n\u001b[1;32m    411\u001b[0m \u001b[0;34m\u001b[0m\u001b[0m\n",
            "\u001b[0;32m/usr/local/lib/python3.7/dist-packages/optuna/study/_optimize.py\u001b[0m in \u001b[0;36m_optimize\u001b[0;34m(study, func, n_trials, timeout, n_jobs, catch, callbacks, gc_after_trial, show_progress_bar)\u001b[0m\n\u001b[1;32m     74\u001b[0m                 \u001b[0mreseed_sampler_rng\u001b[0m\u001b[0;34m=\u001b[0m\u001b[0;32mFalse\u001b[0m\u001b[0;34m,\u001b[0m\u001b[0;34m\u001b[0m\u001b[0;34m\u001b[0m\u001b[0m\n\u001b[1;32m     75\u001b[0m                 \u001b[0mtime_start\u001b[0m\u001b[0;34m=\u001b[0m\u001b[0;32mNone\u001b[0m\u001b[0;34m,\u001b[0m\u001b[0;34m\u001b[0m\u001b[0;34m\u001b[0m\u001b[0m\n\u001b[0;32m---> 76\u001b[0;31m                 \u001b[0mprogress_bar\u001b[0m\u001b[0;34m=\u001b[0m\u001b[0mprogress_bar\u001b[0m\u001b[0;34m,\u001b[0m\u001b[0;34m\u001b[0m\u001b[0;34m\u001b[0m\u001b[0m\n\u001b[0m\u001b[1;32m     77\u001b[0m             )\n\u001b[1;32m     78\u001b[0m         \u001b[0;32melse\u001b[0m\u001b[0;34m:\u001b[0m\u001b[0;34m\u001b[0m\u001b[0;34m\u001b[0m\u001b[0m\n",
            "\u001b[0;32m/usr/local/lib/python3.7/dist-packages/optuna/study/_optimize.py\u001b[0m in \u001b[0;36m_optimize_sequential\u001b[0;34m(study, func, n_trials, timeout, catch, callbacks, gc_after_trial, reseed_sampler_rng, time_start, progress_bar)\u001b[0m\n\u001b[1;32m    161\u001b[0m \u001b[0;34m\u001b[0m\u001b[0m\n\u001b[1;32m    162\u001b[0m         \u001b[0;32mtry\u001b[0m\u001b[0;34m:\u001b[0m\u001b[0;34m\u001b[0m\u001b[0;34m\u001b[0m\u001b[0m\n\u001b[0;32m--> 163\u001b[0;31m             \u001b[0mtrial\u001b[0m \u001b[0;34m=\u001b[0m \u001b[0m_run_trial\u001b[0m\u001b[0;34m(\u001b[0m\u001b[0mstudy\u001b[0m\u001b[0;34m,\u001b[0m \u001b[0mfunc\u001b[0m\u001b[0;34m,\u001b[0m \u001b[0mcatch\u001b[0m\u001b[0;34m)\u001b[0m\u001b[0;34m\u001b[0m\u001b[0;34m\u001b[0m\u001b[0m\n\u001b[0m\u001b[1;32m    164\u001b[0m         \u001b[0;32mexcept\u001b[0m \u001b[0mException\u001b[0m\u001b[0;34m:\u001b[0m\u001b[0;34m\u001b[0m\u001b[0;34m\u001b[0m\u001b[0m\n\u001b[1;32m    165\u001b[0m             \u001b[0;32mraise\u001b[0m\u001b[0;34m\u001b[0m\u001b[0;34m\u001b[0m\u001b[0m\n",
            "\u001b[0;32m/usr/local/lib/python3.7/dist-packages/optuna/study/_optimize.py\u001b[0m in \u001b[0;36m_run_trial\u001b[0;34m(study, func, catch)\u001b[0m\n\u001b[1;32m    262\u001b[0m \u001b[0;34m\u001b[0m\u001b[0m\n\u001b[1;32m    263\u001b[0m     \u001b[0;32mif\u001b[0m \u001b[0mstate\u001b[0m \u001b[0;34m==\u001b[0m \u001b[0mTrialState\u001b[0m\u001b[0;34m.\u001b[0m\u001b[0mFAIL\u001b[0m \u001b[0;32mand\u001b[0m \u001b[0mfunc_err\u001b[0m \u001b[0;32mis\u001b[0m \u001b[0;32mnot\u001b[0m \u001b[0;32mNone\u001b[0m \u001b[0;32mand\u001b[0m \u001b[0;32mnot\u001b[0m \u001b[0misinstance\u001b[0m\u001b[0;34m(\u001b[0m\u001b[0mfunc_err\u001b[0m\u001b[0;34m,\u001b[0m \u001b[0mcatch\u001b[0m\u001b[0;34m)\u001b[0m\u001b[0;34m:\u001b[0m\u001b[0;34m\u001b[0m\u001b[0;34m\u001b[0m\u001b[0m\n\u001b[0;32m--> 264\u001b[0;31m         \u001b[0;32mraise\u001b[0m \u001b[0mfunc_err\u001b[0m\u001b[0;34m\u001b[0m\u001b[0;34m\u001b[0m\u001b[0m\n\u001b[0m\u001b[1;32m    265\u001b[0m     \u001b[0;32mreturn\u001b[0m \u001b[0mtrial\u001b[0m\u001b[0;34m\u001b[0m\u001b[0;34m\u001b[0m\u001b[0m\n\u001b[1;32m    266\u001b[0m \u001b[0;34m\u001b[0m\u001b[0m\n",
            "\u001b[0;32m/usr/local/lib/python3.7/dist-packages/optuna/study/_optimize.py\u001b[0m in \u001b[0;36m_run_trial\u001b[0;34m(study, func, catch)\u001b[0m\n\u001b[1;32m    211\u001b[0m \u001b[0;34m\u001b[0m\u001b[0m\n\u001b[1;32m    212\u001b[0m     \u001b[0;32mtry\u001b[0m\u001b[0;34m:\u001b[0m\u001b[0;34m\u001b[0m\u001b[0;34m\u001b[0m\u001b[0m\n\u001b[0;32m--> 213\u001b[0;31m         \u001b[0mvalue_or_values\u001b[0m \u001b[0;34m=\u001b[0m \u001b[0mfunc\u001b[0m\u001b[0;34m(\u001b[0m\u001b[0mtrial\u001b[0m\u001b[0;34m)\u001b[0m\u001b[0;34m\u001b[0m\u001b[0;34m\u001b[0m\u001b[0m\n\u001b[0m\u001b[1;32m    214\u001b[0m     \u001b[0;32mexcept\u001b[0m \u001b[0mexceptions\u001b[0m\u001b[0;34m.\u001b[0m\u001b[0mTrialPruned\u001b[0m \u001b[0;32mas\u001b[0m \u001b[0me\u001b[0m\u001b[0;34m:\u001b[0m\u001b[0;34m\u001b[0m\u001b[0;34m\u001b[0m\u001b[0m\n\u001b[1;32m    215\u001b[0m         \u001b[0;31m# TODO(mamu): Handle multi-objective cases.\u001b[0m\u001b[0;34m\u001b[0m\u001b[0;34m\u001b[0m\u001b[0;34m\u001b[0m\u001b[0m\n",
            "\u001b[0;32m<ipython-input-58-3b5aae50b4ad>\u001b[0m in \u001b[0;36moptim_objective\u001b[0;34m(trial)\u001b[0m\n\u001b[1;32m      6\u001b[0m     \u001b[0moptimizer\u001b[0m \u001b[0;34m=\u001b[0m \u001b[0moptim\u001b[0m\u001b[0;34m.\u001b[0m\u001b[0mAdam\u001b[0m\u001b[0;34m(\u001b[0m\u001b[0mbest_conv_net\u001b[0m\u001b[0;34m.\u001b[0m\u001b[0mparameters\u001b[0m\u001b[0;34m(\u001b[0m\u001b[0;34m)\u001b[0m\u001b[0;34m,\u001b[0m \u001b[0mlr\u001b[0m\u001b[0;34m=\u001b[0m\u001b[0mlr\u001b[0m\u001b[0;34m,\u001b[0m \u001b[0mweight_decay\u001b[0m\u001b[0;34m=\u001b[0m\u001b[0msparsity\u001b[0m\u001b[0;34m)\u001b[0m\u001b[0;34m\u001b[0m\u001b[0;34m\u001b[0m\u001b[0m\n\u001b[1;32m      7\u001b[0m     \u001b[0mloss_fn\u001b[0m \u001b[0;34m=\u001b[0m \u001b[0mnn\u001b[0m\u001b[0;34m.\u001b[0m\u001b[0mCrossEntropyLoss\u001b[0m\u001b[0;34m(\u001b[0m\u001b[0;34m)\u001b[0m\u001b[0;34m\u001b[0m\u001b[0;34m\u001b[0m\u001b[0m\n\u001b[0;32m----> 8\u001b[0;31m     \u001b[0maccuracy\u001b[0m \u001b[0;34m=\u001b[0m \u001b[0mtrain_model\u001b[0m\u001b[0;34m(\u001b[0m\u001b[0mbest_conv_net\u001b[0m\u001b[0;34m,\u001b[0m \u001b[0;36m10\u001b[0m\u001b[0;34m,\u001b[0m \u001b[0mloss_fn\u001b[0m\u001b[0;34m,\u001b[0m \u001b[0moptimizer\u001b[0m\u001b[0;34m)\u001b[0m\u001b[0;34m\u001b[0m\u001b[0;34m\u001b[0m\u001b[0m\n\u001b[0m\u001b[1;32m      9\u001b[0m     \u001b[0;32mreturn\u001b[0m \u001b[0maccuracy\u001b[0m\u001b[0;34m\u001b[0m\u001b[0;34m\u001b[0m\u001b[0m\n",
            "\u001b[0;32m<ipython-input-51-fe7d297d4f28>\u001b[0m in \u001b[0;36mtrain_model\u001b[0;34m(model, num_epochs, loss_fn, optimizer)\u001b[0m\n\u001b[1;32m     43\u001b[0m     \u001b[0mval_loss_log\u001b[0m \u001b[0;34m=\u001b[0m \u001b[0;34m[\u001b[0m\u001b[0;34m]\u001b[0m\u001b[0;34m\u001b[0m\u001b[0;34m\u001b[0m\u001b[0m\n\u001b[1;32m     44\u001b[0m     \u001b[0;32mfor\u001b[0m \u001b[0mepoch\u001b[0m \u001b[0;32min\u001b[0m \u001b[0mrange\u001b[0m\u001b[0;34m(\u001b[0m\u001b[0mnum_epochs\u001b[0m\u001b[0;34m)\u001b[0m\u001b[0;34m:\u001b[0m\u001b[0;34m\u001b[0m\u001b[0;34m\u001b[0m\u001b[0m\n\u001b[0;32m---> 45\u001b[0;31m         \u001b[0mtrain_loss\u001b[0m \u001b[0;34m=\u001b[0m \u001b[0mtrain_epoch\u001b[0m\u001b[0;34m(\u001b[0m\u001b[0mmodel\u001b[0m\u001b[0;34m,\u001b[0m \u001b[0mDEVICE\u001b[0m\u001b[0;34m,\u001b[0m \u001b[0mtrain_dataloader\u001b[0m\u001b[0;34m,\u001b[0m \u001b[0mloss_fn\u001b[0m\u001b[0;34m,\u001b[0m \u001b[0moptimizer\u001b[0m\u001b[0;34m)\u001b[0m\u001b[0;34m\u001b[0m\u001b[0;34m\u001b[0m\u001b[0m\n\u001b[0m\u001b[1;32m     46\u001b[0m         \u001b[0mtrain_loss_log\u001b[0m\u001b[0;34m.\u001b[0m\u001b[0mappend\u001b[0m\u001b[0;34m(\u001b[0m\u001b[0mtrain_loss\u001b[0m\u001b[0;34m)\u001b[0m\u001b[0;34m\u001b[0m\u001b[0;34m\u001b[0m\u001b[0m\n\u001b[1;32m     47\u001b[0m \u001b[0;34m\u001b[0m\u001b[0m\n",
            "\u001b[0;32m<ipython-input-49-18e960ceddf9>\u001b[0m in \u001b[0;36mtrain_epoch\u001b[0;34m(model, device, dataloader, loss_fn, optimizer)\u001b[0m\n\u001b[1;32m      5\u001b[0m         \u001b[0mx_batch\u001b[0m \u001b[0;34m=\u001b[0m \u001b[0msample_batched\u001b[0m\u001b[0;34m[\u001b[0m\u001b[0;36m0\u001b[0m\u001b[0;34m]\u001b[0m\u001b[0;34m.\u001b[0m\u001b[0mto\u001b[0m\u001b[0;34m(\u001b[0m\u001b[0mdevice\u001b[0m\u001b[0;34m)\u001b[0m\u001b[0;34m\u001b[0m\u001b[0;34m\u001b[0m\u001b[0m\n\u001b[1;32m      6\u001b[0m         \u001b[0mlabel_batch\u001b[0m \u001b[0;34m=\u001b[0m \u001b[0msample_batched\u001b[0m\u001b[0;34m[\u001b[0m\u001b[0;36m1\u001b[0m\u001b[0;34m]\u001b[0m\u001b[0;34m.\u001b[0m\u001b[0mto\u001b[0m\u001b[0;34m(\u001b[0m\u001b[0mdevice\u001b[0m\u001b[0;34m)\u001b[0m\u001b[0;34m\u001b[0m\u001b[0;34m\u001b[0m\u001b[0m\n\u001b[0;32m----> 7\u001b[0;31m         \u001b[0mout\u001b[0m \u001b[0;34m=\u001b[0m \u001b[0mmodel\u001b[0m\u001b[0;34m(\u001b[0m\u001b[0mx_batch\u001b[0m\u001b[0;34m)\u001b[0m\u001b[0;34m\u001b[0m\u001b[0;34m\u001b[0m\u001b[0m\n\u001b[0m\u001b[1;32m      8\u001b[0m         \u001b[0mloss\u001b[0m \u001b[0;34m=\u001b[0m \u001b[0mloss_fn\u001b[0m\u001b[0;34m(\u001b[0m\u001b[0mout\u001b[0m\u001b[0;34m,\u001b[0m \u001b[0mlabel_batch\u001b[0m\u001b[0;34m)\u001b[0m\u001b[0;34m\u001b[0m\u001b[0;34m\u001b[0m\u001b[0m\n\u001b[1;32m      9\u001b[0m         \u001b[0mmodel\u001b[0m\u001b[0;34m.\u001b[0m\u001b[0mzero_grad\u001b[0m\u001b[0;34m(\u001b[0m\u001b[0;34m)\u001b[0m\u001b[0;34m\u001b[0m\u001b[0;34m\u001b[0m\u001b[0m\n",
            "\u001b[0;32m/usr/local/lib/python3.7/dist-packages/torch/nn/modules/module.py\u001b[0m in \u001b[0;36m_call_impl\u001b[0;34m(self, *input, **kwargs)\u001b[0m\n\u001b[1;32m   1100\u001b[0m         if not (self._backward_hooks or self._forward_hooks or self._forward_pre_hooks or _global_backward_hooks\n\u001b[1;32m   1101\u001b[0m                 or _global_forward_hooks or _global_forward_pre_hooks):\n\u001b[0;32m-> 1102\u001b[0;31m             \u001b[0;32mreturn\u001b[0m \u001b[0mforward_call\u001b[0m\u001b[0;34m(\u001b[0m\u001b[0;34m*\u001b[0m\u001b[0minput\u001b[0m\u001b[0;34m,\u001b[0m \u001b[0;34m**\u001b[0m\u001b[0mkwargs\u001b[0m\u001b[0;34m)\u001b[0m\u001b[0;34m\u001b[0m\u001b[0;34m\u001b[0m\u001b[0m\n\u001b[0m\u001b[1;32m   1103\u001b[0m         \u001b[0;31m# Do not call functions when jit is used\u001b[0m\u001b[0;34m\u001b[0m\u001b[0;34m\u001b[0m\u001b[0;34m\u001b[0m\u001b[0m\n\u001b[1;32m   1104\u001b[0m         \u001b[0mfull_backward_hooks\u001b[0m\u001b[0;34m,\u001b[0m \u001b[0mnon_full_backward_hooks\u001b[0m \u001b[0;34m=\u001b[0m \u001b[0;34m[\u001b[0m\u001b[0;34m]\u001b[0m\u001b[0;34m,\u001b[0m \u001b[0;34m[\u001b[0m\u001b[0;34m]\u001b[0m\u001b[0;34m\u001b[0m\u001b[0;34m\u001b[0m\u001b[0m\n",
            "\u001b[0;32m<ipython-input-54-6d20c54ebc68>\u001b[0m in \u001b[0;36mforward\u001b[0;34m(self, x)\u001b[0m\n\u001b[1;32m     35\u001b[0m \u001b[0;34m\u001b[0m\u001b[0m\n\u001b[1;32m     36\u001b[0m     \u001b[0;32mdef\u001b[0m \u001b[0mforward\u001b[0m\u001b[0;34m(\u001b[0m\u001b[0mself\u001b[0m\u001b[0;34m,\u001b[0m \u001b[0mx\u001b[0m\u001b[0;34m)\u001b[0m\u001b[0;34m:\u001b[0m\u001b[0;34m\u001b[0m\u001b[0;34m\u001b[0m\u001b[0m\n\u001b[0;32m---> 37\u001b[0;31m         \u001b[0mx\u001b[0m \u001b[0;34m=\u001b[0m \u001b[0mself\u001b[0m\u001b[0;34m.\u001b[0m\u001b[0mconv_layers\u001b[0m\u001b[0;34m(\u001b[0m\u001b[0mx\u001b[0m\u001b[0;34m)\u001b[0m\u001b[0;34m\u001b[0m\u001b[0;34m\u001b[0m\u001b[0m\n\u001b[0m\u001b[1;32m     38\u001b[0m         \u001b[0mx\u001b[0m \u001b[0;34m=\u001b[0m \u001b[0mtorch\u001b[0m\u001b[0;34m.\u001b[0m\u001b[0mflatten\u001b[0m\u001b[0;34m(\u001b[0m\u001b[0mx\u001b[0m\u001b[0;34m,\u001b[0m \u001b[0;36m1\u001b[0m\u001b[0;34m)\u001b[0m\u001b[0;34m\u001b[0m\u001b[0;34m\u001b[0m\u001b[0m\n\u001b[1;32m     39\u001b[0m         \u001b[0mx\u001b[0m \u001b[0;34m=\u001b[0m \u001b[0mself\u001b[0m\u001b[0;34m.\u001b[0m\u001b[0mfc_layers\u001b[0m\u001b[0;34m(\u001b[0m\u001b[0mx\u001b[0m\u001b[0;34m)\u001b[0m\u001b[0;34m\u001b[0m\u001b[0;34m\u001b[0m\u001b[0m\n",
            "\u001b[0;32m/usr/local/lib/python3.7/dist-packages/torch/nn/modules/module.py\u001b[0m in \u001b[0;36m_call_impl\u001b[0;34m(self, *input, **kwargs)\u001b[0m\n\u001b[1;32m   1100\u001b[0m         if not (self._backward_hooks or self._forward_hooks or self._forward_pre_hooks or _global_backward_hooks\n\u001b[1;32m   1101\u001b[0m                 or _global_forward_hooks or _global_forward_pre_hooks):\n\u001b[0;32m-> 1102\u001b[0;31m             \u001b[0;32mreturn\u001b[0m \u001b[0mforward_call\u001b[0m\u001b[0;34m(\u001b[0m\u001b[0;34m*\u001b[0m\u001b[0minput\u001b[0m\u001b[0;34m,\u001b[0m \u001b[0;34m**\u001b[0m\u001b[0mkwargs\u001b[0m\u001b[0;34m)\u001b[0m\u001b[0;34m\u001b[0m\u001b[0;34m\u001b[0m\u001b[0m\n\u001b[0m\u001b[1;32m   1103\u001b[0m         \u001b[0;31m# Do not call functions when jit is used\u001b[0m\u001b[0;34m\u001b[0m\u001b[0;34m\u001b[0m\u001b[0;34m\u001b[0m\u001b[0m\n\u001b[1;32m   1104\u001b[0m         \u001b[0mfull_backward_hooks\u001b[0m\u001b[0;34m,\u001b[0m \u001b[0mnon_full_backward_hooks\u001b[0m \u001b[0;34m=\u001b[0m \u001b[0;34m[\u001b[0m\u001b[0;34m]\u001b[0m\u001b[0;34m,\u001b[0m \u001b[0;34m[\u001b[0m\u001b[0;34m]\u001b[0m\u001b[0;34m\u001b[0m\u001b[0;34m\u001b[0m\u001b[0m\n",
            "\u001b[0;32m/usr/local/lib/python3.7/dist-packages/torch/nn/modules/container.py\u001b[0m in \u001b[0;36mforward\u001b[0;34m(self, input)\u001b[0m\n\u001b[1;32m    139\u001b[0m     \u001b[0;32mdef\u001b[0m \u001b[0mforward\u001b[0m\u001b[0;34m(\u001b[0m\u001b[0mself\u001b[0m\u001b[0;34m,\u001b[0m \u001b[0minput\u001b[0m\u001b[0;34m)\u001b[0m\u001b[0;34m:\u001b[0m\u001b[0;34m\u001b[0m\u001b[0;34m\u001b[0m\u001b[0m\n\u001b[1;32m    140\u001b[0m         \u001b[0;32mfor\u001b[0m \u001b[0mmodule\u001b[0m \u001b[0;32min\u001b[0m \u001b[0mself\u001b[0m\u001b[0;34m:\u001b[0m\u001b[0;34m\u001b[0m\u001b[0;34m\u001b[0m\u001b[0m\n\u001b[0;32m--> 141\u001b[0;31m             \u001b[0minput\u001b[0m \u001b[0;34m=\u001b[0m \u001b[0mmodule\u001b[0m\u001b[0;34m(\u001b[0m\u001b[0minput\u001b[0m\u001b[0;34m)\u001b[0m\u001b[0;34m\u001b[0m\u001b[0;34m\u001b[0m\u001b[0m\n\u001b[0m\u001b[1;32m    142\u001b[0m         \u001b[0;32mreturn\u001b[0m \u001b[0minput\u001b[0m\u001b[0;34m\u001b[0m\u001b[0;34m\u001b[0m\u001b[0m\n\u001b[1;32m    143\u001b[0m \u001b[0;34m\u001b[0m\u001b[0m\n",
            "\u001b[0;32m/usr/local/lib/python3.7/dist-packages/torch/nn/modules/module.py\u001b[0m in \u001b[0;36m_call_impl\u001b[0;34m(self, *input, **kwargs)\u001b[0m\n\u001b[1;32m   1100\u001b[0m         if not (self._backward_hooks or self._forward_hooks or self._forward_pre_hooks or _global_backward_hooks\n\u001b[1;32m   1101\u001b[0m                 or _global_forward_hooks or _global_forward_pre_hooks):\n\u001b[0;32m-> 1102\u001b[0;31m             \u001b[0;32mreturn\u001b[0m \u001b[0mforward_call\u001b[0m\u001b[0;34m(\u001b[0m\u001b[0;34m*\u001b[0m\u001b[0minput\u001b[0m\u001b[0;34m,\u001b[0m \u001b[0;34m**\u001b[0m\u001b[0mkwargs\u001b[0m\u001b[0;34m)\u001b[0m\u001b[0;34m\u001b[0m\u001b[0;34m\u001b[0m\u001b[0m\n\u001b[0m\u001b[1;32m   1103\u001b[0m         \u001b[0;31m# Do not call functions when jit is used\u001b[0m\u001b[0;34m\u001b[0m\u001b[0;34m\u001b[0m\u001b[0;34m\u001b[0m\u001b[0m\n\u001b[1;32m   1104\u001b[0m         \u001b[0mfull_backward_hooks\u001b[0m\u001b[0;34m,\u001b[0m \u001b[0mnon_full_backward_hooks\u001b[0m \u001b[0;34m=\u001b[0m \u001b[0;34m[\u001b[0m\u001b[0;34m]\u001b[0m\u001b[0;34m,\u001b[0m \u001b[0;34m[\u001b[0m\u001b[0;34m]\u001b[0m\u001b[0;34m\u001b[0m\u001b[0;34m\u001b[0m\u001b[0m\n",
            "\u001b[0;32m/usr/local/lib/python3.7/dist-packages/torch/nn/modules/conv.py\u001b[0m in \u001b[0;36mforward\u001b[0;34m(self, input)\u001b[0m\n\u001b[1;32m    444\u001b[0m \u001b[0;34m\u001b[0m\u001b[0m\n\u001b[1;32m    445\u001b[0m     \u001b[0;32mdef\u001b[0m \u001b[0mforward\u001b[0m\u001b[0;34m(\u001b[0m\u001b[0mself\u001b[0m\u001b[0;34m,\u001b[0m \u001b[0minput\u001b[0m\u001b[0;34m:\u001b[0m \u001b[0mTensor\u001b[0m\u001b[0;34m)\u001b[0m \u001b[0;34m->\u001b[0m \u001b[0mTensor\u001b[0m\u001b[0;34m:\u001b[0m\u001b[0;34m\u001b[0m\u001b[0;34m\u001b[0m\u001b[0m\n\u001b[0;32m--> 446\u001b[0;31m         \u001b[0;32mreturn\u001b[0m \u001b[0mself\u001b[0m\u001b[0;34m.\u001b[0m\u001b[0m_conv_forward\u001b[0m\u001b[0;34m(\u001b[0m\u001b[0minput\u001b[0m\u001b[0;34m,\u001b[0m \u001b[0mself\u001b[0m\u001b[0;34m.\u001b[0m\u001b[0mweight\u001b[0m\u001b[0;34m,\u001b[0m \u001b[0mself\u001b[0m\u001b[0;34m.\u001b[0m\u001b[0mbias\u001b[0m\u001b[0;34m)\u001b[0m\u001b[0;34m\u001b[0m\u001b[0;34m\u001b[0m\u001b[0m\n\u001b[0m\u001b[1;32m    447\u001b[0m \u001b[0;34m\u001b[0m\u001b[0m\n\u001b[1;32m    448\u001b[0m \u001b[0;32mclass\u001b[0m \u001b[0mConv3d\u001b[0m\u001b[0;34m(\u001b[0m\u001b[0m_ConvNd\u001b[0m\u001b[0;34m)\u001b[0m\u001b[0;34m:\u001b[0m\u001b[0;34m\u001b[0m\u001b[0;34m\u001b[0m\u001b[0m\n",
            "\u001b[0;32m/usr/local/lib/python3.7/dist-packages/torch/nn/modules/conv.py\u001b[0m in \u001b[0;36m_conv_forward\u001b[0;34m(self, input, weight, bias)\u001b[0m\n\u001b[1;32m    441\u001b[0m                             _pair(0), self.dilation, self.groups)\n\u001b[1;32m    442\u001b[0m         return F.conv2d(input, weight, bias, self.stride,\n\u001b[0;32m--> 443\u001b[0;31m                         self.padding, self.dilation, self.groups)\n\u001b[0m\u001b[1;32m    444\u001b[0m \u001b[0;34m\u001b[0m\u001b[0m\n\u001b[1;32m    445\u001b[0m     \u001b[0;32mdef\u001b[0m \u001b[0mforward\u001b[0m\u001b[0;34m(\u001b[0m\u001b[0mself\u001b[0m\u001b[0;34m,\u001b[0m \u001b[0minput\u001b[0m\u001b[0;34m:\u001b[0m \u001b[0mTensor\u001b[0m\u001b[0;34m)\u001b[0m \u001b[0;34m->\u001b[0m \u001b[0mTensor\u001b[0m\u001b[0;34m:\u001b[0m\u001b[0;34m\u001b[0m\u001b[0;34m\u001b[0m\u001b[0m\n",
            "\u001b[0;31mRuntimeError\u001b[0m: Given groups=1, weight of size [6, 6, 3, 3], expected input[10, 4, 14, 14] to have 6 channels, but got 4 channels instead"
          ]
        }
      ]
    },
    {
      "cell_type": "code",
      "source": [
        "optim_study.best_params"
      ],
      "metadata": {
        "colab": {
          "base_uri": "https://localhost:8080/"
        },
        "id": "mpOyS1r8sVvg",
        "outputId": "54f83094-c7b4-48f8-b730-0386be5d836d"
      },
      "execution_count": null,
      "outputs": [
        {
          "output_type": "execute_result",
          "data": {
            "text/plain": [
              "{'lr': 0.0009905268022381316, 'sparsity': 0.0013893865004386099}"
            ]
          },
          "metadata": {},
          "execution_count": 40
        }
      ]
    },
    {
      "cell_type": "code",
      "source": [
        "best_conv_net = Best_conv_net(study.best_params).to(DEVICE)\n",
        "optimizer = optim.Adam(best_conv_net.parameters(), lr=optim_study.best_params['lr'], weight_decay=optim_study.best_params['sparsity'])\n",
        "loss_fn = nn.CrossEntropyLoss()\n",
        "num_epochs = 50\n",
        "train_loss_log = []\n",
        "val_loss_log = []\n",
        "for epoch in range(num_epochs):\n",
        "    train_loss = train_epoch(best_conv_net, DEVICE, train_dataloader, loss_fn, optimizer)\n",
        "    train_loss_log.append(train_loss)\n",
        "\n",
        "    val_loss, accuracy = val_epoch(best_conv_net, DEVICE, val_dataloader, loss_fn)\n",
        "    val_loss_log.append(val_loss)\n",
        "\n",
        "    print('Epoch {:}/{:}, avg train loss: {:.3f}, avg test loss: {:.3f}, accuracy: {:.3f}%'.format(epoch + 1, num_epochs, train_loss, val_loss, accuracy))\n",
        "\n",
        "test_accuracy = compute_accuracy(best_conv_net, DEVICE, test_dataloader)"
      ],
      "metadata": {
        "id": "EAQwvXFaBjWh",
        "outputId": "d412447e-c791-47df-8b68-bf045c80a3c0",
        "colab": {
          "base_uri": "https://localhost:8080/"
        }
      },
      "execution_count": null,
      "outputs": [
        {
          "output_type": "stream",
          "name": "stdout",
          "text": [
            "Epoch 1/50, avg train loss: 3.567, avg test loss: 2.678, accuracy: 51.700%\n",
            "Epoch 2/50, avg train loss: 3.076, avg test loss: 2.229, accuracy: 59.700%\n",
            "Epoch 3/50, avg train loss: 2.720, avg test loss: 2.120, accuracy: 60.133%\n",
            "Epoch 4/50, avg train loss: 2.679, avg test loss: 2.036, accuracy: 61.333%\n",
            "Epoch 5/50, avg train loss: 2.664, avg test loss: 1.812, accuracy: 63.767%\n",
            "Epoch 6/50, avg train loss: 2.618, avg test loss: 1.769, accuracy: 64.600%\n",
            "Epoch 7/50, avg train loss: 2.600, avg test loss: 1.844, accuracy: 64.900%\n",
            "Epoch 8/50, avg train loss: 2.543, avg test loss: 1.692, accuracy: 66.367%\n",
            "Epoch 9/50, avg train loss: 2.543, avg test loss: 1.905, accuracy: 65.633%\n",
            "Epoch 10/50, avg train loss: 2.519, avg test loss: 1.693, accuracy: 65.133%\n",
            "Epoch 11/50, avg train loss: 2.471, avg test loss: 1.693, accuracy: 67.067%\n",
            "Epoch 12/50, avg train loss: 2.238, avg test loss: 0.936, accuracy: 82.000%\n",
            "Epoch 13/50, avg train loss: 1.993, avg test loss: 0.945, accuracy: 81.233%\n",
            "Epoch 14/50, avg train loss: 1.950, avg test loss: 1.002, accuracy: 83.167%\n",
            "Epoch 15/50, avg train loss: 1.928, avg test loss: 0.800, accuracy: 83.300%\n",
            "Epoch 16/50, avg train loss: 1.915, avg test loss: 0.972, accuracy: 83.867%\n",
            "Epoch 17/50, avg train loss: 1.907, avg test loss: 0.903, accuracy: 83.133%\n",
            "Epoch 18/50, avg train loss: 1.902, avg test loss: 0.848, accuracy: 83.300%\n",
            "Epoch 19/50, avg train loss: 1.885, avg test loss: 0.826, accuracy: 84.133%\n",
            "Epoch 20/50, avg train loss: 1.871, avg test loss: 0.878, accuracy: 84.500%\n",
            "Epoch 21/50, avg train loss: 1.932, avg test loss: 0.921, accuracy: 84.400%\n",
            "Epoch 22/50, avg train loss: 1.890, avg test loss: 0.826, accuracy: 85.033%\n",
            "Epoch 23/50, avg train loss: 1.852, avg test loss: 0.835, accuracy: 85.067%\n",
            "Epoch 24/50, avg train loss: 1.857, avg test loss: 0.746, accuracy: 85.067%\n",
            "Epoch 25/50, avg train loss: 1.834, avg test loss: 0.771, accuracy: 85.367%\n",
            "Epoch 26/50, avg train loss: 1.832, avg test loss: 0.860, accuracy: 84.667%\n",
            "Epoch 27/50, avg train loss: 1.845, avg test loss: 0.913, accuracy: 85.167%\n",
            "Epoch 28/50, avg train loss: 1.824, avg test loss: 0.830, accuracy: 83.967%\n",
            "Epoch 29/50, avg train loss: 1.863, avg test loss: 0.913, accuracy: 84.800%\n",
            "Epoch 30/50, avg train loss: 1.838, avg test loss: 0.731, accuracy: 84.600%\n",
            "Epoch 31/50, avg train loss: 1.819, avg test loss: 0.862, accuracy: 85.100%\n",
            "Epoch 32/50, avg train loss: 1.840, avg test loss: 0.790, accuracy: 85.533%\n",
            "Epoch 33/50, avg train loss: 1.846, avg test loss: 0.786, accuracy: 84.833%\n",
            "Epoch 34/50, avg train loss: 1.805, avg test loss: 0.830, accuracy: 85.433%\n",
            "Epoch 35/50, avg train loss: 1.835, avg test loss: 0.851, accuracy: 84.400%\n",
            "Epoch 36/50, avg train loss: 1.801, avg test loss: 0.730, accuracy: 85.133%\n",
            "Epoch 37/50, avg train loss: 1.837, avg test loss: 0.758, accuracy: 85.767%\n",
            "Epoch 38/50, avg train loss: 1.849, avg test loss: 0.767, accuracy: 85.967%\n",
            "Epoch 39/50, avg train loss: 1.750, avg test loss: 0.908, accuracy: 84.500%\n",
            "Epoch 40/50, avg train loss: 1.803, avg test loss: 0.699, accuracy: 85.667%\n",
            "Epoch 41/50, avg train loss: 1.833, avg test loss: 0.807, accuracy: 85.400%\n",
            "Epoch 42/50, avg train loss: 1.845, avg test loss: 0.811, accuracy: 85.400%\n",
            "Epoch 43/50, avg train loss: 1.785, avg test loss: 0.819, accuracy: 85.533%\n",
            "Epoch 44/50, avg train loss: 1.779, avg test loss: 0.761, accuracy: 86.067%\n",
            "Epoch 45/50, avg train loss: 1.809, avg test loss: 0.739, accuracy: 86.267%\n",
            "Epoch 46/50, avg train loss: 1.765, avg test loss: 0.825, accuracy: 85.300%\n",
            "Epoch 47/50, avg train loss: 1.769, avg test loss: 0.729, accuracy: 85.567%\n",
            "Epoch 48/50, avg train loss: 1.739, avg test loss: 0.746, accuracy: 86.233%\n",
            "Epoch 49/50, avg train loss: 1.778, avg test loss: 0.838, accuracy: 85.667%\n",
            "Epoch 50/50, avg train loss: 1.770, avg test loss: 0.780, accuracy: 85.933%\n"
          ]
        }
      ]
    },
    {
      "cell_type": "code",
      "source": [
        "plt.figure(figsize=(10,6))\n",
        "plt.plot(train_loss_log, c='red', label='Train loss', alpha=0.8)\n",
        "plt.plot(val_loss_log, c='blue', label='Validation loss', alpha=0.8)\n",
        "plt.xlabel('Epoch', size=12)\n",
        "plt.ylabel('Loss', size=12)\n",
        "plt.legend(fontsize='12')\n",
        "plt.title('Loss curves', size=12)\n",
        "plt.grid(alpha=0.5)\n",
        "#plt.yscale('log')\n",
        "\n",
        "print('Accuracy over the test set: {:.3f}'.format(test_accuracy))"
      ],
      "metadata": {
        "id": "yXPdw66yCCn3",
        "outputId": "953d44c3-5992-42b5-e299-0e443440c31a",
        "colab": {
          "base_uri": "https://localhost:8080/",
          "height": 424
        }
      },
      "execution_count": null,
      "outputs": [
        {
          "output_type": "stream",
          "name": "stdout",
          "text": [
            "Accuracy over the test set: 85.567\n"
          ]
        },
        {
          "output_type": "display_data",
          "data": {
            "text/plain": [
              "<Figure size 720x432 with 1 Axes>"
            ],
            "image/png": "[encoded data removed]"
          },
          "metadata": {
            "needs_background": "light"
          }
        }
      ]
    },
    {
      "cell_type": "code",
      "source": [
        "torch.save(best_conv_net.state_dict(), 'best_conv_net_params.pt')"
      ],
      "metadata": {
        "id": "oFuAJzbNu68q"
      },
      "execution_count": null,
      "outputs": []
    },
    {
      "cell_type": "code",
      "source": [
        "best_params = {\n",
        "    'dropout_conv0': 0.02131434311129221,\n",
        "    'dropout_conv1': 0.07204307322560044,\n",
        "    'dropout_fc0': 0.14055985014470335,\n",
        "    'dropout_fc1': 0.31072867438449076,\n",
        "    'kernel_size_conv0': 3,\n",
        "    'kernel_size_conv1': 5,\n",
        "    'out_channels_conv0': 5,\n",
        "    'out_channels_conv1': 5,\n",
        "    'out_features_fc0': 54,\n",
        "    'out_features_fc1': 98\n",
        "    }"
      ],
      "metadata": {
        "id": "tC50kfxnPjfE"
      },
      "execution_count": 9,
      "outputs": []
    },
    {
      "cell_type": "code",
      "source": [
        "best_conv_net = Best_conv_net(best_params).to(DEVICE)\n",
        "best_conv_net.load_state_dict(torch.load('saved_models/best_conv_net_params.pt'))"
      ],
      "metadata": {
        "id": "E_GHgK3WPKRK",
        "outputId": "294e5c81-b0ad-4d21-bd72-726ec0f85eec",
        "colab": {
          "base_uri": "https://localhost:8080/"
        }
      },
      "execution_count": 10,
      "outputs": [
        {
          "output_type": "execute_result",
          "data": {
            "text/plain": [
              "<All keys matched successfully>"
            ]
          },
          "metadata": {},
          "execution_count": 10
        }
      ]
    },
    {
      "cell_type": "markdown",
      "source": [
        "## Visualization of feature maps"
      ],
      "metadata": {
        "id": "FqOpBvD0tkdt"
      }
    },
    {
      "cell_type": "code",
      "source": [
        "def show_feature_maps(model, data_index):\n",
        "    activation = {}\n",
        "    def get_activation(name):\n",
        "        def hook(model, input, output):\n",
        "            activation[name] = output.detach()\n",
        "        return hook\n",
        "\n",
        "    model.conv_layers[0].register_forward_hook(get_activation('conv1'))\n",
        "    model.conv_layers[4].register_forward_hook(get_activation('conv2'))\n",
        "    data, _ = train_dataset[data_index]\n",
        "    data.unsqueeze_(0)\n",
        "    output = model(data.to(DEVICE))\n",
        "\n",
        "    act1 = activation['conv1'].squeeze()\n",
        "    fig1, ax1 = plt.subplots(figsize=(3*len(act1), 3), nrows=1, ncols=len(act1))\n",
        "    fig1.suptitle('First convolutional layer', size=16)\n",
        "    for image, ax in zip(act1, ax1):\n",
        "        ax.imshow(image.cpu(), cmap='Greys')\n",
        "\n",
        "    act2 = activation['conv2'].squeeze()\n",
        "    fig1, ax2 = plt.subplots(figsize=(3*len(act2), 3), nrows=1, ncols=len(act2))\n",
        "    fig1.suptitle('Second convolutional layer', size=16)\n",
        "    for image, ax in zip(act2, ax2):\n",
        "        ax.imshow(image.cpu(), cmap='Greys')"
      ],
      "metadata": {
        "id": "G21z_80831Fk"
      },
      "execution_count": 11,
      "outputs": []
    },
    {
      "cell_type": "code",
      "source": [
        "show_feature_maps(best_conv_net, 5)"
      ],
      "metadata": {
        "colab": {
          "base_uri": "https://localhost:8080/",
          "height": 429
        },
        "id": "lGyt63fh7-8L",
        "outputId": "31b2c3e8-a0c2-4399-cfd9-2d4512af07d4"
      },
      "execution_count": 12,
      "outputs": [
        {
          "output_type": "display_data",
          "data": {
            "text/plain": [
              "<Figure size 1080x216 with 5 Axes>"
            ],
            "image/png": "[encoded data removed]"
          },
          "metadata": {
            "needs_background": "light"
          }
        },
        {
          "output_type": "display_data",
          "data": {
            "text/plain": [
              "<Figure size 1080x216 with 5 Axes>"
            ],
            "image/png": "[encoded data removed]"
          },
          "metadata": {
            "needs_background": "light"
          }
        }
      ]
    },
    {
      "cell_type": "code",
      "source": [
        "def show_activation_maps(model, data_index):\n",
        "    activation = {}\n",
        "    def get_activation(name):\n",
        "        def hook(model, input, output):\n",
        "            activation[name] = torch.sigmoid(output).detach()\n",
        "        return hook\n",
        "\n",
        "    model.fc_layers[0].register_forward_hook(get_activation('fc1'))\n",
        "    model.fc_layers[3].register_forward_hook(get_activation('fc2'))\n",
        "    data, _ = train_dataset[data_index]\n",
        "    data.unsqueeze_(0)\n",
        "    output = model(data.to(DEVICE))\n",
        "\n",
        "    act1 = activation['fc1'].squeeze()\n",
        "    fig, ax = plt.subplots(figsize=(12,7), nrows=2, ncols=1)\n",
        "    ax[0].set_title('Activations fc layer 1', size=12)\n",
        "    ax[0].stem(act1.cpu(), markerfmt='C3o');\n",
        "\n",
        "    act2 = activation['fc2'].squeeze()\n",
        "    ax[1].set_title('Activations fc layer 2', size=12)\n",
        "    ax[1].stem(act2.cpu(), markerfmt='C3o');"
      ],
      "metadata": {
        "id": "fOgcqI9e8piC"
      },
      "execution_count": 43,
      "outputs": []
    },
    {
      "cell_type": "code",
      "source": [
        "show_activation_maps(best_conv_net, 4)"
      ],
      "metadata": {
        "id": "reqiiYO6_YKj",
        "outputId": "266e06ff-394c-48f6-f276-3b5d3a95b43c",
        "colab": {
          "base_uri": "https://localhost:8080/",
          "height": 499
        }
      },
      "execution_count": 44,
      "outputs": [
        {
          "output_type": "stream",
          "name": "stderr",
          "text": [
            "/usr/local/lib/python3.7/dist-packages/ipykernel_launcher.py:17: UserWarning: In Matplotlib 3.3 individual lines on a stem plot will be added as a LineCollection instead of individual lines. This significantly improves the performance of a stem plot. To remove this warning and switch to the new behaviour, set the \"use_line_collection\" keyword argument to True.\n",
            "/usr/local/lib/python3.7/dist-packages/ipykernel_launcher.py:21: UserWarning: In Matplotlib 3.3 individual lines on a stem plot will be added as a LineCollection instead of individual lines. This significantly improves the performance of a stem plot. To remove this warning and switch to the new behaviour, set the \"use_line_collection\" keyword argument to True.\n"
          ]
        },
        {
          "output_type": "display_data",
          "data": {
            "text/plain": [
              "<Figure size 864x504 with 2 Axes>"
            ],
            "image/png": "[encoded data removed]"
          },
          "metadata": {
            "needs_background": "light"
          }
        }
      ]
    }
  ]
}