{
  "nbformat": 4,
  "nbformat_minor": 0,
  "metadata": {
    "colab": {
      "name": "HW1.ipynb",
      "provenance": [],
      "authorship_tag": "ABX9TyMEwNsn9cjtn2jz4e9CyTit"
    },
    "kernelspec": {
      "name": "python3",
      "display_name": "Python 3"
    },
    "language_info": {
      "name": "python"
    },
    "accelerator": "GPU"
  },
  "cells": [
    {
      "cell_type": "markdown",
      "metadata": {
        "id": "by2l7vZ170oS"
      },
      "source": [
        "# NNDL - Homework 1\n",
        "## Rosset Lorenzo - 2021859"
      ]
    },
    {
      "cell_type": "code",
      "metadata": {
        "id": "w5Mv_s7l8F62"
      },
      "source": [
        "# Importing libraries\n",
        "import numpy as np\n",
        "import pandas as pd\n",
        "import matplotlib.pyplot as plt\n",
        "import torch\n",
        "import torch.nn as nn\n",
        "import torch.optim as optim\n",
        "from torch.utils.data import Dataset, DataLoader\n",
        "from torchvision import transforms\n",
        "import sklearn as sk\n",
        "from sklearn.model_selection import KFold"
      ],
      "execution_count": 16,
      "outputs": []
    },
    {
      "cell_type": "markdown",
      "metadata": {
        "id": "BvK4oBI48CJi"
      },
      "source": [
        "# Regression Task"
      ]
    },
    {
      "cell_type": "markdown",
      "metadata": {
        "id": "kqgeNK2P9KlL"
      },
      "source": [
        "* The goal is to train a neural network to approximate an unknown function:\n",
        "$$ \n",
        "f:\\mathbb{R}→\\mathbb{R} \\\\\n",
        "x↦y=f(x) \\\\\n",
        "\\text{network}(x) \\approx f(x)\n",
        "$$\n",
        "* As training point, you only have noisy measures from the target function.\n",
        "$$\n",
        "\\hat{y} = f(x) + noise\n",
        "$$\n",
        "* Consider to create a validation set from you training data, or use a k-fold cross-validation strategy. You may find useful these functions from the `scikit-learn` library:\n",
        "    - [train_test_split](https://scikit-learn.org/stable/modules/generated/sklearn.model_selection.train_test_split.html)\n",
        "    - [KFold](https://scikit-learn.org/stable/modules/generated/sklearn.model_selection.KFold.html#sklearn.model_selection.KFold) "
      ]
    },
    {
      "cell_type": "markdown",
      "metadata": {
        "id": "ffgGN9KU9fQ1"
      },
      "source": [
        "## Dataset and dataloader"
      ]
    },
    {
      "cell_type": "code",
      "metadata": {
        "id": "B7cKC0_5BQP6",
        "colab": {
          "base_uri": "https://localhost:8080/"
        },
        "outputId": "484b8c79-03ca-41f4-bb00-e33dc44c3a9d"
      },
      "source": [
        "!wget -P regression_dataset https://gitlab.dei.unipd.it/michieli/nnld-2021-22-lab-resources/-/raw/main/homework1/train_data.csv\n",
        "!wget -P regression_dataset https://gitlab.dei.unipd.it/michieli/nnld-2021-22-lab-resources/-/raw/main/homework1/test_data.csv "
      ],
      "execution_count": 2,
      "outputs": [
        {
          "output_type": "stream",
          "name": "stdout",
          "text": [
            "--2021-11-07 17:17:23--  https://gitlab.dei.unipd.it/michieli/nnld-2021-22-lab-resources/-/raw/main/homework1/train_data.csv\n",
            "Resolving gitlab.dei.unipd.it (gitlab.dei.unipd.it)... 147.162.2.85\n",
            "Connecting to gitlab.dei.unipd.it (gitlab.dei.unipd.it)|147.162.2.85|:443... connected.\n",
            "HTTP request sent, awaiting response... 200 OK\n",
            "Length: 3776 (3.7K) [text/plain]\n",
            "Saving to: ‘regression_dataset/train_data.csv’\n",
            "\n",
            "train_data.csv      100%[===================>]   3.69K  --.-KB/s    in 0s      \n",
            "\n",
            "2021-11-07 17:17:24 (50.4 MB/s) - ‘regression_dataset/train_data.csv’ saved [3776/3776]\n",
            "\n",
            "--2021-11-07 17:17:24--  https://gitlab.dei.unipd.it/michieli/nnld-2021-22-lab-resources/-/raw/main/homework1/test_data.csv\n",
            "Resolving gitlab.dei.unipd.it (gitlab.dei.unipd.it)... 147.162.2.85\n",
            "Connecting to gitlab.dei.unipd.it (gitlab.dei.unipd.it)|147.162.2.85|:443... connected.\n",
            "HTTP request sent, awaiting response... 200 OK\n",
            "Length: 3788 (3.7K) [text/plain]\n",
            "Saving to: ‘regression_dataset/test_data.csv’\n",
            "\n",
            "test_data.csv       100%[===================>]   3.70K  --.-KB/s    in 0s      \n",
            "\n",
            "2021-11-07 17:17:25 (56.2 MB/s) - ‘regression_dataset/test_data.csv’ saved [3788/3788]\n",
            "\n"
          ]
        }
      ]
    },
    {
      "cell_type": "code",
      "metadata": {
        "id": "ZiIFLt-I7_B1"
      },
      "source": [
        "train_df = pd.read_csv('regression_dataset/train_data.csv')\n",
        "test_df = pd.read_csv('regression_dataset/test_data.csv')"
      ],
      "execution_count": 3,
      "outputs": []
    },
    {
      "cell_type": "code",
      "metadata": {
        "id": "onW43mOX-DFN",
        "colab": {
          "base_uri": "https://localhost:8080/",
          "height": 520
        },
        "outputId": "98e9e9e0-25a1-4cab-cce3-31676950f856"
      },
      "source": [
        "fig = plt.figure(figsize=(12,8))\n",
        "plt.scatter(test_df.input, test_df.label, label='Test points', alpha=0.6, c='red')\n",
        "plt.scatter(train_df.input, train_df.label, label='Training points', alpha=0.6, c='blue')\n",
        "plt.xlabel('input', size=15)\n",
        "plt.ylabel('label', size=15)\n",
        "plt.title('Data', size=15, fontweight='bold')\n",
        "plt.legend(fontsize=15)\n",
        "plt.show()"
      ],
      "execution_count": 4,
      "outputs": [
        {
          "output_type": "display_data",
          "data": {
            "image/png": "[encoded data removed]",
            "text/plain": [
              "<Figure size 864x576 with 1 Axes>"
            ]
          },
          "metadata": {
            "needs_background": "light"
          }
        }
      ]
    },
    {
      "cell_type": "markdown",
      "metadata": {
        "id": "75mVxYHmRCkS"
      },
      "source": [
        "### Dataset"
      ]
    },
    {
      "cell_type": "code",
      "metadata": {
        "id": "7Ip6GojWBzXj"
      },
      "source": [
        "# Dataset class\n",
        "class RegressionDataset(Dataset):\n",
        "    \n",
        "    def __init__(self, csv_file, transform=None):\n",
        "        self.transform = transform\n",
        "        self.df = pd.read_csv(csv_file)\n",
        "    \n",
        "    def __len__(self):\n",
        "        return len(self.df)\n",
        "    \n",
        "    def __getitem__(self, idx):\n",
        "        row = self.df.iloc[idx]\n",
        "        sample = (row[0], row[1])\n",
        "        if self.transform:\n",
        "            sample = self.transform(sample)\n",
        "        return sample\n",
        "\n",
        "# Transforms class\n",
        "class ToTensor(object):\n",
        "\n",
        "    def __call_(self, sample):\n",
        "        x, y = sample\n",
        "        return (torch.tensor([x]).float(),\n",
        "                torch.tensor([y]).float())"
      ],
      "execution_count": 5,
      "outputs": []
    },
    {
      "cell_type": "code",
      "metadata": {
        "id": "X5flC6WoTJz0",
        "outputId": "440f393b-79fb-4b6a-8472-61e367e794b1",
        "colab": {
          "base_uri": "https://localhost:8080/"
        }
      },
      "source": [
        "composed_transform = transforms.Compose([ToTensor()])\n",
        "train_dataset = RegressionDataset('regression_dataset/train_data.csv', transform=transforms.ToTensor())\n",
        "test_dataset = RegressionDataset('regression_dataset/test_data.csv', transform=transforms.ToTensor())\n",
        "\n",
        "print('Training set size:', len(train_dataset))\n",
        "print('Test set size:', len(test_dataset))"
      ],
      "execution_count": 15,
      "outputs": [
        {
          "output_type": "stream",
          "name": "stdout",
          "text": [
            "Training set size: 100\n",
            "Test set size: 100\n"
          ]
        }
      ]
    },
    {
      "cell_type": "code",
      "metadata": {
        "id": "ZLW2prwhYbl_"
      },
      "source": [
        "# Define the K-fold cross validation\n",
        "k_folds = 5\n",
        "num_epochs = 1 # To modify!\n",
        "Kfold = KFold(n_splits=k_folds, shuffle=True)"
      ],
      "execution_count": 17,
      "outputs": []
    },
    {
      "cell_type": "markdown",
      "metadata": {
        "id": "m9N3X4rRYSi2"
      },
      "source": [
        "### Dataloader"
      ]
    },
    {
      "cell_type": "code",
      "metadata": {
        "id": "xtp-ET7JTC7r"
      },
      "source": [
        "train_dataloader = DataLoader(train_dataset, batch_size=10, shuffle=True, num_workers=0)\n",
        "test_dataloader = DataLoader(train_dataset, batch_size=len(test_dataset), shuffle=False, num_workers=0)"
      ],
      "execution_count": 8,
      "outputs": []
    },
    {
      "cell_type": "markdown",
      "metadata": {
        "id": "h3dJMon0ZjvW"
      },
      "source": [
        "## Training loop"
      ]
    },
    {
      "cell_type": "code",
      "metadata": {
        "id": "_ySyUpXZVx23",
        "outputId": "ade6a71b-b172-4410-ceeb-cb74e330f86e",
        "colab": {
          "base_uri": "https://localhost:8080/"
        }
      },
      "source": [
        "# Check if the GPU is available\n",
        "device = torch.device(\"cuda\") if torch.cuda.is_available() else torch.device(\"cpu\")\n",
        "print(f\"Training device: {device}\")"
      ],
      "execution_count": 9,
      "outputs": [
        {
          "output_type": "stream",
          "name": "stdout",
          "text": [
            "Training device: cuda\n"
          ]
        }
      ]
    },
    {
      "cell_type": "code",
      "metadata": {
        "id": "tMf3Ra0DZqjO"
      },
      "source": [
        "# Network architecture\n",
        "class RegNet(nn.Module):\n",
        "\n",
        "    def __init__(self, Nin, N1, N2, Nout):\n",
        "        super().__init__()\n",
        "        self.l1 = nn.Linear(in_features=Nin, out_features=N1)\n",
        "        self.l2 = nn.Linear(in_features=N1, out_features=N2)\n",
        "        self.l3 = nn.Linear(in_features=N2, out_features=Nout)\n",
        "        self.act = nn.ReLU()\n",
        "    \n",
        "    def forward(self, x, additional_out=False):\n",
        "        x = self.act(self.l1(x))\n",
        "        x = self.act(self.l2(x))\n",
        "        x = self.l3(x)\n",
        "        return x"
      ],
      "execution_count": 10,
      "outputs": []
    },
    {
      "cell_type": "code",
      "metadata": {
        "id": "pTeXGaxiZtAx",
        "outputId": "347d6dac-6ed3-4bdb-b0c4-8851f64cb5c9",
        "colab": {
          "base_uri": "https://localhost:8080/"
        }
      },
      "source": [
        "# Initialize the network\n",
        "torch.manual_seed(0)\n",
        "Nin = 1\n",
        "N1 = 128\n",
        "N2 = 256\n",
        "Nout = 1\n",
        "regnet = RegNet(Nin, N1, N2, Nout)\n",
        "regnet.to(device)"
      ],
      "execution_count": 11,
      "outputs": [
        {
          "output_type": "execute_result",
          "data": {
            "text/plain": [
              "RegNet(\n",
              "  (l1): Linear(in_features=1, out_features=128, bias=True)\n",
              "  (l2): Linear(in_features=128, out_features=256, bias=True)\n",
              "  (l3): Linear(in_features=256, out_features=1, bias=True)\n",
              "  (act): ReLU()\n",
              ")"
            ]
          },
          "metadata": {},
          "execution_count": 11
        }
      ]
    },
    {
      "cell_type": "code",
      "metadata": {
        "id": "qEIm3H09c1ju"
      },
      "source": [
        "# Loss function\n",
        "loss_fn = nn.MSELoss()\n",
        "\n",
        "# Optimizer\n",
        "optimizer = optim.Adam(regnet.parameters(), lr=1e-3)"
      ],
      "execution_count": 12,
      "outputs": []
    },
    {
      "cell_type": "code",
      "metadata": {
        "id": "NUilGpQcdcpq"
      },
      "source": [
        "# Training loop\n",
        "num_epochs = 100\n",
        "train_loss_log = []"
      ],
      "execution_count": null,
      "outputs": []
    }
  ]
}