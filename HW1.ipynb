{
  "nbformat": 4,
  "nbformat_minor": 0,
  "metadata": {
    "colab": {
      "name": "HW1.ipynb",
      "provenance": [],
      "authorship_tag": "ABX9TyMbPQeeIDcXmassnBo5NfNM"
    },
    "kernelspec": {
      "name": "python3",
      "display_name": "Python 3"
    },
    "language_info": {
      "name": "python"
    }
  },
  "cells": [
    {
      "cell_type": "markdown",
      "metadata": {
        "id": "by2l7vZ170oS"
      },
      "source": [
        "# NNDL - Homework 1\n",
        "## Rosset Lorenzo - 2021859"
      ]
    },
    {
      "cell_type": "code",
      "metadata": {
        "id": "w5Mv_s7l8F62"
      },
      "source": [
        "# Importing libraries\n",
        "import numpy as np\n",
        "import pandas as pd\n",
        "import matplotlib.pyplot as plt\n",
        "import torch\n",
        "import torchvision"
      ],
      "execution_count": 1,
      "outputs": []
    },
    {
      "cell_type": "markdown",
      "metadata": {
        "id": "BvK4oBI48CJi"
      },
      "source": [
        "## Regression Task"
      ]
    },
    {
      "cell_type": "code",
      "metadata": {
        "id": "ZiIFLt-I7_B1"
      },
      "source": [
        ""
      ],
      "execution_count": null,
      "outputs": []
    }
  ]
}