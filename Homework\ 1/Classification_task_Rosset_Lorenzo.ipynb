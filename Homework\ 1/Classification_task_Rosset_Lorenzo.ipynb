{
  "nbformat": 4,
  "nbformat_minor": 0,
  "metadata": {
    "colab": {
      "name": "Classification_task-Rosset_Lorenzo.ipynb",
      "provenance": [],
      "authorship_tag": "ABX9TyMqgQxPMWSZ7papD02PNQos"
    },
    "kernelspec": {
      "name": "python3",
      "display_name": "Python 3"
    },
    "language_info": {
      "name": "python"
    },
    "accelerator": "GPU"
  },
  "cells": [
    {
      "cell_type": "markdown",
      "source": [
        "# Neural Networks and Deep Learning - Homework 1: Supervised Learning\n",
        "## Classification Task\n",
        "## Rosset Lorenzo, mat. 2021859"
      ],
      "metadata": {
        "id": "oSDD83HDaPh1"
      }
    },
    {
      "cell_type": "code",
      "source": [
        "!git clone https://github.com/rossetl/NNDL.git\n",
        "%cd NNDL/Homework\\ 1"
      ],
      "metadata": {
        "colab": {
          "base_uri": "https://localhost:8080/"
        },
        "id": "Zydee3r-afIo",
        "outputId": "faa470af-3398-48d6-d373-bba34b5cf5b6"
      },
      "execution_count": 1,
      "outputs": [
        {
          "output_type": "stream",
          "name": "stdout",
          "text": [
            "Cloning into 'NNDL'...\n",
            "remote: Enumerating objects: 49, done.\u001b[K\n",
            "remote: Counting objects: 100% (49/49), done.\u001b[K\n",
            "remote: Compressing objects: 100% (49/49), done.\u001b[K\n",
            "remote: Total 49 (delta 7), reused 3 (delta 0), pack-reused 0\u001b[K\n",
            "Unpacking objects: 100% (49/49), done.\n",
            "/content/NNDL/Homework 1\n"
          ]
        }
      ]
    },
    {
      "cell_type": "code",
      "source": [
        "from re import I\n",
        "import pandas as pd\n",
        "import matplotlib.pyplot as plt\n",
        "from matplotlib import cm\n",
        "import numpy as np\n",
        "\n",
        "import torch\n",
        "import torch.nn as nn\n",
        "import torch.optim as optim\n",
        "import torchvision\n",
        "from torchvision import transforms\n",
        "from torch.utils.data import Dataset, DataLoader, SubsetRandomSampler\n",
        "from sklearn.model_selection import KFold\n",
        "from torch.utils.data.dataset import Subset"
      ],
      "metadata": {
        "id": "cJaOcEtOahnH"
      },
      "execution_count": 2,
      "outputs": []
    },
    {
      "cell_type": "code",
      "source": [
        "transform = transforms.Compose(\n",
        "    [transforms.ToTensor(),\n",
        "     transforms.Normalize((0.), (1.))]) # try to change this\n",
        "\n",
        "train_dataset = torchvision.datasets.FashionMNIST('classifier_data', train=True, download=True, transform=transform)\n",
        "test_dataset  = torchvision.datasets.FashionMNIST('classifier_data', train=False, download=True, transform=transform)"
      ],
      "metadata": {
        "id": "0syPBu3faoOY"
      },
      "execution_count": 24,
      "outputs": []
    },
    {
      "cell_type": "code",
      "source": [
        "BATCHSIZE = 10\n",
        "DEVICE = torch.device('cuda') if torch.cuda.is_available() else torch.device('cpu')\n",
        "NUM_CLASSES = 10\n",
        "print(f'Training device:', DEVICE)"
      ],
      "metadata": {
        "colab": {
          "base_uri": "https://localhost:8080/"
        },
        "id": "BjEhv9pRcNfr",
        "outputId": "0ec06e8a-f4c5-4332-86f5-b48d6d9896e2"
      },
      "execution_count": 25,
      "outputs": [
        {
          "output_type": "stream",
          "name": "stdout",
          "text": [
            "Training device: cuda\n"
          ]
        }
      ]
    },
    {
      "cell_type": "code",
      "source": [
        "train_dataloader = DataLoader(train_dataset, batch_size=BATCHSIZE, shuffle=True, num_workers=1)\n",
        "test_dataloader = DataLoader(test_dataset, batch_size=1, shuffle=True, num_workers=1)"
      ],
      "metadata": {
        "id": "_Z9bV-1xbMtJ"
      },
      "execution_count": 26,
      "outputs": []
    },
    {
      "cell_type": "code",
      "source": [
        "train_dataset"
      ],
      "metadata": {
        "colab": {
          "base_uri": "https://localhost:8080/"
        },
        "id": "GxFKCVOtdjRX",
        "outputId": "cbd6ef73-959e-4f27-97f8-7dedd81d0a1e"
      },
      "execution_count": 27,
      "outputs": [
        {
          "output_type": "execute_result",
          "data": {
            "text/plain": [
              "Dataset FashionMNIST\n",
              "    Number of datapoints: 60000\n",
              "    Root location: classifier_data\n",
              "    Split: Train\n",
              "    StandardTransform\n",
              "Transform: Compose(\n",
              "               ToTensor()\n",
              "               Normalize(mean=0.0, std=1.0)\n",
              "           )"
            ]
          },
          "metadata": {},
          "execution_count": 27
        }
      ]
    },
    {
      "cell_type": "code",
      "source": [
        "classes = ['T-shirt', 'Trouser', 'Pullover', 'Dress', 'Coat', 'Sandal', 'Shirt', 'Sneaker', 'Bag', 'Ankle boot']\n",
        "\n",
        "def imshow(img, title):\n",
        "    npimg = img.numpy()[0]\n",
        "    plt.imshow(npimg, cmap='Greys')\n",
        "    plt.title(title, size=15)\n",
        "    plt.show()\n",
        "\n",
        "idx = 3\n",
        "imshow(train_dataset[idx][0], classes[train_dataset[idx][1]])"
      ],
      "metadata": {
        "colab": {
          "base_uri": "https://localhost:8080/",
          "height": 283
        },
        "id": "qXPpvQayi5Ms",
        "outputId": "e2e0b5da-40e6-492d-fa57-9bab29d43249"
      },
      "execution_count": 39,
      "outputs": [
        {
          "output_type": "display_data",
          "data": {
            "text/plain": [
              "<Figure size 432x288 with 1 Axes>"
            ],
            "image/png": "[encoded data removed]"
          },
          "metadata": {
            "needs_background": "light"
          }
        }
      ]
    },
    {
      "cell_type": "markdown",
      "source": [
        "## Simple Convolutional Network"
      ],
      "metadata": {
        "id": "fMslE6P6iJjH"
      }
    },
    {
      "cell_type": "code",
      "source": [
        "class Conv_net(nn.Module):\n",
        "\n",
        "    def __init__(self):\n",
        "        super().__init__()\n",
        "        self.conv1 = nn.Conv2d(in_channels=1, out_channels=6, kernel_size=5)\n",
        "        self.pool=nn.MaxPool2d(kernel_size=2, stride=2)\n",
        "        self.conv2 = nn.Conv2d(in_channels=6, out_channels=12, kernel_size=5)\n",
        "        self.fc1 = nn.Linear(12*4*4, 120)\n",
        "        self.fc2 = nn.Linear(120, 60)\n",
        "        self.fc3 = nn.Linear(60, 10)\n",
        "        self.activation = nn.ReLU()\n",
        "    \n",
        "    def forward(self, x):\n",
        "        x = self.pool(self.activation(self.conv1(x)))\n",
        "        x = self.pool(self.activation(self.conv2(x)))\n",
        "        x = torch.flatten(x, 1)\n",
        "        x = self.activation(self.fc1(x))\n",
        "        x = self.activation(self.fc2(x))\n",
        "        x = self.fc3(x)\n",
        "        return x"
      ],
      "metadata": {
        "id": "f3YWF2fbhhEP"
      },
      "execution_count": 59,
      "outputs": []
    },
    {
      "cell_type": "code",
      "source": [
        "conv_net = Conv_net().to(DEVICE)\n",
        "loss_fn = nn.CrossEntropyLoss()\n",
        "optimizer = optim.Adam(conv_net.parameters(), lr=1e-3)"
      ],
      "metadata": {
        "id": "HS6Tb0ths_M7"
      },
      "execution_count": 60,
      "outputs": []
    },
    {
      "cell_type": "code",
      "source": [
        "def train_epoch(model, device, dataloader, loss_fn, optimizer):\n",
        "    train_loss = []\n",
        "    model.train()\n",
        "    for sample_batched in dataloader:\n",
        "        x_batch = sample_batched[0].to(device)\n",
        "        label_batch = sample_batched[1].to(device)\n",
        "        out = model(x_batch)\n",
        "        loss = loss_fn(out, label_batch)\n",
        "        model.zero_grad()\n",
        "        loss.backward()\n",
        "        optimizer.step()\n",
        "        loss_batch = loss.detach().cpu().numpy()\n",
        "        train_loss.append(loss_batch)\n",
        "    return np.mean(train_loss)\n",
        "\n",
        "def val_epoch(model, device, dataloader, loss_fn):\n",
        "    val_loss = []\n",
        "    model.eval()\n",
        "    with torch.no_grad():\n",
        "        for sample_batched in dataloader:\n",
        "            x_batch = sample_batched[0].to(device)\n",
        "            label_batch = sample_batched[1].to(device)\n",
        "            out = model(x_batch)\n",
        "            loss = loss_fn(out, label_batch)\n",
        "            loss_batch = loss.detach().cpu().numpy()\n",
        "            val_loss.append(loss_batch)\n",
        "    return np.mean(val_loss)"
      ],
      "metadata": {
        "id": "kJCaDcoMtfIc"
      },
      "execution_count": 61,
      "outputs": []
    },
    {
      "cell_type": "code",
      "source": [
        "num_epochs = 5\n",
        "train_loss_log = []\n",
        "test_loss_log = []\n",
        "for epoch in range(num_epochs):\n",
        "    train_loss = train_epoch(conv_net, DEVICE, train_dataloader, loss_fn, optimizer)\n",
        "    train_loss_log.append(train_loss)\n",
        "\n",
        "    test_loss = val_epoch(conv_net, DEVICE, test_dataloader, loss_fn)\n",
        "    test_loss_log.append(test_loss)\n",
        "\n",
        "    print('Epoch {:}/{:}, avg train loss: {:.3f}, avg test loss: {:.3f}'.format(epoch + 1, num_epochs, train_loss, test_loss))"
      ],
      "metadata": {
        "colab": {
          "base_uri": "https://localhost:8080/"
        },
        "id": "iTmlm35ItUJc",
        "outputId": "cf8f5ee8-ff75-4dbc-e05f-9932fdb70b67"
      },
      "execution_count": 62,
      "outputs": [
        {
          "output_type": "stream",
          "name": "stdout",
          "text": [
            "Epoch 1/5, avg train loss: 0.562, avg test loss: 0.414\n",
            "Epoch 2/5, avg train loss: 0.367, avg test loss: 0.362\n",
            "Epoch 3/5, avg train loss: 0.323, avg test loss: 0.340\n",
            "Epoch 4/5, avg train loss: 0.295, avg test loss: 0.332\n",
            "Epoch 5/5, avg train loss: 0.278, avg test loss: 0.322\n"
          ]
        }
      ]
    },
    {
      "cell_type": "code",
      "source": [
        ""
      ],
      "metadata": {
        "id": "dknNJhLTvGHq"
      },
      "execution_count": null,
      "outputs": []
    }
  ]
}